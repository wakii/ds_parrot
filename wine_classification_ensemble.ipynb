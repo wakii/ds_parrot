{
  "nbformat": 4,
  "nbformat_minor": 0,
  "metadata": {
    "colab": {
      "name": "Untitled1.ipynb",
      "provenance": [],
      "authorship_tag": "ABX9TyNPhMaARDcc9a18Ypmc4a0f",
      "include_colab_link": true
    },
    "kernelspec": {
      "name": "python3",
      "display_name": "Python 3"
    },
    "accelerator": "GPU"
  },
  "cells": [
    {
      "cell_type": "markdown",
      "metadata": {
        "id": "view-in-github",
        "colab_type": "text"
      },
      "source": [
        "<a href=\"https://colab.research.google.com/github/wakii/ds_parrot/blob/master/wine_classification_ensemble.ipynb\" target=\"_parent\"><img src=\"https://colab.research.google.com/assets/colab-badge.svg\" alt=\"Open In Colab\"/></a>"
      ]
    },
    {
      "cell_type": "markdown",
      "metadata": {
        "id": "v2q8LKeMVGF7",
        "colab_type": "text"
      },
      "source": [
        "# Wine Classification with Random Forest, XGBoost, LightGBM\n",
        "\n",
        "## 2기 최우혁"
      ]
    },
    {
      "cell_type": "markdown",
      "metadata": {
        "id": "zP5q2lcxVTOW",
        "colab_type": "text"
      },
      "source": [
        "## Environment Setting"
      ]
    },
    {
      "cell_type": "code",
      "metadata": {
        "id": "F160YdrZQv5z",
        "colab_type": "code",
        "colab": {
          "base_uri": "https://localhost:8080/",
          "height": 98
        },
        "outputId": "a42d6301-efbc-4c6a-a4cc-c0b8cc5510a0"
      },
      "source": [
        "!pip install sklearn"
      ],
      "execution_count": 84,
      "outputs": [
        {
          "output_type": "stream",
          "text": [
            "Requirement already satisfied: sklearn in /usr/local/lib/python3.6/dist-packages (0.0)\n",
            "Requirement already satisfied: scikit-learn in /usr/local/lib/python3.6/dist-packages (from sklearn) (0.22.2.post1)\n",
            "Requirement already satisfied: numpy>=1.11.0 in /usr/local/lib/python3.6/dist-packages (from scikit-learn->sklearn) (1.18.3)\n",
            "Requirement already satisfied: scipy>=0.17.0 in /usr/local/lib/python3.6/dist-packages (from scikit-learn->sklearn) (1.4.1)\n",
            "Requirement already satisfied: joblib>=0.11 in /usr/local/lib/python3.6/dist-packages (from scikit-learn->sklearn) (0.14.1)\n"
          ],
          "name": "stdout"
        }
      ]
    },
    {
      "cell_type": "code",
      "metadata": {
        "id": "7HDUOa3JQ3e9",
        "colab_type": "code",
        "colab": {}
      },
      "source": [
        "from __future__ import absolute_import, division, print_function, unicode_literals\n",
        "\n",
        "import os\n",
        "import sys\n",
        "\n",
        "import numpy as np\n",
        "import pandas as pd\n",
        "import matplotlib.pyplot as plt\n",
        "import seaborn as sns\n",
        "%matplotlib inline"
      ],
      "execution_count": 0,
      "outputs": []
    },
    {
      "cell_type": "markdown",
      "metadata": {
        "id": "ZlH2Vph_VahB",
        "colab_type": "text"
      },
      "source": [
        "## Data Fetching, Preprocessing"
      ]
    },
    {
      "cell_type": "code",
      "metadata": {
        "id": "ssIqxty2Q-xZ",
        "colab_type": "code",
        "colab": {}
      },
      "source": [
        "# import pandas as pd\n",
        "red = pd.read_csv('http://archive.ics.uci.edu/ml/machine-learning-databases/wine-quality/winequality-red.csv', sep=';' )\n",
        "white = pd.read_csv('http://archive.ics.uci.edu/ml/machine-learning-databases/wine-quality/winequality-white.csv', sep=';' )"
      ],
      "execution_count": 0,
      "outputs": []
    },
    {
      "cell_type": "code",
      "metadata": {
        "id": "82mnjNdJRCl8",
        "colab_type": "code",
        "colab": {}
      },
      "source": [
        "red['type'] = 0\n",
        "white['type'] = 1"
      ],
      "execution_count": 0,
      "outputs": []
    },
    {
      "cell_type": "code",
      "metadata": {
        "id": "U_vcYAOSRDQ1",
        "colab_type": "code",
        "colab": {
          "base_uri": "https://localhost:8080/",
          "height": 345
        },
        "outputId": "dc287e29-4f42-4cf2-80c5-18525a397392"
      },
      "source": [
        "raw_data = pd.concat([red,white])\n",
        "raw_data.info()"
      ],
      "execution_count": 88,
      "outputs": [
        {
          "output_type": "stream",
          "text": [
            "<class 'pandas.core.frame.DataFrame'>\n",
            "Int64Index: 6497 entries, 0 to 4897\n",
            "Data columns (total 13 columns):\n",
            " #   Column                Non-Null Count  Dtype  \n",
            "---  ------                --------------  -----  \n",
            " 0   fixed acidity         6497 non-null   float64\n",
            " 1   volatile acidity      6497 non-null   float64\n",
            " 2   citric acid           6497 non-null   float64\n",
            " 3   residual sugar        6497 non-null   float64\n",
            " 4   chlorides             6497 non-null   float64\n",
            " 5   free sulfur dioxide   6497 non-null   float64\n",
            " 6   total sulfur dioxide  6497 non-null   float64\n",
            " 7   density               6497 non-null   float64\n",
            " 8   pH                    6497 non-null   float64\n",
            " 9   sulphates             6497 non-null   float64\n",
            " 10  alcohol               6497 non-null   float64\n",
            " 11  quality               6497 non-null   int64  \n",
            " 12  type                  6497 non-null   int64  \n",
            "dtypes: float64(11), int64(2)\n",
            "memory usage: 710.6 KB\n"
          ],
          "name": "stdout"
        }
      ]
    },
    {
      "cell_type": "code",
      "metadata": {
        "id": "hUVB460dRFRY",
        "colab_type": "code",
        "colab": {}
      },
      "source": [
        "raw_data[['residual sugar','chlorides','free sulfur dioxide','total sulfur dioxide','density','sulphates']] = raw_data[['residual sugar','chlorides','free sulfur dioxide','total sulfur dioxide','density','sulphates']].apply(np.log)"
      ],
      "execution_count": 0,
      "outputs": []
    },
    {
      "cell_type": "code",
      "metadata": {
        "id": "EMwBNyMrRKNv",
        "colab_type": "code",
        "colab": {
          "base_uri": "https://localhost:8080/",
          "height": 280
        },
        "outputId": "8ac5db7b-05c7-45db-89d1-b4e7cd6f981f"
      },
      "source": [
        "train_pre = raw_data[['fixed acidity', 'volatile acidity', 'citric acid', 'residual sugar',\n",
        "       'chlorides', 'free sulfur dioxide', 'total sulfur dioxide', 'density', 'sulphates']]\n",
        "train_pre.info()"
      ],
      "execution_count": 90,
      "outputs": [
        {
          "output_type": "stream",
          "text": [
            "<class 'pandas.core.frame.DataFrame'>\n",
            "Int64Index: 6497 entries, 0 to 4897\n",
            "Data columns (total 9 columns):\n",
            " #   Column                Non-Null Count  Dtype  \n",
            "---  ------                --------------  -----  \n",
            " 0   fixed acidity         6497 non-null   float64\n",
            " 1   volatile acidity      6497 non-null   float64\n",
            " 2   citric acid           6497 non-null   float64\n",
            " 3   residual sugar        6497 non-null   float64\n",
            " 4   chlorides             6497 non-null   float64\n",
            " 5   free sulfur dioxide   6497 non-null   float64\n",
            " 6   total sulfur dioxide  6497 non-null   float64\n",
            " 7   density               6497 non-null   float64\n",
            " 8   sulphates             6497 non-null   float64\n",
            "dtypes: float64(9)\n",
            "memory usage: 507.6 KB\n"
          ],
          "name": "stdout"
        }
      ]
    },
    {
      "cell_type": "markdown",
      "metadata": {
        "id": "xhUqxqsOVf4m",
        "colab_type": "text"
      },
      "source": [
        "## Classification"
      ]
    },
    {
      "cell_type": "markdown",
      "metadata": {
        "id": "nU8RCLijVvRH",
        "colab_type": "text"
      },
      "source": [
        "### Decision Tree"
      ]
    },
    {
      "cell_type": "code",
      "metadata": {
        "id": "GPTLz95kRTcM",
        "colab_type": "code",
        "colab": {}
      },
      "source": [
        "from sklearn.model_selection import train_test_split\n",
        "from sklearn.tree import DecisionTreeClassifier\n",
        "from sklearn.ensemble import RandomForestClassifier\n",
        "from xgboost import XGBClassifier\n",
        "from lightgbm import LGBMClassifier, plot_importance\n",
        "from sklearn.metrics import accuracy_score\n",
        "\n",
        "#Regression 문제의 경우, RandomForestRegressor, XGBRegressor, LGBMRregressor로 import 가능\n",
        "x_train, x_test, y_train, y_test = train_test_split(train_pre, raw_data[['type']], test_size=0.2, random_state=13)"
      ],
      "execution_count": 0,
      "outputs": []
    },
    {
      "cell_type": "code",
      "metadata": {
        "id": "rHrk_fNNRfZJ",
        "colab_type": "code",
        "colab": {
          "base_uri": "https://localhost:8080/",
          "height": 49
        },
        "outputId": "228562f6-8c32-4c35-abfb-24580bf8d28a"
      },
      "source": [
        "tree = DecisionTreeClassifier(max_depth=3, random_state=123457)\n",
        "tree.fit(x_train, y_train)\n",
        "\n",
        "train_score = tree.score(x_train, y_train)\n",
        "test_score = tree.score(x_test, y_test)\n",
        "\n",
        "predict_y = tree.predict(x_test) # x_train을 넣은 결과가 y_train / x_test를 넣은 결과가 y_test\n",
        "print('Score1: {}'.format(tree.score(x_train, y_train)))\n",
        "print('Score2: {}'.format(tree.score(x_test, y_test)))"
      ],
      "execution_count": 92,
      "outputs": [
        {
          "output_type": "stream",
          "text": [
            "Score1: 0.9751779873003656\n",
            "Score2: 0.9707692307692307\n"
          ],
          "name": "stdout"
        }
      ]
    },
    {
      "cell_type": "code",
      "metadata": {
        "id": "WrPkKM2IRh2m",
        "colab_type": "code",
        "colab": {
          "base_uri": "https://localhost:8080/",
          "height": 49
        },
        "outputId": "2aa5c264-0345-427d-c674-15719f54f6bf"
      },
      "source": [
        "from sklearn.metrics import confusion_matrix\n",
        "confusion_matrix(y_test, predict_y)"
      ],
      "execution_count": 93,
      "outputs": [
        {
          "output_type": "execute_result",
          "data": {
            "text/plain": [
              "array([[299,  16],\n",
              "       [ 22, 963]])"
            ]
          },
          "metadata": {
            "tags": []
          },
          "execution_count": 93
        }
      ]
    },
    {
      "cell_type": "code",
      "metadata": {
        "id": "cPtWTfR3RpY0",
        "colab_type": "code",
        "colab": {}
      },
      "source": [
        "#               red  |  white\n",
        "# red    예측    299     16\n",
        "# white  예측    22      963"
      ],
      "execution_count": 0,
      "outputs": []
    },
    {
      "cell_type": "markdown",
      "metadata": {
        "id": "IaWloaemV0WN",
        "colab_type": "text"
      },
      "source": [
        "### Random Forest"
      ]
    },
    {
      "cell_type": "code",
      "metadata": {
        "id": "3zy3UoBUXkSa",
        "colab_type": "code",
        "colab": {}
      },
      "source": [
        "from sklearn.model_selection import GridSearchCV"
      ],
      "execution_count": 0,
      "outputs": []
    },
    {
      "cell_type": "code",
      "metadata": {
        "id": "OLRzv2vdRr2b",
        "colab_type": "code",
        "colab": {
          "base_uri": "https://localhost:8080/",
          "height": 85
        },
        "outputId": "e698c887-ffec-4df2-8680-fe1a10ebfce8"
      },
      "source": [
        "rf = RandomForestClassifier(random_state = 123457)\n",
        "rf.fit(x_train, y_train)\n",
        "\n",
        "rf_predict = rf.predict(x_test)\n",
        "print('Random Forest Score: {}'.format(accuracy_score(y_test, rf_predict)))"
      ],
      "execution_count": 96,
      "outputs": [
        {
          "output_type": "stream",
          "text": [
            "/usr/local/lib/python3.6/dist-packages/ipykernel_launcher.py:2: DataConversionWarning: A column-vector y was passed when a 1d array was expected. Please change the shape of y to (n_samples,), for example using ravel().\n",
            "  \n"
          ],
          "name": "stderr"
        },
        {
          "output_type": "stream",
          "text": [
            "Random Forest Score: 0.9938461538461538\n"
          ],
          "name": "stdout"
        }
      ]
    },
    {
      "cell_type": "code",
      "metadata": {
        "id": "u0TJqC83lgaM",
        "colab_type": "code",
        "colab": {
          "base_uri": "https://localhost:8080/",
          "height": 85
        },
        "outputId": "24e50fb7-889e-4833-a984-0686f19f7166"
      },
      "source": [
        "rf1 = RandomForestClassifier(n_estimators=10, max_depth=5,random_state = 123457)\n",
        "rf1.fit(x_train, y_train)\n",
        "\n",
        "rf1_predict = rf1.predict(x_test)\n",
        "print('Random Forest Score: {}'.format(accuracy_score(y_test, rf1_predict)))"
      ],
      "execution_count": 64,
      "outputs": [
        {
          "output_type": "stream",
          "text": [
            "Random Forest Score: 0.9907692307692307\n"
          ],
          "name": "stdout"
        },
        {
          "output_type": "stream",
          "text": [
            "/usr/local/lib/python3.6/dist-packages/ipykernel_launcher.py:2: DataConversionWarning: A column-vector y was passed when a 1d array was expected. Please change the shape of y to (n_samples,), for example using ravel().\n",
            "  \n"
          ],
          "name": "stderr"
        }
      ]
    },
    {
      "cell_type": "code",
      "metadata": {
        "id": "S1V0a7wdmxje",
        "colab_type": "code",
        "colab": {
          "base_uri": "https://localhost:8080/",
          "height": 85
        },
        "outputId": "63f27f4a-2b73-4346-9272-991242a9c46b"
      },
      "source": [
        "rf2 = RandomForestClassifier(n_estimators=100, max_depth=5, min_samples_split=5, random_state = 123457)\n",
        "rf2.fit(x_train, y_train)\n",
        "\n",
        "rf2_predict = rf2.predict(x_test)\n",
        "print('Random Forest Score: {}'.format(accuracy_score(y_test, rf2_predict)))"
      ],
      "execution_count": 66,
      "outputs": [
        {
          "output_type": "stream",
          "text": [
            "/usr/local/lib/python3.6/dist-packages/ipykernel_launcher.py:2: DataConversionWarning: A column-vector y was passed when a 1d array was expected. Please change the shape of y to (n_samples,), for example using ravel().\n",
            "  \n"
          ],
          "name": "stderr"
        },
        {
          "output_type": "stream",
          "text": [
            "Random Forest Score: 0.9923076923076923\n"
          ],
          "name": "stdout"
        }
      ]
    },
    {
      "cell_type": "code",
      "metadata": {
        "id": "90Z3b7g1jnZV",
        "colab_type": "code",
        "colab": {
          "base_uri": "https://localhost:8080/",
          "height": 378
        },
        "outputId": "fc9343e3-188b-4a08-e65f-027a8418f2ea"
      },
      "source": [
        "param_grid={'n_estimators': range(100,300,100),'max_depth':range(1,10), 'min_samples_split':[2,5,10,30]}\n",
        "\n",
        "\n",
        "gs = GridSearchCV(rf, param_grid=param_grid , return_train_score=True)\n",
        "gs.fit(y_test, rf_predict)\n",
        "# results = gs.cv_results_"
      ],
      "execution_count": 77,
      "outputs": [
        {
          "output_type": "execute_result",
          "data": {
            "text/plain": [
              "GridSearchCV(cv=None, error_score=nan,\n",
              "             estimator=RandomForestClassifier(bootstrap=True, ccp_alpha=0.0,\n",
              "                                              class_weight=None,\n",
              "                                              criterion='gini', max_depth=None,\n",
              "                                              max_features='auto',\n",
              "                                              max_leaf_nodes=None,\n",
              "                                              max_samples=None,\n",
              "                                              min_impurity_decrease=0.0,\n",
              "                                              min_impurity_split=None,\n",
              "                                              min_samples_leaf=1,\n",
              "                                              min_samples_split=2,\n",
              "                                              min_weight_fraction_leaf=0.0,\n",
              "                                              n_estimators=100, n_jobs=None,\n",
              "                                              oob_score=False,\n",
              "                                              random_state=123457, verbose=0,\n",
              "                                              warm_start=False),\n",
              "             iid='deprecated', n_jobs=None,\n",
              "             param_grid={'max_depth': range(1, 10),\n",
              "                         'min_samples_split': [2, 5, 10, 30],\n",
              "                         'n_estimators': range(100, 300, 100)},\n",
              "             pre_dispatch='2*n_jobs', refit=True, return_train_score=True,\n",
              "             scoring=None, verbose=0)"
            ]
          },
          "metadata": {
            "tags": []
          },
          "execution_count": 77
        }
      ]
    },
    {
      "cell_type": "code",
      "metadata": {
        "id": "b9kKylErjvC5",
        "colab_type": "code",
        "colab": {}
      },
      "source": [
        "??RandomForestClassifier"
      ],
      "execution_count": 0,
      "outputs": []
    },
    {
      "cell_type": "code",
      "metadata": {
        "id": "7HJOQVyGbsMS",
        "colab_type": "code",
        "colab": {
          "base_uri": "https://localhost:8080/",
          "height": 856
        },
        "outputId": "b40d7187-be29-4d8f-b3e1-f14823043b49"
      },
      "source": [
        "results"
      ],
      "execution_count": 33,
      "outputs": [
        {
          "output_type": "execute_result",
          "data": {
            "text/plain": [
              "{'mean_fit_time': array([0.12128758, 0.12197957, 0.12213717, 0.11759195, 0.12157702,\n",
              "        0.11909699, 0.11981091, 0.11945796, 0.12102165]),\n",
              " 'mean_score_time': array([0.00785613, 0.00787716, 0.00786643, 0.00777445, 0.00893888,\n",
              "        0.00857329, 0.00793495, 0.00792551, 0.00803871]),\n",
              " 'mean_test_score': array([0.99384615, 0.99384615, 0.99384615, 0.99384615, 0.99384615,\n",
              "        0.99384615, 0.99384615, 0.99384615, 0.99384615]),\n",
              " 'mean_train_score': array([0.99384615, 0.99384615, 0.99384615, 0.99384615, 0.99384615,\n",
              "        0.99384615, 0.99384615, 0.99384615, 0.99384615]),\n",
              " 'param_max_depth': masked_array(data=[1, 2, 3, 4, 5, 6, 7, 8, 9],\n",
              "              mask=[False, False, False, False, False, False, False, False,\n",
              "                    False],\n",
              "        fill_value='?',\n",
              "             dtype=object),\n",
              " 'params': [{'max_depth': 1},\n",
              "  {'max_depth': 2},\n",
              "  {'max_depth': 3},\n",
              "  {'max_depth': 4},\n",
              "  {'max_depth': 5},\n",
              "  {'max_depth': 6},\n",
              "  {'max_depth': 7},\n",
              "  {'max_depth': 8},\n",
              "  {'max_depth': 9}],\n",
              " 'rank_test_score': array([1, 1, 1, 1, 1, 1, 1, 1, 1], dtype=int32),\n",
              " 'split0_test_score': array([0.99615385, 0.99615385, 0.99615385, 0.99615385, 0.99615385,\n",
              "        0.99615385, 0.99615385, 0.99615385, 0.99615385]),\n",
              " 'split0_train_score': array([0.99326923, 0.99326923, 0.99326923, 0.99326923, 0.99326923,\n",
              "        0.99326923, 0.99326923, 0.99326923, 0.99326923]),\n",
              " 'split1_test_score': array([0.98846154, 0.98846154, 0.98846154, 0.98846154, 0.98846154,\n",
              "        0.98846154, 0.98846154, 0.98846154, 0.98846154]),\n",
              " 'split1_train_score': array([0.99519231, 0.99519231, 0.99519231, 0.99519231, 0.99519231,\n",
              "        0.99519231, 0.99519231, 0.99519231, 0.99519231]),\n",
              " 'split2_test_score': array([0.99615385, 0.99615385, 0.99615385, 0.99615385, 0.99615385,\n",
              "        0.99615385, 0.99615385, 0.99615385, 0.99615385]),\n",
              " 'split2_train_score': array([0.99326923, 0.99326923, 0.99326923, 0.99326923, 0.99326923,\n",
              "        0.99326923, 0.99326923, 0.99326923, 0.99326923]),\n",
              " 'split3_test_score': array([0.99230769, 0.99230769, 0.99230769, 0.99230769, 0.99230769,\n",
              "        0.99230769, 0.99230769, 0.99230769, 0.99230769]),\n",
              " 'split3_train_score': array([0.99423077, 0.99423077, 0.99423077, 0.99423077, 0.99423077,\n",
              "        0.99423077, 0.99423077, 0.99423077, 0.99423077]),\n",
              " 'split4_test_score': array([0.99615385, 0.99615385, 0.99615385, 0.99615385, 0.99615385,\n",
              "        0.99615385, 0.99615385, 0.99615385, 0.99615385]),\n",
              " 'split4_train_score': array([0.99326923, 0.99326923, 0.99326923, 0.99326923, 0.99326923,\n",
              "        0.99326923, 0.99326923, 0.99326923, 0.99326923]),\n",
              " 'std_fit_time': array([0.00427585, 0.00339551, 0.00491688, 0.00281616, 0.00175932,\n",
              "        0.00238381, 0.00263572, 0.00347318, 0.002827  ]),\n",
              " 'std_score_time': array([0.00022863, 0.00033785, 0.00019509, 0.0002    , 0.00231884,\n",
              "        0.0012056 , 0.00019754, 0.00026213, 0.00029014]),\n",
              " 'std_test_score': array([0.00307692, 0.00307692, 0.00307692, 0.00307692, 0.00307692,\n",
              "        0.00307692, 0.00307692, 0.00307692, 0.00307692]),\n",
              " 'std_train_score': array([0.00076923, 0.00076923, 0.00076923, 0.00076923, 0.00076923,\n",
              "        0.00076923, 0.00076923, 0.00076923, 0.00076923])}"
            ]
          },
          "metadata": {
            "tags": []
          },
          "execution_count": 33
        }
      ]
    },
    {
      "cell_type": "code",
      "metadata": {
        "id": "tO7fMXiGb9nh",
        "colab_type": "code",
        "colab": {
          "base_uri": "https://localhost:8080/",
          "height": 49
        },
        "outputId": "2e553251-b553-4300-9ef7-2dfb912d526d"
      },
      "source": [
        "print(\"best score is {}\".format(gs.best_score_))\n",
        "print(\"best hyper parameter is {}\".format(gs.best_params_))"
      ],
      "execution_count": 75,
      "outputs": [
        {
          "output_type": "stream",
          "text": [
            "best score is 0.9938461538461538\n",
            "best hyper parameter is {'max_depth': 1, 'min_samples_split': 2, 'n_estimators': 100}\n"
          ],
          "name": "stdout"
        }
      ]
    },
    {
      "cell_type": "markdown",
      "metadata": {
        "id": "UxJFZ4QcDRTl",
        "colab_type": "text"
      },
      "source": [
        "- best hyper parameter값은 기본값과 동일하게 나온다."
      ]
    },
    {
      "cell_type": "code",
      "metadata": {
        "id": "H3A56D4UYcSs",
        "colab_type": "code",
        "colab": {}
      },
      "source": [
        "??GridSearchCV"
      ],
      "execution_count": 0,
      "outputs": []
    },
    {
      "cell_type": "markdown",
      "metadata": {
        "id": "MKM4QwYAV7m5",
        "colab_type": "text"
      },
      "source": [
        "### XGBoost"
      ]
    },
    {
      "cell_type": "code",
      "metadata": {
        "id": "Ubb6xPFeRvX9",
        "colab_type": "code",
        "colab": {
          "base_uri": "https://localhost:8080/",
          "height": 118
        },
        "outputId": "c4635606-d126-4f50-837c-0539c5b39f8a"
      },
      "source": [
        "xgb = XGBClassifier(random_state = 123457)\n",
        "xgb.fit(x_train, y_train)\n",
        "\n",
        "xgb_predict = xgb.predict(x_test)\n",
        "print('XGboost Score: {}'.format(accuracy_score(y_test, xgb_predict)))"
      ],
      "execution_count": 97,
      "outputs": [
        {
          "output_type": "stream",
          "text": [
            "/usr/local/lib/python3.6/dist-packages/sklearn/preprocessing/_label.py:235: DataConversionWarning: A column-vector y was passed when a 1d array was expected. Please change the shape of y to (n_samples, ), for example using ravel().\n",
            "  y = column_or_1d(y, warn=True)\n",
            "/usr/local/lib/python3.6/dist-packages/sklearn/preprocessing/_label.py:268: DataConversionWarning: A column-vector y was passed when a 1d array was expected. Please change the shape of y to (n_samples, ), for example using ravel().\n",
            "  y = column_or_1d(y, warn=True)\n"
          ],
          "name": "stderr"
        },
        {
          "output_type": "stream",
          "text": [
            "XGboost Score: 0.9953846153846154\n"
          ],
          "name": "stdout"
        }
      ]
    },
    {
      "cell_type": "code",
      "metadata": {
        "id": "9SlfW56yePjF",
        "colab_type": "code",
        "colab": {
          "base_uri": "https://localhost:8080/",
          "height": 118
        },
        "outputId": "dbedcbd0-0544-49ee-d392-0395cfe916eb"
      },
      "source": [
        "xgb2 = XGBClassifier(max_depth=3, learning_rate=0.1, n_estimators=300)\n",
        "xgb2.fit(x_train, y_train)\n",
        "\n",
        "xgb2_predict = xgb2.predict(x_test)\n",
        "print('XGboost Score: {}'.format(accuracy_score(y_test, xgb2_predict)))"
      ],
      "execution_count": 46,
      "outputs": [
        {
          "output_type": "stream",
          "text": [
            "/usr/local/lib/python3.6/dist-packages/sklearn/preprocessing/_label.py:235: DataConversionWarning: A column-vector y was passed when a 1d array was expected. Please change the shape of y to (n_samples, ), for example using ravel().\n",
            "  y = column_or_1d(y, warn=True)\n",
            "/usr/local/lib/python3.6/dist-packages/sklearn/preprocessing/_label.py:268: DataConversionWarning: A column-vector y was passed when a 1d array was expected. Please change the shape of y to (n_samples, ), for example using ravel().\n",
            "  y = column_or_1d(y, warn=True)\n"
          ],
          "name": "stderr"
        },
        {
          "output_type": "stream",
          "text": [
            "XGboost Score: 0.9961538461538462\n"
          ],
          "name": "stdout"
        }
      ]
    },
    {
      "cell_type": "code",
      "metadata": {
        "id": "AgxQyd-0e5u2",
        "colab_type": "code",
        "colab": {
          "base_uri": "https://localhost:8080/",
          "height": 118
        },
        "outputId": "35a2ca94-f8d2-4da0-d3a6-ee5d6992a13d"
      },
      "source": [
        "xgb3 = XGBClassifier(max_depth=3, learning_rate=0.05, n_estimators=300)\n",
        "xgb3.fit(x_train, y_train)\n",
        "\n",
        "xgb3_predict = xgb3.predict(x_test)\n",
        "print('XGboost Score: {}'.format(accuracy_score(y_test, xgb3_predict)))"
      ],
      "execution_count": 47,
      "outputs": [
        {
          "output_type": "stream",
          "text": [
            "/usr/local/lib/python3.6/dist-packages/sklearn/preprocessing/_label.py:235: DataConversionWarning: A column-vector y was passed when a 1d array was expected. Please change the shape of y to (n_samples, ), for example using ravel().\n",
            "  y = column_or_1d(y, warn=True)\n",
            "/usr/local/lib/python3.6/dist-packages/sklearn/preprocessing/_label.py:268: DataConversionWarning: A column-vector y was passed when a 1d array was expected. Please change the shape of y to (n_samples, ), for example using ravel().\n",
            "  y = column_or_1d(y, warn=True)\n"
          ],
          "name": "stderr"
        },
        {
          "output_type": "stream",
          "text": [
            "XGboost Score: 0.9953846153846154\n"
          ],
          "name": "stdout"
        }
      ]
    },
    {
      "cell_type": "code",
      "metadata": {
        "id": "06Fa3dizdyBL",
        "colab_type": "code",
        "colab": {
          "base_uri": "https://localhost:8080/",
          "height": 329
        },
        "outputId": "a3808660-470d-46ee-fd67-032688695d01"
      },
      "source": [
        "param_grid={'n_estimator':range(100,1000,100),'max_depth':range(1,10), \"colsample_bytree\" : [ 0.3, 0.4, 0.5 , 0.7,1.0 ] ,\"learning_rate\"    : [0.05, 0.10, 0.15, 0.20, 0.25, 0.30 ]}\n",
        "\n",
        "\n",
        "gs = GridSearchCV(xgb, param_grid=param_grid, return_train_score=True)\n",
        "gs.fit(y_test, xgb_predict)\n",
        "# results = gs.cv_results_"
      ],
      "execution_count": 135,
      "outputs": [
        {
          "output_type": "execute_result",
          "data": {
            "text/plain": [
              "GridSearchCV(cv=None, error_score=nan,\n",
              "             estimator=XGBClassifier(base_score=0.5, booster='gbtree',\n",
              "                                     colsample_bylevel=1, colsample_bynode=1,\n",
              "                                     colsample_bytree=1, gamma=0,\n",
              "                                     learning_rate=0.1, max_delta_step=0,\n",
              "                                     max_depth=3, min_child_weight=1,\n",
              "                                     missing=None, n_estimators=100, n_jobs=1,\n",
              "                                     nthread=None, objective='binary:logistic',\n",
              "                                     random_state=123457, reg_alpha=0,\n",
              "                                     reg_lambda=1, scale_pos_weight=1,\n",
              "                                     seed=None, silent=None, subsample=1,\n",
              "                                     verbosity=1),\n",
              "             iid='deprecated', n_jobs=None,\n",
              "             param_grid={'colsample_bytree': [0.3, 0.4, 0.5, 0.7, 1.0],\n",
              "                         'learning_rate': [0.05, 0.1, 0.15, 0.2, 0.25, 0.3],\n",
              "                         'max_depth': range(1, 10),\n",
              "                         'n_estimator': range(100, 1000, 100)},\n",
              "             pre_dispatch='2*n_jobs', refit=True, return_train_score=True,\n",
              "             scoring=None, verbose=0)"
            ]
          },
          "metadata": {
            "tags": []
          },
          "execution_count": 135
        }
      ]
    },
    {
      "cell_type": "code",
      "metadata": {
        "id": "qb9eypM3d6qn",
        "colab_type": "code",
        "colab": {
          "base_uri": "https://localhost:8080/",
          "height": 49
        },
        "outputId": "2ce2bf04-b27b-45d9-93b2-f2c9d0f54c5a"
      },
      "source": [
        "# results\n",
        "print(\"best score is {}\".format(gs.best_score_))\n",
        "print(\"best hyper parameter is {}\".format(gs.best_params_))"
      ],
      "execution_count": 136,
      "outputs": [
        {
          "output_type": "stream",
          "text": [
            "best score is 0.9953846153846154\n",
            "best hyper parameter is {'colsample_bytree': 0.3, 'learning_rate': 0.05, 'max_depth': 1, 'n_estimator': 100}\n"
          ],
          "name": "stdout"
        }
      ]
    },
    {
      "cell_type": "markdown",
      "metadata": {
        "id": "qA63g-1KD2X8",
        "colab_type": "text"
      },
      "source": [
        "- randomforest보다 accuracy가 0.02%p 증가했다.\n",
        "- xgbclassifier의 default hyperparameter와 동일하게 best parameter가 뽑혔다.\n",
        "  이는 xgb2에서 99.6%가 나왔음에도 이렇게 뽑힌 것을 보면, GridSearch를 잘 못 돌린 것 같다."
      ]
    },
    {
      "cell_type": "code",
      "metadata": {
        "id": "7Qmu7Zqxf7qY",
        "colab_type": "code",
        "colab": {
          "base_uri": "https://localhost:8080/",
          "height": 310
        },
        "outputId": "f71cb020-acea-4a3b-f7a3-53dc8612cc2b"
      },
      "source": [
        "from xgboost import plot_importance\n",
        "plot_importance(xgb)"
      ],
      "execution_count": 116,
      "outputs": [
        {
          "output_type": "execute_result",
          "data": {
            "text/plain": [
              "<matplotlib.axes._subplots.AxesSubplot at 0x7fdbd0830780>"
            ]
          },
          "metadata": {
            "tags": []
          },
          "execution_count": 116
        },
        {
          "output_type": "display_data",
          "data": {
            "image/png": "[encoded data removed]",
            "text/plain": [
              "<Figure size 432x288 with 1 Axes>"
            ]
          },
          "metadata": {
            "tags": [],
            "needs_background": "light"
          }
        }
      ]
    },
    {
      "cell_type": "markdown",
      "metadata": {
        "id": "N5ej4O46ClY2",
        "colab_type": "text"
      },
      "source": [
        "- decision tree에서와 같이 `total surful dioxide`, `chlorides`,`sulphates` 등이 가장 중요한 feature로 뽑힌다."
      ]
    },
    {
      "cell_type": "markdown",
      "metadata": {
        "id": "qTjMf_-3qVSE",
        "colab_type": "text"
      },
      "source": [
        "### LightGBM"
      ]
    },
    {
      "cell_type": "code",
      "metadata": {
        "id": "wy72VbvwqeE1",
        "colab_type": "code",
        "colab": {
          "base_uri": "https://localhost:8080/",
          "height": 118
        },
        "outputId": "c6d2d468-e7da-4f91-9f37-142a30d53841"
      },
      "source": [
        "lgbm = LGBMClassifier(random_state = 123457)\n",
        "lgbm.fit(x_train, y_train)\n",
        "\n",
        "lgbm_predict = lgbm.predict(x_test)\n",
        "print('LightGBM Score: {}'.format(accuracy_score(y_test, lgbm_predict)))"
      ],
      "execution_count": 118,
      "outputs": [
        {
          "output_type": "stream",
          "text": [
            "LightGBM Score: 0.9969230769230769\n"
          ],
          "name": "stdout"
        },
        {
          "output_type": "stream",
          "text": [
            "/usr/local/lib/python3.6/dist-packages/sklearn/preprocessing/_label.py:235: DataConversionWarning: A column-vector y was passed when a 1d array was expected. Please change the shape of y to (n_samples, ), for example using ravel().\n",
            "  y = column_or_1d(y, warn=True)\n",
            "/usr/local/lib/python3.6/dist-packages/sklearn/preprocessing/_label.py:268: DataConversionWarning: A column-vector y was passed when a 1d array was expected. Please change the shape of y to (n_samples, ), for example using ravel().\n",
            "  y = column_or_1d(y, warn=True)\n"
          ],
          "name": "stderr"
        }
      ]
    },
    {
      "cell_type": "code",
      "metadata": {
        "id": "gPGIXYzz4x7X",
        "colab_type": "code",
        "colab": {}
      },
      "source": [
        "??LGBMClassifier"
      ],
      "execution_count": 0,
      "outputs": []
    },
    {
      "cell_type": "code",
      "metadata": {
        "id": "WMpKEyAKRyAx",
        "colab_type": "code",
        "colab": {
          "base_uri": "https://localhost:8080/",
          "height": 118
        },
        "outputId": "773f95f2-c6c4-44f2-a9e5-5e2b655513f1"
      },
      "source": [
        "lgbm1 = LGBMClassifier(max_depth = 3, num_leaves=[31], random_state = 123457)\n",
        "lgbm1.fit(x_train, y_train)\n",
        "\n",
        "lgbm1_predict = lgbm1.predict(x_test)\n",
        "print('LightGBM Score: {}'.format(accuracy_score(y_test, lgbm1_predict)))"
      ],
      "execution_count": 121,
      "outputs": [
        {
          "output_type": "stream",
          "text": [
            "LightGBM Score: 0.9938461538461538\n"
          ],
          "name": "stdout"
        },
        {
          "output_type": "stream",
          "text": [
            "/usr/local/lib/python3.6/dist-packages/sklearn/preprocessing/_label.py:235: DataConversionWarning: A column-vector y was passed when a 1d array was expected. Please change the shape of y to (n_samples, ), for example using ravel().\n",
            "  y = column_or_1d(y, warn=True)\n",
            "/usr/local/lib/python3.6/dist-packages/sklearn/preprocessing/_label.py:268: DataConversionWarning: A column-vector y was passed when a 1d array was expected. Please change the shape of y to (n_samples, ), for example using ravel().\n",
            "  y = column_or_1d(y, warn=True)\n"
          ],
          "name": "stderr"
        }
      ]
    },
    {
      "cell_type": "code",
      "metadata": {
        "id": "DBzoEOt1sV0K",
        "colab_type": "code",
        "colab": {
          "base_uri": "https://localhost:8080/",
          "height": 118
        },
        "outputId": "46766942-3f0a-4cdb-9a9f-27f83503c097"
      },
      "source": [
        "lgbm2 = LGBMClassifier(max_depth = 3, num_leaves=63, learning_rate=0.01, random_state = 123457)\n",
        "lgbm2.fit(x_train, y_train)\n",
        "\n",
        "lgbm2_predict = lgbm2.predict(x_test)\n",
        "print('LightGBM Score: {}'.format(accuracy_score(y_test, lgbm2_predict)))"
      ],
      "execution_count": 127,
      "outputs": [
        {
          "output_type": "stream",
          "text": [
            "LightGBM Score: 0.9792307692307692\n"
          ],
          "name": "stdout"
        },
        {
          "output_type": "stream",
          "text": [
            "/usr/local/lib/python3.6/dist-packages/sklearn/preprocessing/_label.py:235: DataConversionWarning: A column-vector y was passed when a 1d array was expected. Please change the shape of y to (n_samples, ), for example using ravel().\n",
            "  y = column_or_1d(y, warn=True)\n",
            "/usr/local/lib/python3.6/dist-packages/sklearn/preprocessing/_label.py:268: DataConversionWarning: A column-vector y was passed when a 1d array was expected. Please change the shape of y to (n_samples, ), for example using ravel().\n",
            "  y = column_or_1d(y, warn=True)\n"
          ],
          "name": "stderr"
        }
      ]
    },
    {
      "cell_type": "code",
      "metadata": {
        "id": "M8u397UV0Y1t",
        "colab_type": "code",
        "colab": {
          "base_uri": "https://localhost:8080/",
          "height": 345
        },
        "outputId": "1c20c5a5-ae6f-4789-a4d8-7b6d4fe16571"
      },
      "source": [
        "param_grid={'max_depth':range(1,5,10), \"num_leaves\":[31,63,127],\"learning_rate\": [0.01,0.05, 0.10, 0.15, 0.20, 0.25, 0.30 ]}\n",
        "\n",
        "\n",
        "gs = GridSearchCV(lgbm, param_grid=param_grid, return_train_score=True)\n",
        "gs.fit(y_test, lgbm_predict)\n",
        "# results = gs.cv_results_"
      ],
      "execution_count": 131,
      "outputs": [
        {
          "output_type": "execute_result",
          "data": {
            "text/plain": [
              "GridSearchCV(cv=None, error_score=nan,\n",
              "             estimator=LGBMClassifier(boosting_type='gbdt', class_weight=None,\n",
              "                                      colsample_bytree=1.0,\n",
              "                                      importance_type='split',\n",
              "                                      learning_rate=0.1, max_depth=-1,\n",
              "                                      min_child_samples=20,\n",
              "                                      min_child_weight=0.001,\n",
              "                                      min_split_gain=0.0, n_estimators=100,\n",
              "                                      n_jobs=-1, num_leaves=31, objective=None,\n",
              "                                      random_state=123457, reg_alpha=0.0,\n",
              "                                      reg_lambda=0.0, silent=True,\n",
              "                                      subsample=1.0, subsample_for_bin=200000,\n",
              "                                      subsample_freq=0),\n",
              "             iid='deprecated', n_jobs=None,\n",
              "             param_grid={'learning_rate': [0.01, 0.05, 0.1, 0.15, 0.2, 0.25,\n",
              "                                           0.3],\n",
              "                         'max_depth': range(1, 5, 10),\n",
              "                         'num_leaves': [31, 63, 127]},\n",
              "             pre_dispatch='2*n_jobs', refit=True, return_train_score=True,\n",
              "             scoring=None, verbose=0)"
            ]
          },
          "metadata": {
            "tags": []
          },
          "execution_count": 131
        }
      ]
    },
    {
      "cell_type": "code",
      "metadata": {
        "id": "TGC2Z_wERzhZ",
        "colab_type": "code",
        "colab": {
          "base_uri": "https://localhost:8080/",
          "height": 49
        },
        "outputId": "d185c4c5-e4be-407c-b9e1-ad5ad419cc44"
      },
      "source": [
        "# results\n",
        "print(\"best score is {}\".format(gs.best_score_))\n",
        "print(\"best hyper parameter is {}\".format(gs.best_params_))"
      ],
      "execution_count": 132,
      "outputs": [
        {
          "output_type": "stream",
          "text": [
            "best score is 0.9969230769230769\n",
            "best hyper parameter is {'learning_rate': 0.01, 'max_depth': 1, 'num_leaves': 31}\n"
          ],
          "name": "stdout"
        }
      ]
    },
    {
      "cell_type": "markdown",
      "metadata": {
        "id": "w-OVVBIm-BEv",
        "colab_type": "text"
      },
      "source": [
        "- hyperparameter setting을 기본으로 했을 때가 가장 최적의 결과를 보여준다.\n",
        "- xgboost보다 learning_rate의 값이 낮아야 좋은 결과를 갖는다.\n",
        "- xgboost보다 accuracy가 더 올라갔다. 99.5%에서 0.1%p 상승했는데 꽤나 유의미한 발전이다"
      ]
    },
    {
      "cell_type": "code",
      "metadata": {
        "id": "KWMOnFLI4Yy1",
        "colab_type": "code",
        "colab": {
          "base_uri": "https://localhost:8080/",
          "height": 310
        },
        "outputId": "a67c4e51-55b3-4288-d9b6-a2ba35f78235"
      },
      "source": [
        "from lightgbm import plot_importance\n",
        "plot_importance(lgbm)"
      ],
      "execution_count": 117,
      "outputs": [
        {
          "output_type": "execute_result",
          "data": {
            "text/plain": [
              "<matplotlib.axes._subplots.AxesSubplot at 0x7fdbd0884278>"
            ]
          },
          "metadata": {
            "tags": []
          },
          "execution_count": 117
        },
        {
          "output_type": "display_data",
          "data": {
            "image/png": "[encoded data removed]",
            "text/plain": [
              "<Figure size 432x288 with 1 Axes>"
            ]
          },
          "metadata": {
            "tags": [],
            "needs_background": "light"
          }
        }
      ]
    },
    {
      "cell_type": "markdown",
      "metadata": {
        "id": "9a6pr7iEDCas",
        "colab_type": "text"
      },
      "source": [
        "- lgbm에서 역시 같은 Feature들이 동일한 순서로 중요하게 뽑혔다. 다만 feature importance의 단위가 더 크다."
      ]
    },
    {
      "cell_type": "code",
      "metadata": {
        "id": "dGAVG9vx4ZHZ",
        "colab_type": "code",
        "colab": {}
      },
      "source": [
        ""
      ],
      "execution_count": 0,
      "outputs": []
    }
  ]
}