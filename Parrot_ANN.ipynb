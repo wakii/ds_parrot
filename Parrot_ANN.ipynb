{
  "nbformat": 4,
  "nbformat_minor": 0,
  "metadata": {
    "colab": {
      "name": "Parrot_ANN.ipynb",
      "provenance": [],
      "include_colab_link": true
    },
    "kernelspec": {
      "name": "python3",
      "display_name": "Python 3"
    },
    "accelerator": "GPU"
  },
  "cells": [
    {
      "cell_type": "markdown",
      "metadata": {
        "id": "view-in-github",
        "colab_type": "text"
      },
      "source": [
        "<a href=\"https://colab.research.google.com/github/wakii/ds_parrot/blob/master/Parrot_ANN.ipynb\" target=\"_parent\"><img src=\"https://colab.research.google.com/assets/colab-badge.svg\" alt=\"Open In Colab\"/></a>"
      ]
    },
    {
      "cell_type": "markdown",
      "metadata": {
        "id": "LV3A5c4Lg51Q",
        "colab_type": "text"
      },
      "source": [
        "### **MNIST - digit recognizer**\n",
        "- Load Data\n",
        "- Preprocessing\n",
        "- Modeling\n"
      ]
    },
    {
      "cell_type": "code",
      "metadata": {
        "id": "Ey2RU2zqhX9N",
        "colab_type": "code",
        "outputId": "149bf9ac-28a0-494e-ea81-810586fc027a",
        "colab": {
          "base_uri": "https://localhost:8080/",
          "height": 32
        }
      },
      "source": [
        "import numpy as np\n",
        "import pandas as pd\n",
        "import tensorflow as tf\n",
        "import matplotlib.pyplot as plt\n",
        "%matplotlib inline\n",
        "\n",
        "print(tf.__version__)"
      ],
      "execution_count": 1,
      "outputs": [
        {
          "output_type": "stream",
          "text": [
            "2.2.0-rc3\n"
          ],
          "name": "stdout"
        }
      ]
    },
    {
      "cell_type": "markdown",
      "metadata": {
        "id": "WCcjIFMjhRFM",
        "colab_type": "text"
      },
      "source": [
        "#### Load Data\n",
        "Mnist original dataset"
      ]
    },
    {
      "cell_type": "code",
      "metadata": {
        "id": "qf5MdRlnqsTd",
        "colab_type": "code",
        "colab": {}
      },
      "source": [
        "from tensorflow.keras.datasets import mnist"
      ],
      "execution_count": 0,
      "outputs": []
    },
    {
      "cell_type": "code",
      "metadata": {
        "id": "OFtC-MiKho8G",
        "colab_type": "code",
        "outputId": "b8c9fe10-d614-4ed3-c3a7-299e6787620e",
        "colab": {
          "base_uri": "https://localhost:8080/",
          "height": 115
        }
      },
      "source": [
        "(x_train, y_train), (x_test, y_test) = mnist.load_data()\n",
        "\n",
        "print(\"x_train shape : \", x_train.shape)\n",
        "print(\"y_train shape : \", y_train.shape)\n",
        "print(\"x_test shape : \", x_test.shape)\n",
        "print(\"y_test shape : \", y_test.shape)"
      ],
      "execution_count": 3,
      "outputs": [
        {
          "output_type": "stream",
          "text": [
            "Downloading data from https://storage.googleapis.com/tensorflow/tf-keras-datasets/mnist.npz\n",
            "11493376/11490434 [==============================] - 0s 0us/step\n",
            "x_train shape :  (60000, 28, 28)\n",
            "y_train shape :  (60000,)\n",
            "x_test shape :  (10000, 28, 28)\n",
            "y_test shape :  (10000,)\n"
          ],
          "name": "stdout"
        }
      ]
    },
    {
      "cell_type": "code",
      "metadata": {
        "id": "vfq9EMxroVTt",
        "colab_type": "code",
        "outputId": "a9357bae-3788-4223-8441-95ef970fbec7",
        "colab": {
          "base_uri": "https://localhost:8080/",
          "height": 32
        }
      },
      "source": [
        "y_train[0]"
      ],
      "execution_count": 4,
      "outputs": [
        {
          "output_type": "execute_result",
          "data": {
            "text/plain": [
              "5"
            ]
          },
          "metadata": {
            "tags": []
          },
          "execution_count": 4
        }
      ]
    },
    {
      "cell_type": "code",
      "metadata": {
        "id": "-P0ThxBwh7nw",
        "colab_type": "code",
        "outputId": "e4f13fe8-23d8-4233-f385-5f77b915ae4f",
        "colab": {
          "base_uri": "https://localhost:8080/",
          "height": 267
        }
      },
      "source": [
        "# plot 4 images as gray scale\n",
        "plt.subplot(221)\n",
        "plt.imshow(x_train[0], cmap=plt.get_cmap('gray'))\n",
        "plt.subplot(222)\n",
        "plt.imshow(x_train[1], cmap=plt.get_cmap('gray'))\n",
        "plt.subplot(223)\n",
        "plt.imshow(x_train[2], cmap=plt.get_cmap('gray'))\n",
        "plt.subplot(224)\n",
        "plt.imshow(x_train[3], cmap=plt.get_cmap('gray'))\n",
        "# show the plot\n",
        "plt.show()"
      ],
      "execution_count": 5,
      "outputs": [
        {
          "output_type": "display_data",
          "data": {
            "image/png": "[encoded data removed]",
            "text/plain": [
              "<Figure size 432x288 with 4 Axes>"
            ]
          },
          "metadata": {
            "tags": [],
            "needs_background": "light"
          }
        }
      ]
    },
    {
      "cell_type": "code",
      "metadata": {
        "id": "8IXFAWUFiTat",
        "colab_type": "code",
        "outputId": "457e76fa-3996-4f7c-8573-b74b412cf27f",
        "colab": {
          "base_uri": "https://localhost:8080/",
          "height": 698
        }
      },
      "source": [
        "# visualize\n",
        "def visualize_input(img, ax):\n",
        "    ax.imshow(img, cmap = \"gray\")\n",
        "    width, height = img.shape\n",
        "    thresh = img.max()/2.5\n",
        "    for x in range(width):\n",
        "        for y in range(height):\n",
        "            ax.annotate(str(round(img[x][y], 2)), xy = (y, x),\n",
        "                                  horizontalalignment = 'center',\n",
        "                                  verticalalignment = 'center',\n",
        "                                  color = 'white' if img[x][y] < thresh else 'black')\n",
        "fig = plt.figure(figsize = (12, 12))\n",
        "ax = fig.add_subplot(111)\n",
        "visualize_input(x_train[1].reshape(28, 28), ax)"
      ],
      "execution_count": 6,
      "outputs": [
        {
          "output_type": "display_data",
          "data": {
            "image/png": "[encoded data removed]",
            "text/plain": [
              "<Figure size 864x864 with 1 Axes>"
            ]
          },
          "metadata": {
            "tags": [],
            "needs_background": "light"
          }
        }
      ]
    },
    {
      "cell_type": "code",
      "metadata": {
        "id": "lJSi2vBJjTXt",
        "colab_type": "code",
        "outputId": "775b076d-0412-4710-cafa-d9d6d1d156fc",
        "colab": {
          "base_uri": "https://localhost:8080/",
          "height": 318
        }
      },
      "source": [
        "import seaborn as sns\n",
        "g = sns.countplot(y_train)"
      ],
      "execution_count": 7,
      "outputs": [
        {
          "output_type": "stream",
          "text": [
            "/usr/local/lib/python3.6/dist-packages/statsmodels/tools/_testing.py:19: FutureWarning: pandas.util.testing is deprecated. Use the functions in the public API at pandas.testing instead.\n",
            "  import pandas.util.testing as tm\n"
          ],
          "name": "stderr"
        },
        {
          "output_type": "display_data",
          "data": {
            "image/png": "[encoded data removed]",
            "text/plain": [
              "<Figure size 432x288 with 1 Axes>"
            ]
          },
          "metadata": {
            "tags": [],
            "needs_background": "light"
          }
        }
      ]
    },
    {
      "cell_type": "markdown",
      "metadata": {
        "id": "9HFisZrxjpIx",
        "colab_type": "text"
      },
      "source": [
        "#### Preprocessing\n",
        "- normalize, one hot encoding"
      ]
    },
    {
      "cell_type": "code",
      "metadata": {
        "id": "zimwp4KGjgMn",
        "colab_type": "code",
        "colab": {}
      },
      "source": [
        "# Normalize\n",
        "x_train = x_train/255\n",
        "x_test = x_test/255"
      ],
      "execution_count": 0,
      "outputs": []
    },
    {
      "cell_type": "code",
      "metadata": {
        "id": "VbYj3NZIkZ3f",
        "colab_type": "code",
        "colab": {}
      },
      "source": [
        "# reshape --> 1D(784)\n",
        "x_train = x_train.reshape((x_train.shape[0], x_train.shape[1]*x_train.shape[2])).astype('float32')\n",
        "x_test = x_test.reshape((x_test.shape[0], x_test.shape[1]*x_test.shape[2])).astype('float32')"
      ],
      "execution_count": 0,
      "outputs": []
    },
    {
      "cell_type": "code",
      "metadata": {
        "id": "UrYjrt8HpiXD",
        "colab_type": "code",
        "outputId": "a691382e-50de-4521-ed3f-e0b6a9998182",
        "colab": {
          "base_uri": "https://localhost:8080/",
          "height": 32
        }
      },
      "source": [
        "y_train[:10]"
      ],
      "execution_count": 10,
      "outputs": [
        {
          "output_type": "execute_result",
          "data": {
            "text/plain": [
              "array([5, 0, 4, 1, 9, 2, 1, 3, 1, 4], dtype=uint8)"
            ]
          },
          "metadata": {
            "tags": []
          },
          "execution_count": 10
        }
      ]
    },
    {
      "cell_type": "code",
      "metadata": {
        "id": "9qRIhxgvj73Z",
        "colab_type": "code",
        "colab": {}
      },
      "source": [
        "# one hot encoding\n",
        "from tensorflow.keras.utils import to_categorical\n",
        "y_train = to_categorical(y_train)\n",
        "y_test = to_categorical(y_test)\n",
        "num_classes = 10"
      ],
      "execution_count": 0,
      "outputs": []
    },
    {
      "cell_type": "code",
      "metadata": {
        "id": "elakHxOTtKGz",
        "colab_type": "code",
        "outputId": "101e6f95-d49c-42ab-ef1e-c3bc57c1247f",
        "colab": {
          "base_uri": "https://localhost:8080/",
          "height": 32
        }
      },
      "source": [
        "y_train[1]"
      ],
      "execution_count": 12,
      "outputs": [
        {
          "output_type": "execute_result",
          "data": {
            "text/plain": [
              "array([1., 0., 0., 0., 0., 0., 0., 0., 0., 0.], dtype=float32)"
            ]
          },
          "metadata": {
            "tags": []
          },
          "execution_count": 12
        }
      ]
    },
    {
      "cell_type": "markdown",
      "metadata": {
        "id": "q_lShYTuk9QA",
        "colab_type": "text"
      },
      "source": [
        "#### Baseline Model(fully-connected)"
      ]
    },
    {
      "cell_type": "code",
      "metadata": {
        "id": "RDzraLUFkRlX",
        "colab_type": "code",
        "outputId": "f8de5f7f-d1cf-43ad-ce69-309303797085",
        "colab": {
          "base_uri": "https://localhost:8080/",
          "height": 234
        }
      },
      "source": [
        "tf.keras.backend.clear_session()\n",
        "\n",
        "model = tf.keras.models.Sequential()\n",
        "model.add(tf.keras.layers.Dense(784, input_dim = 784, kernel_initializer = 'normal',\n",
        "                         activation = 'relu'))\n",
        "model.add(tf.keras.layers.Dense(num_classes, kernel_initializer='normal',\n",
        "                                activation = 'softmax'))\n",
        "\n",
        "model.compile(loss = 'categorical_crossentropy', optimizer = 'adam', metrics = ['accuracy'])\n",
        "model.summary() "
      ],
      "execution_count": 13,
      "outputs": [
        {
          "output_type": "stream",
          "text": [
            "Model: \"sequential\"\n",
            "_________________________________________________________________\n",
            "Layer (type)                 Output Shape              Param #   \n",
            "=================================================================\n",
            "dense (Dense)                (None, 784)               615440    \n",
            "_________________________________________________________________\n",
            "dense_1 (Dense)              (None, 10)                7850      \n",
            "=================================================================\n",
            "Total params: 623,290\n",
            "Trainable params: 623,290\n",
            "Non-trainable params: 0\n",
            "_________________________________________________________________\n"
          ],
          "name": "stdout"
        }
      ]
    },
    {
      "cell_type": "markdown",
      "metadata": {
        "id": "GgEoUIxQK4e2",
        "colab_type": "text"
      },
      "source": [
        "### **학습**\n",
        "- model.fit으로도 학습이 가능합니다. 다만 이후에 학습 과정을 시각화하기를 원하면 history를 저장해주시면 됩니다.\n",
        "- 일반화 정도 확인을 위해 validation data를 지정해줍니다. 이전에 나뉘어져 있는 경우 validation_data = (valid_x, valid_y) 이런식으로 넣어주면 되지만 train set만 보유하고 있는 경우 validation_split = (비율)로 validation data를 구성할 수 있습니다."
      ]
    },
    {
      "cell_type": "code",
      "metadata": {
        "id": "HrTEXr_PrH5E",
        "colab_type": "code",
        "colab": {}
      },
      "source": [
        "# model.fit(x_train, y_train, validation_data = (valid_x, valid_y)"
      ],
      "execution_count": 0,
      "outputs": []
    },
    {
      "cell_type": "code",
      "metadata": {
        "id": "dpsh9Uz_rtSp",
        "colab_type": "code",
        "colab": {}
      },
      "source": [
        "# from sklearn.model_selection import train_test_split"
      ],
      "execution_count": 0,
      "outputs": []
    },
    {
      "cell_type": "code",
      "metadata": {
        "id": "uVkr5wkrlt9s",
        "colab_type": "code",
        "colab": {}
      },
      "source": [
        "# hist = model.fit(x_train, y_train, validation_split=0.2, epochs = 10, batch_size = 128, verbose = 1)"
      ],
      "execution_count": 0,
      "outputs": []
    },
    {
      "cell_type": "code",
      "metadata": {
        "id": "YyQYgMRfmE7U",
        "colab_type": "code",
        "colab": {}
      },
      "source": [
        "def acc_loss_plot(hist):\n",
        "    fig, loss_ax = plt.subplots()\n",
        "    acc_ax = loss_ax.twinx()\n",
        "\n",
        "    loss_ax.plot(hist.history['loss'], 'y', label='train loss')\n",
        "    loss_ax.plot(hist.history['val_loss'], 'r', label='val loss')\n",
        "    loss_ax.set_xlabel('epoch')\n",
        "    loss_ax.set_ylabel('loss')\n",
        "    loss_ax.legend(loc='upper left')\n",
        "\n",
        "    acc_ax.plot(hist.history['accuracy'], 'b', label='train acc')\n",
        "    acc_ax.plot(hist.history['val_accuracy'], 'g', label='val acc')\n",
        "    acc_ax.set_ylabel('accuracy')\n",
        "    acc_ax.legend(loc='upper right')\n",
        "\n",
        "    plt.show()"
      ],
      "execution_count": 0,
      "outputs": []
    },
    {
      "cell_type": "code",
      "metadata": {
        "id": "wh7cwUsnmxNn",
        "colab_type": "code",
        "outputId": "2ac0c3bc-7ee6-4005-dba1-874cb3804958",
        "colab": {
          "base_uri": "https://localhost:8080/",
          "height": 49
        }
      },
      "source": [
        "score = model.evaluate(x_test, y_test, verbose = 0)\n",
        "print(\"Baseline Error: %.2f%%\" % (100-score[1]*100))\n",
        "print(\"Baseline Accuracy: %.2f%%\" % (score[1]*100))"
      ],
      "execution_count": 18,
      "outputs": [
        {
          "output_type": "stream",
          "text": [
            "Baseline Error: 89.60%\n",
            "Baseline Accuracy: 10.40%\n"
          ],
          "name": "stdout"
        }
      ]
    },
    {
      "cell_type": "markdown",
      "metadata": {
        "id": "VedtizhMoCo5",
        "colab_type": "text"
      },
      "source": [
        "#### Simple CNN"
      ]
    },
    {
      "cell_type": "code",
      "metadata": {
        "id": "6Ik3acJBnHqX",
        "colab_type": "code",
        "outputId": "042d4ff3-8007-4760-b672-fffd1813e842",
        "colab": {
          "base_uri": "https://localhost:8080/",
          "height": 345
        }
      },
      "source": [
        "tf.keras.backend.clear_session()\n",
        "model_1 = tf.keras.models.Sequential()\n",
        "model_1.add(tf.keras.layers.Conv2D(32, (5, 5), input_shape = (28, 28, 1), activation = 'relu'))\n",
        "model_1.add(tf.keras.layers.MaxPool2D())\n",
        "model_1.add(tf.keras.layers.Dropout(0.2))\n",
        "model_1.add(tf.keras.layers.Flatten())\n",
        "model_1.add(tf.keras.layers.Dense(128, activation = 'relu'))\n",
        "model_1.add(tf.keras.layers.Dense(num_classes, activation = 'softmax'))\n",
        "\n",
        "model_1.compile(loss = 'categorical_crossentropy', optimizer = 'adam', metrics = ['accuracy'])\n",
        "\n",
        "model_1.summary()"
      ],
      "execution_count": 19,
      "outputs": [
        {
          "output_type": "stream",
          "text": [
            "Model: \"sequential\"\n",
            "_________________________________________________________________\n",
            "Layer (type)                 Output Shape              Param #   \n",
            "=================================================================\n",
            "conv2d (Conv2D)              (None, 24, 24, 32)        832       \n",
            "_________________________________________________________________\n",
            "max_pooling2d (MaxPooling2D) (None, 12, 12, 32)        0         \n",
            "_________________________________________________________________\n",
            "dropout (Dropout)            (None, 12, 12, 32)        0         \n",
            "_________________________________________________________________\n",
            "flatten (Flatten)            (None, 4608)              0         \n",
            "_________________________________________________________________\n",
            "dense (Dense)                (None, 128)               589952    \n",
            "_________________________________________________________________\n",
            "dense_1 (Dense)              (None, 10)                1290      \n",
            "=================================================================\n",
            "Total params: 592,074\n",
            "Trainable params: 592,074\n",
            "Non-trainable params: 0\n",
            "_________________________________________________________________\n"
          ],
          "name": "stdout"
        }
      ]
    },
    {
      "cell_type": "code",
      "metadata": {
        "id": "inPuFiJiwcLg",
        "colab_type": "code",
        "outputId": "48315f73-9502-42a6-c7d8-efeb4a257b32",
        "colab": {
          "base_uri": "https://localhost:8080/",
          "height": 477
        }
      },
      "source": [
        "tf.keras.backend.clear_session()\n",
        "model_2 = tf.keras.models.Sequential()\n",
        "\n",
        "# Layer1\n",
        "model_2.add(tf.keras.layers.Conv2D(32, kernel_size=(3, 3), strides=(1,1), input_shape = (28, 28, 1), activation = 'relu'))\n",
        "  # Row,Col Size : (28-3)/1 + 1 == 26\n",
        "  # Activation Map Shape(26,26,32)\n",
        "model_2.add(tf.keras.layers.MaxPool2D(pool_size=(2,2)))\n",
        "  # Row, Col Size : (13,13,32)\n",
        "\n",
        "# Layer2\n",
        "model_2.add(tf.keras.layers.Conv2D(64, kernel_size=(2, 2), input_shape = (13, 13, 32), activation = 'relu'))\n",
        "  # Row,Col Size : (13-2)/1 + 1 == 12\n",
        "  # Activation Map Shape : (12,12,64)\n",
        "model_2.add(tf.keras.layers.MaxPool2D(pool_size=(2,2)))\n",
        "  # Row,Col Size : (6,6,64)\n",
        "\n",
        "# Layer3\n",
        "model_2.add(tf.keras.layers.Conv2D(128, kernel_size=(2, 2), input_shape = (6, 6, 64), activation = 'relu'))\n",
        "  # Row,Col Size : (6-2)/1 + 1 == 5\n",
        "  # Activation Map Shape : (5,5,128)\n",
        "\n",
        "model_2.add(tf.keras.layers.MaxPool2D(pool_size=(2,2)))\n",
        "  # Row, Col Size : (2,2,128)\n",
        "\n",
        "# # Layer4\n",
        "# model_2.add(tf.keras.layers.Conv2D(256, kernel_size=(2, 2), input_shape = (6, 6, 128), activation = 'relu'))\n",
        "#   # Row,Col Size : (6-2)/1 + 1 == 12\n",
        "#   # Activation Map Shape : (12,12,128)\n",
        "# model_2.add(tf.keras.layers.MaxPool2D(pool_size=(2,2)))\n",
        "#   # Row, Col Size : (6,6,128)\n",
        "\n",
        "model_2.add(tf.keras.layers.Dropout(0.2))\n",
        "model_2.add(tf.keras.layers.Flatten())\n",
        "model_2.add(tf.keras.layers.Dense(128, activation = 'relu'))\n",
        "model_2.add(tf.keras.layers.Dense(num_classes, activation = 'softmax'))\n",
        "\n",
        "model_2.compile(loss = 'categorical_crossentropy', optimizer = 'adam', metrics = ['accuracy'])\n",
        "\n",
        "model_2.summary()"
      ],
      "execution_count": 20,
      "outputs": [
        {
          "output_type": "stream",
          "text": [
            "Model: \"sequential\"\n",
            "_________________________________________________________________\n",
            "Layer (type)                 Output Shape              Param #   \n",
            "=================================================================\n",
            "conv2d (Conv2D)              (None, 26, 26, 32)        320       \n",
            "_________________________________________________________________\n",
            "max_pooling2d (MaxPooling2D) (None, 13, 13, 32)        0         \n",
            "_________________________________________________________________\n",
            "conv2d_1 (Conv2D)            (None, 12, 12, 64)        8256      \n",
            "_________________________________________________________________\n",
            "max_pooling2d_1 (MaxPooling2 (None, 6, 6, 64)          0         \n",
            "_________________________________________________________________\n",
            "conv2d_2 (Conv2D)            (None, 5, 5, 128)         32896     \n",
            "_________________________________________________________________\n",
            "max_pooling2d_2 (MaxPooling2 (None, 2, 2, 128)         0         \n",
            "_________________________________________________________________\n",
            "dropout (Dropout)            (None, 2, 2, 128)         0         \n",
            "_________________________________________________________________\n",
            "flatten (Flatten)            (None, 512)               0         \n",
            "_________________________________________________________________\n",
            "dense (Dense)                (None, 128)               65664     \n",
            "_________________________________________________________________\n",
            "dense_1 (Dense)              (None, 10)                1290      \n",
            "=================================================================\n",
            "Total params: 108,426\n",
            "Trainable params: 108,426\n",
            "Non-trainable params: 0\n",
            "_________________________________________________________________\n"
          ],
          "name": "stdout"
        }
      ]
    },
    {
      "cell_type": "code",
      "metadata": {
        "id": "_M7fTINK4B9l",
        "colab_type": "code",
        "outputId": "5e452298-85b1-4861-b470-be3670d56e38",
        "colab": {
          "base_uri": "https://localhost:8080/",
          "height": 543
        }
      },
      "source": [
        "tf.keras.backend.clear_session()\n",
        "model_3 = tf.keras.models.Sequential()\n",
        "\n",
        "# Layer1\n",
        "model_3.add(tf.keras.layers.Conv2D(32, kernel_size=(5, 5), strides=(1,1), input_shape = (28, 28, 1), activation = 'relu'))\n",
        "model_3.add(tf.keras.layers.MaxPool2D(pool_size=(2,2)))\n",
        "model_3.add(tf.keras.layers.Dropout(0.3))\n",
        "  # Row, Col Size : (12,12,32)\n",
        "\n",
        "# Layer2\n",
        "model_3.add(tf.keras.layers.Conv2D(64, kernel_size=(4, 4), strides=(1,1), input_shape = (12, 12, 32), activation = 'relu'))\n",
        "model_3.add(tf.keras.layers.MaxPool2D(pool_size=(2,2)))\n",
        "  # Row, Col Size : (4,4,64)\n",
        "model_3.add(tf.keras.layers.Dropout(0.3))\n",
        "\n",
        "# Layer3\n",
        "model_3.add(tf.keras.layers.Conv2D(128, kernel_size=(3, 3), strides=(1,1), input_shape = (4, 4, 64), activation = 'relu'))\n",
        "model_3.add(tf.keras.layers.MaxPool2D(pool_size=(2,2)))\n",
        "model_3.add(tf.keras.layers.Dropout(0.2))\n",
        "\n",
        "\n",
        "model_3.add(tf.keras.layers.Flatten())\n",
        "model_3.add(tf.keras.layers.Dense(128, activation = 'relu'))\n",
        "model_3.add(tf.keras.layers.Dense(num_classes, activation = 'softmax'))\n",
        "\n",
        "model_3.compile(loss = 'categorical_crossentropy', optimizer = 'adam', metrics = ['accuracy'])\n",
        "\n",
        "model_3.summary()"
      ],
      "execution_count": 30,
      "outputs": [
        {
          "output_type": "stream",
          "text": [
            "Model: \"sequential\"\n",
            "_________________________________________________________________\n",
            "Layer (type)                 Output Shape              Param #   \n",
            "=================================================================\n",
            "conv2d (Conv2D)              (None, 24, 24, 32)        832       \n",
            "_________________________________________________________________\n",
            "max_pooling2d (MaxPooling2D) (None, 12, 12, 32)        0         \n",
            "_________________________________________________________________\n",
            "dropout (Dropout)            (None, 12, 12, 32)        0         \n",
            "_________________________________________________________________\n",
            "conv2d_1 (Conv2D)            (None, 9, 9, 64)          32832     \n",
            "_________________________________________________________________\n",
            "max_pooling2d_1 (MaxPooling2 (None, 4, 4, 64)          0         \n",
            "_________________________________________________________________\n",
            "dropout_1 (Dropout)          (None, 4, 4, 64)          0         \n",
            "_________________________________________________________________\n",
            "conv2d_2 (Conv2D)            (None, 2, 2, 128)         73856     \n",
            "_________________________________________________________________\n",
            "max_pooling2d_2 (MaxPooling2 (None, 1, 1, 128)         0         \n",
            "_________________________________________________________________\n",
            "dropout_2 (Dropout)          (None, 1, 1, 128)         0         \n",
            "_________________________________________________________________\n",
            "flatten (Flatten)            (None, 128)               0         \n",
            "_________________________________________________________________\n",
            "dense (Dense)                (None, 128)               16512     \n",
            "_________________________________________________________________\n",
            "dense_1 (Dense)              (None, 10)                1290      \n",
            "=================================================================\n",
            "Total params: 125,322\n",
            "Trainable params: 125,322\n",
            "Non-trainable params: 0\n",
            "_________________________________________________________________\n"
          ],
          "name": "stdout"
        }
      ]
    },
    {
      "cell_type": "code",
      "metadata": {
        "id": "Bb2ZDqU06f29",
        "colab_type": "code",
        "colab": {
          "base_uri": "https://localhost:8080/",
          "height": 543
        },
        "outputId": "9dae64f3-29df-45da-cca2-23e1229648da"
      },
      "source": [
        "tf.keras.backend.clear_session()\n",
        "model_4 = tf.keras.models.Sequential()\n",
        "\n",
        "# Layer1\n",
        "model_4.add(tf.keras.layers.Conv2D(32, kernel_size=(5, 5), strides=(1,1), input_shape = (28, 28, 1), activation = 'relu'))\n",
        "model_4.add(tf.keras.layers.MaxPool2D(pool_size=(2,2)))\n",
        "model_4.add(tf.keras.layers.Dropout(0.3))\n",
        "  # Row, Col Size : (12,12,32)\n",
        "\n",
        "# Layer2\n",
        "model_4.add(tf.keras.layers.Conv2D(64, kernel_size=(5, 5), strides=(1,1), input_shape = (12, 12, 32), activation = 'relu'))\n",
        "model_4.add(tf.keras.layers.MaxPool2D(pool_size=(2,2)))\n",
        "  # Row, Col Size : (4,4,64)\n",
        "model_4.add(tf.keras.layers.Dropout(0.3))\n",
        "\n",
        "# Layer3\n",
        "model_4.add(tf.keras.layers.Conv2D(128, kernel_size=(3, 3), strides=(1,1), input_shape = (4, 4, 64), activation = 'relu'))\n",
        "model_4.add(tf.keras.layers.MaxPool2D(pool_size=(2,2)))\n",
        "model_4.add(tf.keras.layers.Dropout(0.2))\n",
        "\n",
        "\n",
        "model_4.add(tf.keras.layers.Flatten())\n",
        "model_4.add(tf.keras.layers.Dense(128, activation = 'relu'))\n",
        "model_4.add(tf.keras.layers.Dense(num_classes, activation = 'softmax'))\n",
        "\n",
        "model_4.compile(loss = 'categorical_crossentropy', optimizer = 'adam', metrics = ['accuracy'])\n",
        "\n",
        "model_4.summary()"
      ],
      "execution_count": 33,
      "outputs": [
        {
          "output_type": "stream",
          "text": [
            "Model: \"sequential\"\n",
            "_________________________________________________________________\n",
            "Layer (type)                 Output Shape              Param #   \n",
            "=================================================================\n",
            "conv2d (Conv2D)              (None, 24, 24, 32)        832       \n",
            "_________________________________________________________________\n",
            "max_pooling2d (MaxPooling2D) (None, 12, 12, 32)        0         \n",
            "_________________________________________________________________\n",
            "dropout (Dropout)            (None, 12, 12, 32)        0         \n",
            "_________________________________________________________________\n",
            "conv2d_1 (Conv2D)            (None, 8, 8, 64)          51264     \n",
            "_________________________________________________________________\n",
            "max_pooling2d_1 (MaxPooling2 (None, 4, 4, 64)          0         \n",
            "_________________________________________________________________\n",
            "dropout_1 (Dropout)          (None, 4, 4, 64)          0         \n",
            "_________________________________________________________________\n",
            "conv2d_2 (Conv2D)            (None, 2, 2, 128)         73856     \n",
            "_________________________________________________________________\n",
            "max_pooling2d_2 (MaxPooling2 (None, 1, 1, 128)         0         \n",
            "_________________________________________________________________\n",
            "dropout_2 (Dropout)          (None, 1, 1, 128)         0         \n",
            "_________________________________________________________________\n",
            "flatten (Flatten)            (None, 128)               0         \n",
            "_________________________________________________________________\n",
            "dense (Dense)                (None, 128)               16512     \n",
            "_________________________________________________________________\n",
            "dense_1 (Dense)              (None, 10)                1290      \n",
            "=================================================================\n",
            "Total params: 143,754\n",
            "Trainable params: 143,754\n",
            "Non-trainable params: 0\n",
            "_________________________________________________________________\n"
          ],
          "name": "stdout"
        }
      ]
    },
    {
      "cell_type": "code",
      "metadata": {
        "id": "O-OlE1XCwxhd",
        "colab_type": "code",
        "colab": {}
      },
      "source": [
        "??tf.keras.layers.Conv2D"
      ],
      "execution_count": 0,
      "outputs": []
    },
    {
      "cell_type": "markdown",
      "metadata": {
        "id": "zzbwcdHYLPyc",
        "colab_type": "text"
      },
      "source": [
        "CNN은 3D(x, y, n_ch)를 입력으로 받기 때문에 앞서 784로 펴준 train data를 28x28로 reshape해줍니다. 채널도 1로 설정하여 데이터셋을 4D로 만들어줍니다."
      ]
    },
    {
      "cell_type": "code",
      "metadata": {
        "id": "UtY69k-jpSHR",
        "colab_type": "code",
        "colab": {}
      },
      "source": [
        "x_train = x_train.reshape(x_train.shape[0], 28, 28, 1)\n",
        "x_test = x_test.reshape(x_test.shape[0], 28, 28, 1)"
      ],
      "execution_count": 0,
      "outputs": []
    },
    {
      "cell_type": "code",
      "metadata": {
        "id": "jN6Do8fWvdkE",
        "colab_type": "code",
        "outputId": "f1f9e6ea-e934-45c0-8ea2-114e51c5f8c0",
        "colab": {
          "base_uri": "https://localhost:8080/",
          "height": 32
        }
      },
      "source": [
        "x_train.shape"
      ],
      "execution_count": 0,
      "outputs": [
        {
          "output_type": "execute_result",
          "data": {
            "text/plain": [
              "(60000, 28, 28, 1)"
            ]
          },
          "metadata": {
            "tags": []
          },
          "execution_count": 21
        }
      ]
    },
    {
      "cell_type": "code",
      "metadata": {
        "id": "LNqKWDS-pBA0",
        "colab_type": "code",
        "outputId": "8b00e25b-99b8-4afd-aae0-44eee18d7011",
        "colab": {
          "base_uri": "https://localhost:8080/",
          "height": 384
        }
      },
      "source": [
        "hist1 = model_1.fit(x_train, y_train, validation_split = 0.2, epochs = 15, batch_size = 128)"
      ],
      "execution_count": 0,
      "outputs": [
        {
          "output_type": "stream",
          "text": [
            "Epoch 1/15\n",
            "375/375 [==============================] - 3s 7ms/step - loss: 0.0108 - accuracy: 0.9963 - val_loss: 0.0475 - val_accuracy: 0.9883\n",
            "Epoch 2/15\n",
            "283/375 [=====================>........] - ETA: 0s - loss: 0.0093 - accuracy: 0.9968"
          ],
          "name": "stdout"
        },
        {
          "output_type": "error",
          "ename": "KeyboardInterrupt",
          "evalue": "ignored",
          "traceback": [
            "\u001b[0;31m---------------------------------------------------------------------------\u001b[0m",
            "\u001b[0;31mKeyboardInterrupt\u001b[0m                         Traceback (most recent call last)",
            "\u001b[0;32m<ipython-input-119-0e14733ba68b>\u001b[0m in \u001b[0;36m<module>\u001b[0;34m()\u001b[0m\n\u001b[0;32m----> 1\u001b[0;31m \u001b[0mhist1\u001b[0m \u001b[0;34m=\u001b[0m \u001b[0mmodel_1\u001b[0m\u001b[0;34m.\u001b[0m\u001b[0mfit\u001b[0m\u001b[0;34m(\u001b[0m\u001b[0mx_train\u001b[0m\u001b[0;34m,\u001b[0m \u001b[0my_train\u001b[0m\u001b[0;34m,\u001b[0m \u001b[0mvalidation_split\u001b[0m \u001b[0;34m=\u001b[0m \u001b[0;36m0.2\u001b[0m\u001b[0;34m,\u001b[0m \u001b[0mepochs\u001b[0m \u001b[0;34m=\u001b[0m \u001b[0;36m15\u001b[0m\u001b[0;34m,\u001b[0m \u001b[0mbatch_size\u001b[0m \u001b[0;34m=\u001b[0m \u001b[0;36m128\u001b[0m\u001b[0;34m)\u001b[0m\u001b[0;34m\u001b[0m\u001b[0;34m\u001b[0m\u001b[0m\n\u001b[0m",
            "\u001b[0;32m/usr/local/lib/python3.6/dist-packages/tensorflow/python/keras/engine/training.py\u001b[0m in \u001b[0;36m_method_wrapper\u001b[0;34m(self, *args, **kwargs)\u001b[0m\n\u001b[1;32m     64\u001b[0m   \u001b[0;32mdef\u001b[0m \u001b[0m_method_wrapper\u001b[0m\u001b[0;34m(\u001b[0m\u001b[0mself\u001b[0m\u001b[0;34m,\u001b[0m \u001b[0;34m*\u001b[0m\u001b[0margs\u001b[0m\u001b[0;34m,\u001b[0m \u001b[0;34m**\u001b[0m\u001b[0mkwargs\u001b[0m\u001b[0;34m)\u001b[0m\u001b[0;34m:\u001b[0m\u001b[0;34m\u001b[0m\u001b[0;34m\u001b[0m\u001b[0m\n\u001b[1;32m     65\u001b[0m     \u001b[0;32mif\u001b[0m \u001b[0;32mnot\u001b[0m \u001b[0mself\u001b[0m\u001b[0;34m.\u001b[0m\u001b[0m_in_multi_worker_mode\u001b[0m\u001b[0;34m(\u001b[0m\u001b[0;34m)\u001b[0m\u001b[0;34m:\u001b[0m  \u001b[0;31m# pylint: disable=protected-access\u001b[0m\u001b[0;34m\u001b[0m\u001b[0;34m\u001b[0m\u001b[0m\n\u001b[0;32m---> 66\u001b[0;31m       \u001b[0;32mreturn\u001b[0m \u001b[0mmethod\u001b[0m\u001b[0;34m(\u001b[0m\u001b[0mself\u001b[0m\u001b[0;34m,\u001b[0m \u001b[0;34m*\u001b[0m\u001b[0margs\u001b[0m\u001b[0;34m,\u001b[0m \u001b[0;34m**\u001b[0m\u001b[0mkwargs\u001b[0m\u001b[0;34m)\u001b[0m\u001b[0;34m\u001b[0m\u001b[0;34m\u001b[0m\u001b[0m\n\u001b[0m\u001b[1;32m     67\u001b[0m \u001b[0;34m\u001b[0m\u001b[0m\n\u001b[1;32m     68\u001b[0m     \u001b[0;31m# Running inside `run_distribute_coordinator` already.\u001b[0m\u001b[0;34m\u001b[0m\u001b[0;34m\u001b[0m\u001b[0;34m\u001b[0m\u001b[0m\n",
            "\u001b[0;32m/usr/local/lib/python3.6/dist-packages/tensorflow/python/keras/engine/training.py\u001b[0m in \u001b[0;36mfit\u001b[0;34m(self, x, y, batch_size, epochs, verbose, callbacks, validation_split, validation_data, shuffle, class_weight, sample_weight, initial_epoch, steps_per_epoch, validation_steps, validation_batch_size, validation_freq, max_queue_size, workers, use_multiprocessing, **kwargs)\u001b[0m\n\u001b[1;32m    849\u001b[0m                 batch_size=batch_size):\n\u001b[1;32m    850\u001b[0m               \u001b[0mcallbacks\u001b[0m\u001b[0;34m.\u001b[0m\u001b[0mon_train_batch_begin\u001b[0m\u001b[0;34m(\u001b[0m\u001b[0mstep\u001b[0m\u001b[0;34m)\u001b[0m\u001b[0;34m\u001b[0m\u001b[0;34m\u001b[0m\u001b[0m\n\u001b[0;32m--> 851\u001b[0;31m               \u001b[0mtmp_logs\u001b[0m \u001b[0;34m=\u001b[0m \u001b[0mtrain_function\u001b[0m\u001b[0;34m(\u001b[0m\u001b[0miterator\u001b[0m\u001b[0;34m)\u001b[0m\u001b[0;34m\u001b[0m\u001b[0;34m\u001b[0m\u001b[0m\n\u001b[0m\u001b[1;32m    852\u001b[0m               \u001b[0;31m# Catch OutOfRangeError for Datasets of unknown size.\u001b[0m\u001b[0;34m\u001b[0m\u001b[0;34m\u001b[0m\u001b[0;34m\u001b[0m\u001b[0m\n\u001b[1;32m    853\u001b[0m               \u001b[0;31m# This blocks until the batch has finished executing.\u001b[0m\u001b[0;34m\u001b[0m\u001b[0;34m\u001b[0m\u001b[0;34m\u001b[0m\u001b[0m\n",
            "\u001b[0;32m/usr/local/lib/python3.6/dist-packages/tensorflow/python/eager/def_function.py\u001b[0m in \u001b[0;36m__call__\u001b[0;34m(self, *args, **kwds)\u001b[0m\n\u001b[1;32m    578\u001b[0m         \u001b[0mxla_context\u001b[0m\u001b[0;34m.\u001b[0m\u001b[0mExit\u001b[0m\u001b[0;34m(\u001b[0m\u001b[0;34m)\u001b[0m\u001b[0;34m\u001b[0m\u001b[0;34m\u001b[0m\u001b[0m\n\u001b[1;32m    579\u001b[0m     \u001b[0;32melse\u001b[0m\u001b[0;34m:\u001b[0m\u001b[0;34m\u001b[0m\u001b[0;34m\u001b[0m\u001b[0m\n\u001b[0;32m--> 580\u001b[0;31m       \u001b[0mresult\u001b[0m \u001b[0;34m=\u001b[0m \u001b[0mself\u001b[0m\u001b[0;34m.\u001b[0m\u001b[0m_call\u001b[0m\u001b[0;34m(\u001b[0m\u001b[0;34m*\u001b[0m\u001b[0margs\u001b[0m\u001b[0;34m,\u001b[0m \u001b[0;34m**\u001b[0m\u001b[0mkwds\u001b[0m\u001b[0;34m)\u001b[0m\u001b[0;34m\u001b[0m\u001b[0;34m\u001b[0m\u001b[0m\n\u001b[0m\u001b[1;32m    581\u001b[0m \u001b[0;34m\u001b[0m\u001b[0m\n\u001b[1;32m    582\u001b[0m     \u001b[0;32mif\u001b[0m \u001b[0mtracing_count\u001b[0m \u001b[0;34m==\u001b[0m \u001b[0mself\u001b[0m\u001b[0;34m.\u001b[0m\u001b[0m_get_tracing_count\u001b[0m\u001b[0;34m(\u001b[0m\u001b[0;34m)\u001b[0m\u001b[0;34m:\u001b[0m\u001b[0;34m\u001b[0m\u001b[0;34m\u001b[0m\u001b[0m\n",
            "\u001b[0;32m/usr/local/lib/python3.6/dist-packages/tensorflow/python/eager/def_function.py\u001b[0m in \u001b[0;36m_call\u001b[0;34m(self, *args, **kwds)\u001b[0m\n\u001b[1;32m    609\u001b[0m       \u001b[0;31m# In this case we have created variables on the first call, so we run the\u001b[0m\u001b[0;34m\u001b[0m\u001b[0;34m\u001b[0m\u001b[0;34m\u001b[0m\u001b[0m\n\u001b[1;32m    610\u001b[0m       \u001b[0;31m# defunned version which is guaranteed to never create variables.\u001b[0m\u001b[0;34m\u001b[0m\u001b[0;34m\u001b[0m\u001b[0;34m\u001b[0m\u001b[0m\n\u001b[0;32m--> 611\u001b[0;31m       \u001b[0;32mreturn\u001b[0m \u001b[0mself\u001b[0m\u001b[0;34m.\u001b[0m\u001b[0m_stateless_fn\u001b[0m\u001b[0;34m(\u001b[0m\u001b[0;34m*\u001b[0m\u001b[0margs\u001b[0m\u001b[0;34m,\u001b[0m \u001b[0;34m**\u001b[0m\u001b[0mkwds\u001b[0m\u001b[0;34m)\u001b[0m  \u001b[0;31m# pylint: disable=not-callable\u001b[0m\u001b[0;34m\u001b[0m\u001b[0;34m\u001b[0m\u001b[0m\n\u001b[0m\u001b[1;32m    612\u001b[0m     \u001b[0;32melif\u001b[0m \u001b[0mself\u001b[0m\u001b[0;34m.\u001b[0m\u001b[0m_stateful_fn\u001b[0m \u001b[0;32mis\u001b[0m \u001b[0;32mnot\u001b[0m \u001b[0;32mNone\u001b[0m\u001b[0;34m:\u001b[0m\u001b[0;34m\u001b[0m\u001b[0;34m\u001b[0m\u001b[0m\n\u001b[1;32m    613\u001b[0m       \u001b[0;31m# Release the lock early so that multiple threads can perform the call\u001b[0m\u001b[0;34m\u001b[0m\u001b[0;34m\u001b[0m\u001b[0;34m\u001b[0m\u001b[0m\n",
            "\u001b[0;32m/usr/local/lib/python3.6/dist-packages/tensorflow/python/eager/function.py\u001b[0m in \u001b[0;36m__call__\u001b[0;34m(self, *args, **kwargs)\u001b[0m\n\u001b[1;32m   2418\u001b[0m     \u001b[0;32mwith\u001b[0m \u001b[0mself\u001b[0m\u001b[0;34m.\u001b[0m\u001b[0m_lock\u001b[0m\u001b[0;34m:\u001b[0m\u001b[0;34m\u001b[0m\u001b[0;34m\u001b[0m\u001b[0m\n\u001b[1;32m   2419\u001b[0m       \u001b[0mgraph_function\u001b[0m\u001b[0;34m,\u001b[0m \u001b[0margs\u001b[0m\u001b[0;34m,\u001b[0m \u001b[0mkwargs\u001b[0m \u001b[0;34m=\u001b[0m \u001b[0mself\u001b[0m\u001b[0;34m.\u001b[0m\u001b[0m_maybe_define_function\u001b[0m\u001b[0;34m(\u001b[0m\u001b[0margs\u001b[0m\u001b[0;34m,\u001b[0m \u001b[0mkwargs\u001b[0m\u001b[0;34m)\u001b[0m\u001b[0;34m\u001b[0m\u001b[0;34m\u001b[0m\u001b[0m\n\u001b[0;32m-> 2420\u001b[0;31m     \u001b[0;32mreturn\u001b[0m \u001b[0mgraph_function\u001b[0m\u001b[0;34m.\u001b[0m\u001b[0m_filtered_call\u001b[0m\u001b[0;34m(\u001b[0m\u001b[0margs\u001b[0m\u001b[0;34m,\u001b[0m \u001b[0mkwargs\u001b[0m\u001b[0;34m)\u001b[0m  \u001b[0;31m# pylint: disable=protected-access\u001b[0m\u001b[0;34m\u001b[0m\u001b[0;34m\u001b[0m\u001b[0m\n\u001b[0m\u001b[1;32m   2421\u001b[0m \u001b[0;34m\u001b[0m\u001b[0m\n\u001b[1;32m   2422\u001b[0m   \u001b[0;34m@\u001b[0m\u001b[0mproperty\u001b[0m\u001b[0;34m\u001b[0m\u001b[0;34m\u001b[0m\u001b[0m\n",
            "\u001b[0;32m/usr/local/lib/python3.6/dist-packages/tensorflow/python/eager/function.py\u001b[0m in \u001b[0;36m_filtered_call\u001b[0;34m(self, args, kwargs)\u001b[0m\n\u001b[1;32m   1663\u001b[0m          if isinstance(t, (ops.Tensor,\n\u001b[1;32m   1664\u001b[0m                            resource_variable_ops.BaseResourceVariable))),\n\u001b[0;32m-> 1665\u001b[0;31m         self.captured_inputs)\n\u001b[0m\u001b[1;32m   1666\u001b[0m \u001b[0;34m\u001b[0m\u001b[0m\n\u001b[1;32m   1667\u001b[0m   \u001b[0;32mdef\u001b[0m \u001b[0m_call_flat\u001b[0m\u001b[0;34m(\u001b[0m\u001b[0mself\u001b[0m\u001b[0;34m,\u001b[0m \u001b[0margs\u001b[0m\u001b[0;34m,\u001b[0m \u001b[0mcaptured_inputs\u001b[0m\u001b[0;34m,\u001b[0m \u001b[0mcancellation_manager\u001b[0m\u001b[0;34m=\u001b[0m\u001b[0;32mNone\u001b[0m\u001b[0;34m)\u001b[0m\u001b[0;34m:\u001b[0m\u001b[0;34m\u001b[0m\u001b[0;34m\u001b[0m\u001b[0m\n",
            "\u001b[0;32m/usr/local/lib/python3.6/dist-packages/tensorflow/python/eager/function.py\u001b[0m in \u001b[0;36m_call_flat\u001b[0;34m(self, args, captured_inputs, cancellation_manager)\u001b[0m\n\u001b[1;32m   1744\u001b[0m       \u001b[0;31m# No tape is watching; skip to running the function.\u001b[0m\u001b[0;34m\u001b[0m\u001b[0;34m\u001b[0m\u001b[0;34m\u001b[0m\u001b[0m\n\u001b[1;32m   1745\u001b[0m       return self._build_call_outputs(self._inference_function.call(\n\u001b[0;32m-> 1746\u001b[0;31m           ctx, args, cancellation_manager=cancellation_manager))\n\u001b[0m\u001b[1;32m   1747\u001b[0m     forward_backward = self._select_forward_and_backward_functions(\n\u001b[1;32m   1748\u001b[0m         \u001b[0margs\u001b[0m\u001b[0;34m,\u001b[0m\u001b[0;34m\u001b[0m\u001b[0;34m\u001b[0m\u001b[0m\n",
            "\u001b[0;32m/usr/local/lib/python3.6/dist-packages/tensorflow/python/eager/function.py\u001b[0m in \u001b[0;36mcall\u001b[0;34m(self, ctx, args, cancellation_manager)\u001b[0m\n\u001b[1;32m    596\u001b[0m               \u001b[0minputs\u001b[0m\u001b[0;34m=\u001b[0m\u001b[0margs\u001b[0m\u001b[0;34m,\u001b[0m\u001b[0;34m\u001b[0m\u001b[0;34m\u001b[0m\u001b[0m\n\u001b[1;32m    597\u001b[0m               \u001b[0mattrs\u001b[0m\u001b[0;34m=\u001b[0m\u001b[0mattrs\u001b[0m\u001b[0;34m,\u001b[0m\u001b[0;34m\u001b[0m\u001b[0;34m\u001b[0m\u001b[0m\n\u001b[0;32m--> 598\u001b[0;31m               ctx=ctx)\n\u001b[0m\u001b[1;32m    599\u001b[0m         \u001b[0;32melse\u001b[0m\u001b[0;34m:\u001b[0m\u001b[0;34m\u001b[0m\u001b[0;34m\u001b[0m\u001b[0m\n\u001b[1;32m    600\u001b[0m           outputs = execute.execute_with_cancellation(\n",
            "\u001b[0;32m/usr/local/lib/python3.6/dist-packages/tensorflow/python/eager/execute.py\u001b[0m in \u001b[0;36mquick_execute\u001b[0;34m(op_name, num_outputs, inputs, attrs, ctx, name)\u001b[0m\n\u001b[1;32m     58\u001b[0m     \u001b[0mctx\u001b[0m\u001b[0;34m.\u001b[0m\u001b[0mensure_initialized\u001b[0m\u001b[0;34m(\u001b[0m\u001b[0;34m)\u001b[0m\u001b[0;34m\u001b[0m\u001b[0;34m\u001b[0m\u001b[0m\n\u001b[1;32m     59\u001b[0m     tensors = pywrap_tfe.TFE_Py_Execute(ctx._handle, device_name, op_name,\n\u001b[0;32m---> 60\u001b[0;31m                                         inputs, attrs, num_outputs)\n\u001b[0m\u001b[1;32m     61\u001b[0m   \u001b[0;32mexcept\u001b[0m \u001b[0mcore\u001b[0m\u001b[0;34m.\u001b[0m\u001b[0m_NotOkStatusException\u001b[0m \u001b[0;32mas\u001b[0m \u001b[0me\u001b[0m\u001b[0;34m:\u001b[0m\u001b[0;34m\u001b[0m\u001b[0;34m\u001b[0m\u001b[0m\n\u001b[1;32m     62\u001b[0m     \u001b[0;32mif\u001b[0m \u001b[0mname\u001b[0m \u001b[0;32mis\u001b[0m \u001b[0;32mnot\u001b[0m \u001b[0;32mNone\u001b[0m\u001b[0;34m:\u001b[0m\u001b[0;34m\u001b[0m\u001b[0;34m\u001b[0m\u001b[0m\n",
            "\u001b[0;31mKeyboardInterrupt\u001b[0m: "
          ]
        }
      ]
    },
    {
      "cell_type": "code",
      "metadata": {
        "id": "YWrDVJ4a3fy-",
        "colab_type": "code",
        "outputId": "0bd7ab0b-efff-42f1-875e-e6bdb7a145a8",
        "colab": {
          "base_uri": "https://localhost:8080/",
          "height": 135
        }
      },
      "source": [
        "hist2 = model_2.fit(x_train, y_train, validation_split = 0.2, epochs = 3, batch_size=128)"
      ],
      "execution_count": 0,
      "outputs": [
        {
          "output_type": "stream",
          "text": [
            "Epoch 1/3\n",
            "375/375 [==============================] - 4s 10ms/step - loss: 0.0085 - accuracy: 0.9971 - val_loss: 0.0599 - val_accuracy: 0.9868\n",
            "Epoch 2/3\n",
            "375/375 [==============================] - 4s 9ms/step - loss: 0.0091 - accuracy: 0.9966 - val_loss: 0.0413 - val_accuracy: 0.9908\n",
            "Epoch 3/3\n",
            "375/375 [==============================] - 4s 9ms/step - loss: 0.0087 - accuracy: 0.9971 - val_loss: 0.0472 - val_accuracy: 0.9904\n"
          ],
          "name": "stdout"
        }
      ]
    },
    {
      "cell_type": "code",
      "metadata": {
        "id": "hugjPTP56pkl",
        "colab_type": "code",
        "outputId": "380ac066-4505-4561-88ea-446d63d61e50",
        "colab": {
          "base_uri": "https://localhost:8080/",
          "height": 840
        }
      },
      "source": [
        "hist3 = model_3.fit(x_train, y_train, validation_split = 0.2, epochs = 25, batch_size=128)"
      ],
      "execution_count": 25,
      "outputs": [
        {
          "output_type": "stream",
          "text": [
            "Epoch 1/25\n",
            "375/375 [==============================] - 3s 7ms/step - loss: 0.4495 - accuracy: 0.8522 - val_loss: 0.0907 - val_accuracy: 0.9742\n",
            "Epoch 2/25\n",
            "375/375 [==============================] - 3s 7ms/step - loss: 0.1194 - accuracy: 0.9631 - val_loss: 0.0570 - val_accuracy: 0.9826\n",
            "Epoch 3/25\n",
            "375/375 [==============================] - 2s 7ms/step - loss: 0.0831 - accuracy: 0.9742 - val_loss: 0.0461 - val_accuracy: 0.9871\n",
            "Epoch 4/25\n",
            "375/375 [==============================] - 2s 7ms/step - loss: 0.0664 - accuracy: 0.9801 - val_loss: 0.0401 - val_accuracy: 0.9889\n",
            "Epoch 5/25\n",
            "375/375 [==============================] - 3s 7ms/step - loss: 0.0591 - accuracy: 0.9812 - val_loss: 0.0359 - val_accuracy: 0.9912\n",
            "Epoch 6/25\n",
            "375/375 [==============================] - 2s 7ms/step - loss: 0.0518 - accuracy: 0.9841 - val_loss: 0.0365 - val_accuracy: 0.9895\n",
            "Epoch 7/25\n",
            "375/375 [==============================] - 3s 7ms/step - loss: 0.0495 - accuracy: 0.9849 - val_loss: 0.0325 - val_accuracy: 0.9902\n",
            "Epoch 8/25\n",
            "375/375 [==============================] - 3s 7ms/step - loss: 0.0421 - accuracy: 0.9864 - val_loss: 0.0303 - val_accuracy: 0.9916\n",
            "Epoch 9/25\n",
            "375/375 [==============================] - 2s 7ms/step - loss: 0.0394 - accuracy: 0.9879 - val_loss: 0.0315 - val_accuracy: 0.9907\n",
            "Epoch 10/25\n",
            "375/375 [==============================] - 2s 7ms/step - loss: 0.0365 - accuracy: 0.9884 - val_loss: 0.0293 - val_accuracy: 0.9919\n",
            "Epoch 11/25\n",
            "375/375 [==============================] - 2s 7ms/step - loss: 0.0370 - accuracy: 0.9880 - val_loss: 0.0309 - val_accuracy: 0.9925\n",
            "Epoch 12/25\n",
            "375/375 [==============================] - 3s 7ms/step - loss: 0.0323 - accuracy: 0.9897 - val_loss: 0.0278 - val_accuracy: 0.9932\n",
            "Epoch 13/25\n",
            "375/375 [==============================] - 3s 7ms/step - loss: 0.0307 - accuracy: 0.9897 - val_loss: 0.0383 - val_accuracy: 0.9902\n",
            "Epoch 14/25\n",
            "375/375 [==============================] - 3s 7ms/step - loss: 0.0298 - accuracy: 0.9905 - val_loss: 0.0290 - val_accuracy: 0.9919\n",
            "Epoch 15/25\n",
            "375/375 [==============================] - 2s 7ms/step - loss: 0.0278 - accuracy: 0.9916 - val_loss: 0.0282 - val_accuracy: 0.9923\n",
            "Epoch 16/25\n",
            "375/375 [==============================] - 2s 7ms/step - loss: 0.0269 - accuracy: 0.9914 - val_loss: 0.0275 - val_accuracy: 0.9935\n",
            "Epoch 17/25\n",
            "375/375 [==============================] - 2s 7ms/step - loss: 0.0273 - accuracy: 0.9911 - val_loss: 0.0289 - val_accuracy: 0.9919\n",
            "Epoch 18/25\n",
            "375/375 [==============================] - 3s 7ms/step - loss: 0.0252 - accuracy: 0.9920 - val_loss: 0.0313 - val_accuracy: 0.9917\n",
            "Epoch 19/25\n",
            "375/375 [==============================] - 2s 7ms/step - loss: 0.0231 - accuracy: 0.9922 - val_loss: 0.0272 - val_accuracy: 0.9931\n",
            "Epoch 20/25\n",
            "375/375 [==============================] - 2s 7ms/step - loss: 0.0242 - accuracy: 0.9921 - val_loss: 0.0285 - val_accuracy: 0.9929\n",
            "Epoch 21/25\n",
            "375/375 [==============================] - 3s 7ms/step - loss: 0.0231 - accuracy: 0.9930 - val_loss: 0.0279 - val_accuracy: 0.9937\n",
            "Epoch 22/25\n",
            "375/375 [==============================] - 3s 7ms/step - loss: 0.0206 - accuracy: 0.9939 - val_loss: 0.0291 - val_accuracy: 0.9929\n",
            "Epoch 23/25\n",
            "375/375 [==============================] - 2s 7ms/step - loss: 0.0211 - accuracy: 0.9934 - val_loss: 0.0325 - val_accuracy: 0.9923\n",
            "Epoch 24/25\n",
            "375/375 [==============================] - 2s 7ms/step - loss: 0.0196 - accuracy: 0.9936 - val_loss: 0.0291 - val_accuracy: 0.9926\n",
            "Epoch 25/25\n",
            "375/375 [==============================] - 2s 7ms/step - loss: 0.0208 - accuracy: 0.9930 - val_loss: 0.0310 - val_accuracy: 0.9929\n"
          ],
          "name": "stdout"
        }
      ]
    },
    {
      "cell_type": "code",
      "metadata": {
        "id": "UpZPkwYc7FGy",
        "colab_type": "code",
        "colab": {
          "base_uri": "https://localhost:8080/",
          "height": 1000
        },
        "outputId": "5d719ce4-41c8-4b93-efcd-fe5fd5c0cd38"
      },
      "source": [
        "hist4 = model_4.fit(x_train, y_train, validation_split = 0.2, epochs = 30, batch_size=128)"
      ],
      "execution_count": 34,
      "outputs": [
        {
          "output_type": "stream",
          "text": [
            "Epoch 1/30\n",
            "375/375 [==============================] - 3s 7ms/step - loss: 0.4209 - accuracy: 0.8645 - val_loss: 0.0830 - val_accuracy: 0.9752\n",
            "Epoch 2/30\n",
            "375/375 [==============================] - 2s 7ms/step - loss: 0.1081 - accuracy: 0.9667 - val_loss: 0.0527 - val_accuracy: 0.9841\n",
            "Epoch 3/30\n",
            "375/375 [==============================] - 2s 7ms/step - loss: 0.0759 - accuracy: 0.9765 - val_loss: 0.0420 - val_accuracy: 0.9876\n",
            "Epoch 4/30\n",
            "375/375 [==============================] - 2s 7ms/step - loss: 0.0610 - accuracy: 0.9814 - val_loss: 0.0360 - val_accuracy: 0.9897\n",
            "Epoch 5/30\n",
            "375/375 [==============================] - 2s 6ms/step - loss: 0.0509 - accuracy: 0.9835 - val_loss: 0.0320 - val_accuracy: 0.9912\n",
            "Epoch 6/30\n",
            "375/375 [==============================] - 2s 7ms/step - loss: 0.0465 - accuracy: 0.9861 - val_loss: 0.0314 - val_accuracy: 0.9915\n",
            "Epoch 7/30\n",
            "375/375 [==============================] - 2s 7ms/step - loss: 0.0394 - accuracy: 0.9875 - val_loss: 0.0312 - val_accuracy: 0.9918\n",
            "Epoch 8/30\n",
            "375/375 [==============================] - 2s 7ms/step - loss: 0.0393 - accuracy: 0.9878 - val_loss: 0.0343 - val_accuracy: 0.9909\n",
            "Epoch 9/30\n",
            "375/375 [==============================] - 2s 7ms/step - loss: 0.0336 - accuracy: 0.9895 - val_loss: 0.0297 - val_accuracy: 0.9909\n",
            "Epoch 10/30\n",
            "375/375 [==============================] - 2s 6ms/step - loss: 0.0323 - accuracy: 0.9894 - val_loss: 0.0268 - val_accuracy: 0.9931\n",
            "Epoch 11/30\n",
            "375/375 [==============================] - 2s 6ms/step - loss: 0.0309 - accuracy: 0.9903 - val_loss: 0.0307 - val_accuracy: 0.9917\n",
            "Epoch 12/30\n",
            "375/375 [==============================] - 2s 7ms/step - loss: 0.0270 - accuracy: 0.9908 - val_loss: 0.0278 - val_accuracy: 0.9926\n",
            "Epoch 13/30\n",
            "375/375 [==============================] - 2s 6ms/step - loss: 0.0264 - accuracy: 0.9915 - val_loss: 0.0278 - val_accuracy: 0.9926\n",
            "Epoch 14/30\n",
            "375/375 [==============================] - 2s 6ms/step - loss: 0.0270 - accuracy: 0.9911 - val_loss: 0.0284 - val_accuracy: 0.9927\n",
            "Epoch 15/30\n",
            "375/375 [==============================] - 2s 6ms/step - loss: 0.0248 - accuracy: 0.9920 - val_loss: 0.0256 - val_accuracy: 0.9933\n",
            "Epoch 16/30\n",
            "375/375 [==============================] - 2s 6ms/step - loss: 0.0243 - accuracy: 0.9924 - val_loss: 0.0267 - val_accuracy: 0.9929\n",
            "Epoch 17/30\n",
            "375/375 [==============================] - 2s 6ms/step - loss: 0.0236 - accuracy: 0.9925 - val_loss: 0.0295 - val_accuracy: 0.9917\n",
            "Epoch 18/30\n",
            "375/375 [==============================] - 2s 6ms/step - loss: 0.0201 - accuracy: 0.9934 - val_loss: 0.0264 - val_accuracy: 0.9937\n",
            "Epoch 19/30\n",
            "375/375 [==============================] - 2s 7ms/step - loss: 0.0200 - accuracy: 0.9935 - val_loss: 0.0282 - val_accuracy: 0.9923\n",
            "Epoch 20/30\n",
            "375/375 [==============================] - 2s 6ms/step - loss: 0.0219 - accuracy: 0.9930 - val_loss: 0.0287 - val_accuracy: 0.9928\n",
            "Epoch 21/30\n",
            "375/375 [==============================] - 2s 6ms/step - loss: 0.0196 - accuracy: 0.9937 - val_loss: 0.0277 - val_accuracy: 0.9928\n",
            "Epoch 22/30\n",
            "375/375 [==============================] - 2s 6ms/step - loss: 0.0180 - accuracy: 0.9936 - val_loss: 0.0240 - val_accuracy: 0.9934\n",
            "Epoch 23/30\n",
            "375/375 [==============================] - 2s 6ms/step - loss: 0.0195 - accuracy: 0.9936 - val_loss: 0.0256 - val_accuracy: 0.9942\n",
            "Epoch 24/30\n",
            "375/375 [==============================] - 2s 7ms/step - loss: 0.0172 - accuracy: 0.9940 - val_loss: 0.0274 - val_accuracy: 0.9935\n",
            "Epoch 25/30\n",
            "375/375 [==============================] - 2s 6ms/step - loss: 0.0192 - accuracy: 0.9936 - val_loss: 0.0246 - val_accuracy: 0.9937\n",
            "Epoch 26/30\n",
            "375/375 [==============================] - 2s 6ms/step - loss: 0.0173 - accuracy: 0.9945 - val_loss: 0.0267 - val_accuracy: 0.9935\n",
            "Epoch 27/30\n",
            "375/375 [==============================] - 2s 6ms/step - loss: 0.0174 - accuracy: 0.9942 - val_loss: 0.0259 - val_accuracy: 0.9938\n",
            "Epoch 28/30\n",
            "375/375 [==============================] - 2s 6ms/step - loss: 0.0155 - accuracy: 0.9948 - val_loss: 0.0301 - val_accuracy: 0.9927\n",
            "Epoch 29/30\n",
            "375/375 [==============================] - 2s 7ms/step - loss: 0.0173 - accuracy: 0.9944 - val_loss: 0.0276 - val_accuracy: 0.9925\n",
            "Epoch 30/30\n",
            "375/375 [==============================] - 2s 6ms/step - loss: 0.0166 - accuracy: 0.9948 - val_loss: 0.0234 - val_accuracy: 0.9943\n"
          ],
          "name": "stdout"
        }
      ]
    },
    {
      "cell_type": "code",
      "metadata": {
        "id": "y_h4pUuUpOER",
        "colab_type": "code",
        "outputId": "ab139c59-7d9f-4b7c-c724-0bb8c42f8158",
        "colab": {
          "base_uri": "https://localhost:8080/",
          "height": 49
        }
      },
      "source": [
        "score_1 = model_1.evaluate(x_test, y_test, verbose = 0)\n",
        "print(\"Simple CNN Error: %.2f%%\" % (100-score_1[1]*100))\n",
        "print(\"Simple CNN Accuracy: %.2f%%\" % (score_1[1]*100))"
      ],
      "execution_count": 0,
      "outputs": [
        {
          "output_type": "stream",
          "text": [
            "Simple CNN Error: 1.09%\n",
            "Simple CNN Accuracy: 98.91%\n"
          ],
          "name": "stdout"
        }
      ]
    },
    {
      "cell_type": "code",
      "metadata": {
        "id": "Q3MYiBWp3pM3",
        "colab_type": "code",
        "outputId": "d2c212cc-df4f-4971-ac99-720998a2e861",
        "colab": {
          "base_uri": "https://localhost:8080/",
          "height": 85
        }
      },
      "source": [
        "score_2 = model_2.evaluate(x_test, y_test, verbose = 1)\n",
        "print(\"Modified CNN Error: %.2f%%\" % (100-score_2[1]*100))\n",
        "print(\"Modified CNN Accuracy: %.2f%%\" % (score_2[1]*100))"
      ],
      "execution_count": 0,
      "outputs": [
        {
          "output_type": "stream",
          "text": [
            "313/313 [==============================] - 1s 4ms/step - loss: 0.0380 - accuracy: 0.9914\n",
            "Modified CNN Error: 0.86%\n",
            "Modified CNN Accuracy: 99.14%\n"
          ],
          "name": "stdout"
        }
      ]
    },
    {
      "cell_type": "code",
      "metadata": {
        "id": "i-vSuNDG6tR7",
        "colab_type": "code",
        "outputId": "c83b625a-2a0a-49f1-9e7b-f2fdcff5cf03",
        "colab": {
          "base_uri": "https://localhost:8080/",
          "height": 65
        }
      },
      "source": [
        "score_3 = model_3.evaluate(x_test, y_test, verbose = 1)\n",
        "print(\"Modified CNN Error: %.2f%%\" % (100-score_3[1]*100))\n",
        "print(\"Modified CNN Accuracy: %.2f%%\" % (score_3[1]*100))"
      ],
      "execution_count": 26,
      "outputs": [
        {
          "output_type": "stream",
          "text": [
            "313/313 [==============================] - 1s 2ms/step - loss: 0.0215 - accuracy: 0.9945\n",
            "Modified CNN Error: 0.55%\n",
            "Modified CNN Accuracy: 99.45%\n"
          ],
          "name": "stdout"
        }
      ]
    },
    {
      "cell_type": "code",
      "metadata": {
        "id": "QEWufTuP7aYp",
        "colab_type": "code",
        "colab": {
          "base_uri": "https://localhost:8080/",
          "height": 65
        },
        "outputId": "5c9edf2c-d0b3-4ee3-fa25-9375de5eaa7e"
      },
      "source": [
        "score_4 = model_4.evaluate(x_test, y_test, verbose = 1)\n",
        "print(\"Modified CNN Error: %.2f%%\" % (100-score_4[1]*100))\n",
        "print(\"Modified CNN Accuracy: %.2f%%\" % (score_4[1]*100))"
      ],
      "execution_count": 35,
      "outputs": [
        {
          "output_type": "stream",
          "text": [
            "313/313 [==============================] - 1s 2ms/step - loss: 0.0180 - accuracy: 0.9956\n",
            "Modified CNN Error: 0.44%\n",
            "Modified CNN Accuracy: 99.56%\n"
          ],
          "name": "stdout"
        }
      ]
    },
    {
      "cell_type": "code",
      "metadata": {
        "id": "MPL7KZYKMRaY",
        "colab_type": "code",
        "outputId": "ca7cfe7f-4fd3-4a99-88fe-bed63314e2d0",
        "colab": {
          "base_uri": "https://localhost:8080/",
          "height": 294
        }
      },
      "source": [
        "print(\"Baseline fitting\")\n",
        "acc_loss_plot(hist)"
      ],
      "execution_count": 0,
      "outputs": [
        {
          "output_type": "stream",
          "text": [
            "Baseline fitting\n"
          ],
          "name": "stdout"
        },
        {
          "output_type": "display_data",
          "data": {
            "image/png": "[encoded data removed]",
            "text/plain": [
              "<Figure size 432x288 with 2 Axes>"
            ]
          },
          "metadata": {
            "tags": [],
            "needs_background": "light"
          }
        }
      ]
    },
    {
      "cell_type": "code",
      "metadata": {
        "id": "iI37_jrmMtVH",
        "colab_type": "code",
        "outputId": "080040a9-87ac-4ba3-b915-16307b8fe36c",
        "colab": {
          "base_uri": "https://localhost:8080/",
          "height": 294
        }
      },
      "source": [
        "print(\"Simple CNN fitting\")\n",
        "acc_loss_plot(hist1)"
      ],
      "execution_count": 0,
      "outputs": [
        {
          "output_type": "stream",
          "text": [
            "Simple CNN fitting\n"
          ],
          "name": "stdout"
        },
        {
          "output_type": "display_data",
          "data": {
            "image/png": "[encoded data removed]",
            "text/plain": [
              "<Figure size 432x288 with 2 Axes>"
            ]
          },
          "metadata": {
            "tags": [],
            "needs_background": "light"
          }
        }
      ]
    },
    {
      "cell_type": "code",
      "metadata": {
        "id": "4w3HG6O77w-T",
        "colab_type": "code",
        "outputId": "e800fd67-49e7-4e7d-f654-c8d1c9d5ced9",
        "colab": {
          "base_uri": "https://localhost:8080/",
          "height": 294
        }
      },
      "source": [
        "print(\"Model2 CNN fitting\")\n",
        "acc_loss_plot(hist2)"
      ],
      "execution_count": 0,
      "outputs": [
        {
          "output_type": "stream",
          "text": [
            "Model2 CNN fitting\n"
          ],
          "name": "stdout"
        },
        {
          "output_type": "display_data",
          "data": {
            "image/png": "[encoded data removed]",
            "text/plain": [
              "<Figure size 432x288 with 2 Axes>"
            ]
          },
          "metadata": {
            "tags": [],
            "needs_background": "light"
          }
        }
      ]
    },
    {
      "cell_type": "code",
      "metadata": {
        "id": "cAMY-iXEMzFN",
        "colab_type": "code",
        "outputId": "4ada2021-65af-4ce2-b378-1764f979cf15",
        "colab": {
          "base_uri": "https://localhost:8080/",
          "height": 298
        }
      },
      "source": [
        "print(\"Model3 CNN fitting\")\n",
        "acc_loss_plot(hist3)"
      ],
      "execution_count": 0,
      "outputs": [
        {
          "output_type": "stream",
          "text": [
            "Model3 CNN fitting\n"
          ],
          "name": "stdout"
        },
        {
          "output_type": "display_data",
          "data": {
            "image/png": "[encoded data removed]",
            "text/plain": [
              "<Figure size 432x288 with 2 Axes>"
            ]
          },
          "metadata": {
            "tags": [],
            "needs_background": "light"
          }
        }
      ]
    },
    {
      "cell_type": "code",
      "metadata": {
        "id": "TlGI_Uv-7pdQ",
        "colab_type": "code",
        "colab": {
          "base_uri": "https://localhost:8080/",
          "height": 296
        },
        "outputId": "0ccc1ade-6373-46ca-c0e8-8c220de5cd5c"
      },
      "source": [
        "print(\"Model3 CNN fitting\")\n",
        "acc_loss_plot(hist4)"
      ],
      "execution_count": 36,
      "outputs": [
        {
          "output_type": "stream",
          "text": [
            "Model3 CNN fitting\n"
          ],
          "name": "stdout"
        },
        {
          "output_type": "display_data",
          "data": {
            "image/png": "[encoded data removed]",
            "text/plain": [
              "<Figure size 432x288 with 2 Axes>"
            ]
          },
          "metadata": {
            "tags": [],
            "needs_background": "light"
          }
        }
      ]
    },
    {
      "cell_type": "code",
      "metadata": {
        "id": "ixwEvi-e9OH5",
        "colab_type": "code",
        "colab": {}
      },
      "source": [
        ""
      ],
      "execution_count": 0,
      "outputs": []
    }
  ]
}