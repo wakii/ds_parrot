{
  "nbformat": 4,
  "nbformat_minor": 0,
  "metadata": {
    "colab": {
      "name": "parraot_decision_tree.ipynb",
      "provenance": [],
      "collapsed_sections": [],
      "include_colab_link": true
    },
    "kernelspec": {
      "name": "python3",
      "display_name": "Python 3"
    }
  },
  "cells": [
    {
      "cell_type": "markdown",
      "metadata": {
        "id": "view-in-github",
        "colab_type": "text"
      },
      "source": [
        "<a href=\"https://colab.research.google.com/github/wakii/ds_parrot/blob/master/parraot_decision_tree.ipynb\" target=\"_parent\"><img src=\"https://colab.research.google.com/assets/colab-badge.svg\" alt=\"Open In Colab\"/></a>"
      ]
    },
    {
      "cell_type": "code",
      "metadata": {
        "id": "XVAsh5DmNRxr",
        "colab_type": "code",
        "outputId": "7ab241f7-ba90-4f74-97c9-c37d6358f9fc",
        "colab": {
          "base_uri": "https://localhost:8080/",
          "height": 104
        }
      },
      "source": [
        "!pip install sklearn"
      ],
      "execution_count": 0,
      "outputs": [
        {
          "output_type": "stream",
          "text": [
            "Requirement already satisfied: sklearn in /usr/local/lib/python3.6/dist-packages (0.0)\n",
            "Requirement already satisfied: scikit-learn in /usr/local/lib/python3.6/dist-packages (from sklearn) (0.22.2.post1)\n",
            "Requirement already satisfied: numpy>=1.11.0 in /usr/local/lib/python3.6/dist-packages (from scikit-learn->sklearn) (1.18.2)\n",
            "Requirement already satisfied: scipy>=0.17.0 in /usr/local/lib/python3.6/dist-packages (from scikit-learn->sklearn) (1.4.1)\n",
            "Requirement already satisfied: joblib>=0.11 in /usr/local/lib/python3.6/dist-packages (from scikit-learn->sklearn) (0.14.1)\n"
          ],
          "name": "stdout"
        }
      ]
    },
    {
      "cell_type": "code",
      "metadata": {
        "id": "FITjzbc1NYDc",
        "colab_type": "code",
        "colab": {}
      },
      "source": [
        "from __future__ import absolute_import, division, print_function, unicode_literals\n",
        "\n",
        "import os\n",
        "import sys\n",
        "\n",
        "import numpy as np\n",
        "import pandas as pd\n",
        "import matplotlib.pyplot as plt\n",
        "%matplotlib inline"
      ],
      "execution_count": 0,
      "outputs": []
    },
    {
      "cell_type": "code",
      "metadata": {
        "id": "X6j84rx9NwhN",
        "colab_type": "code",
        "outputId": "24736350-7333-43b7-c180-142e5d50a61d",
        "colab": {
          "base_uri": "https://localhost:8080/",
          "height": 380
        }
      },
      "source": [
        "raw_data = pd.read_excel('titanic.xls')\n",
        "raw_data.info()"
      ],
      "execution_count": 0,
      "outputs": [
        {
          "output_type": "stream",
          "text": [
            "<class 'pandas.core.frame.DataFrame'>\n",
            "RangeIndex: 1309 entries, 0 to 1308\n",
            "Data columns (total 14 columns):\n",
            " #   Column     Non-Null Count  Dtype  \n",
            "---  ------     --------------  -----  \n",
            " 0   pclass     1309 non-null   int64  \n",
            " 1   survived   1309 non-null   int64  \n",
            " 2   name       1309 non-null   object \n",
            " 3   sex        1309 non-null   object \n",
            " 4   age        1046 non-null   float64\n",
            " 5   sibsp      1309 non-null   int64  \n",
            " 6   parch      1309 non-null   int64  \n",
            " 7   ticket     1309 non-null   object \n",
            " 8   fare       1308 non-null   float64\n",
            " 9   cabin      295 non-null    object \n",
            " 10  embarked   1307 non-null   object \n",
            " 11  boat       486 non-null    object \n",
            " 12  body       121 non-null    float64\n",
            " 13  home.dest  745 non-null    object \n",
            "dtypes: float64(3), int64(4), object(7)\n",
            "memory usage: 143.3+ KB\n"
          ],
          "name": "stdout"
        }
      ]
    },
    {
      "cell_type": "code",
      "metadata": {
        "id": "iVyXRZ7RLOF3",
        "colab_type": "code",
        "colab": {}
      },
      "source": [
        "# Survived : 생존여부(1: 생존, 0 : 사망)\n",
        "# Pclass : 승선권 클래스(1 : 1st, 2 : 2nd ,3 : 3rd)\n",
        "# Name : 승객 이름\n",
        "# Sex : 승객 성별\n",
        "# Age : 승객 나이\n",
        "# SibSp : 동반한 형제자매, 배우자 수\n",
        "# Parch : 동반한 부모, 자식 수\n",
        "# Ticket : 티켓의 고유 넘버\n",
        "# Fare 티켓의 요금\n",
        "# Cabin : 객실 번호\n",
        "# Embarked : 승선한 항구명(C : Cherbourg, Q : Queenstown, S : Southampton)"
      ],
      "execution_count": 0,
      "outputs": []
    },
    {
      "cell_type": "code",
      "metadata": {
        "id": "bwkCR9hD_dyp",
        "colab_type": "code",
        "outputId": "027c429d-00f5-4697-c198-ed2a64259966",
        "colab": {
          "base_uri": "https://localhost:8080/",
          "height": 435
        }
      },
      "source": [
        "raw_data['sex'] = raw_data['sex'].replace(['female','male'], [0,1])\n",
        "raw_data[['survived', 'pclass', 'sibsp', 'parch', 'fare']] = raw_data[['survived', 'pclass', 'sibsp', 'parch', 'fare']].apply(pd.to_numeric)\n",
        "raw_data = raw_data[raw_data['age'] != '']\n",
        "\n",
        "raw_data.info() # 여러 번 하면 이미 바뀐 상태라 오류"
      ],
      "execution_count": 0,
      "outputs": [
        {
          "output_type": "stream",
          "text": [
            "<class 'pandas.core.frame.DataFrame'>\n",
            "Int64Index: 1309 entries, 0 to 1308\n",
            "Data columns (total 14 columns):\n",
            " #   Column     Non-Null Count  Dtype  \n",
            "---  ------     --------------  -----  \n",
            " 0   pclass     1309 non-null   int64  \n",
            " 1   survived   1309 non-null   int64  \n",
            " 2   name       1309 non-null   object \n",
            " 3   sex        1309 non-null   int64  \n",
            " 4   age        1046 non-null   float64\n",
            " 5   sibsp      1309 non-null   int64  \n",
            " 6   parch      1309 non-null   int64  \n",
            " 7   ticket     1309 non-null   object \n",
            " 8   fare       1308 non-null   float64\n",
            " 9   cabin      295 non-null    object \n",
            " 10  embarked   1307 non-null   object \n",
            " 11  boat       486 non-null    object \n",
            " 12  body       121 non-null    float64\n",
            " 13  home.dest  745 non-null    object \n",
            "dtypes: float64(3), int64(5), object(6)\n",
            "memory usage: 153.4+ KB\n"
          ],
          "name": "stdout"
        },
        {
          "output_type": "stream",
          "text": [
            "/usr/local/lib/python3.6/dist-packages/pandas/core/ops/array_ops.py:253: FutureWarning: elementwise comparison failed; returning scalar instead, but in the future will perform elementwise comparison\n",
            "  res_values = method(rvalues)\n"
          ],
          "name": "stderr"
        }
      ]
    },
    {
      "cell_type": "code",
      "metadata": {
        "id": "v-gUKPH0Im6U",
        "colab_type": "code",
        "outputId": "5886eb85-1b1e-476f-9fe7-70941164463f",
        "colab": {
          "base_uri": "https://localhost:8080/",
          "height": 242
        }
      },
      "source": [
        "raw_data = raw_data[['survived', 'pclass','sex','age','sibsp','parch','fare']].dropna()\n",
        "train_pre = raw_data[['pclass','sex','age','sibsp','parch','fare']].dropna()\n",
        "\n",
        "train_pre.info()"
      ],
      "execution_count": 0,
      "outputs": [
        {
          "output_type": "stream",
          "text": [
            "<class 'pandas.core.frame.DataFrame'>\n",
            "Int64Index: 1045 entries, 0 to 1308\n",
            "Data columns (total 6 columns):\n",
            " #   Column  Non-Null Count  Dtype  \n",
            "---  ------  --------------  -----  \n",
            " 0   pclass  1045 non-null   int64  \n",
            " 1   sex     1045 non-null   int64  \n",
            " 2   age     1045 non-null   float64\n",
            " 3   sibsp   1045 non-null   int64  \n",
            " 4   parch   1045 non-null   int64  \n",
            " 5   fare    1045 non-null   float64\n",
            "dtypes: float64(2), int64(4)\n",
            "memory usage: 57.1 KB\n"
          ],
          "name": "stdout"
        }
      ]
    },
    {
      "cell_type": "code",
      "metadata": {
        "id": "asc1YvINIV1r",
        "colab_type": "code",
        "colab": {}
      },
      "source": [
        "from sklearn.model_selection import train_test_split\n",
        "x_train, x_test, y_train, y_test = train_test_split(train_pre, raw_data[['survived']], test_size=0.2, random_state=13)"
      ],
      "execution_count": 0,
      "outputs": []
    },
    {
      "cell_type": "code",
      "metadata": {
        "id": "ZaaKBqxzBtpB",
        "colab_type": "code",
        "outputId": "d8315bd0-3892-468a-f7ea-37b417e934a6",
        "colab": {
          "base_uri": "https://localhost:8080/",
          "height": 52
        }
      },
      "source": [
        "from sklearn.tree import DecisionTreeClassifier\n",
        "from sklearn.metrics import accuracy_score\n",
        "\n",
        "tree = DecisionTreeClassifier(max_depth=3, random_state=13)\n",
        "tree.fit(x_train, y_train)\n",
        "\n",
        "train_score = tree.score(x_train, y_train)\n",
        "test_score = tree.score(x_test, y_test)\n",
        "\n",
        "predict_y = tree.predict(x_test) # x_train을 넣은 결과가 y_train / x_test를 넣은 결과가 y_test\n",
        "print('Score1: {}'.format(tree.score(x_train, y_train)))\n",
        "print('Score2: {}'.format(tree.score(x_test, y_test)))"
      ],
      "execution_count": 0,
      "outputs": [
        {
          "output_type": "stream",
          "text": [
            "Score1: 0.8074162679425837\n",
            "Score2: 0.7799043062200957\n"
          ],
          "name": "stdout"
        }
      ]
    },
    {
      "cell_type": "code",
      "metadata": {
        "id": "jKMfRDW4jqGQ",
        "colab_type": "code",
        "colab": {}
      },
      "source": [
        "#             생존 O | 생존 X\n",
        "# 생존 O 예측    104     17\n",
        "# 생존 X 예측    29      59"
      ],
      "execution_count": 0,
      "outputs": []
    },
    {
      "cell_type": "code",
      "metadata": {
        "id": "oxZzmpNZg5wN",
        "colab_type": "code",
        "outputId": "68ea25da-bb17-4b59-95d2-47a0374b4e2f",
        "colab": {
          "base_uri": "https://localhost:8080/",
          "height": 52
        }
      },
      "source": [
        "from sklearn.metrics import confusion_matrix\n",
        "confusion_matrix(y_test, predict_y)"
      ],
      "execution_count": 0,
      "outputs": [
        {
          "output_type": "execute_result",
          "data": {
            "text/plain": [
              "array([[104,  17],\n",
              "       [ 29,  59]])"
            ]
          },
          "metadata": {
            "tags": []
          },
          "execution_count": 15
        }
      ]
    },
    {
      "cell_type": "code",
      "metadata": {
        "colab_type": "code",
        "outputId": "8cc6c9f3-1c2b-4ebb-f332-481bb80aa86c",
        "id": "fsysCCwM8UfS",
        "colab": {
          "base_uri": "https://localhost:8080/",
          "height": 106
        }
      },
      "source": [
        "from sklearn.ensemble import BaggingClassifier\n",
        "bagging = BaggingClassifier(DecisionTreeClassifier(max_depth=3, random_state=0), n_estimators=100, random_state=0).fit(x_train, y_train)\n",
        "\n",
        "print('Score1: {}'.format(bagging.score(x_train, y_train)))\n",
        "print('Score2: {}'.format(bagging.score(x_test, y_test)))"
      ],
      "execution_count": 0,
      "outputs": [
        {
          "output_type": "stream",
          "text": [
            "/usr/local/lib/python3.6/dist-packages/sklearn/ensemble/_bagging.py:645: DataConversionWarning: A column-vector y was passed when a 1d array was expected. Please change the shape of y to (n_samples, ), for example using ravel().\n",
            "  y = column_or_1d(y, warn=True)\n"
          ],
          "name": "stderr"
        },
        {
          "output_type": "stream",
          "text": [
            "Score1: 0.8241626794258373\n",
            "Score2: 0.784688995215311\n"
          ],
          "name": "stdout"
        }
      ]
    },
    {
      "cell_type": "code",
      "metadata": {
        "id": "lV1pEN5WWO2u",
        "colab_type": "code",
        "outputId": "ac1c7002-8f61-4426-a877-bf1fcd1c081c",
        "colab": {
          "base_uri": "https://localhost:8080/",
          "height": 619
        }
      },
      "source": [
        "from sklearn.tree import export_graphviz\n",
        "\n",
        "export_graphviz(\n",
        "        tree,\n",
        "        out_file=\"titanic.dot\",\n",
        "        feature_names=['pclass', 'sex', 'age', 'sibsp', 'parch', 'fare'],\n",
        "        class_names=['Unsurvived','Survived'],\n",
        "        rounded=True,\n",
        "        filled=True\n",
        "    )\n",
        "\n",
        "import graphviz\n",
        "with open(\"titanic.dot\") as f:\n",
        "    dot_graph = f.read()\n",
        "dot = graphviz.Source(dot_graph)\n",
        "dot.format = 'png'\n",
        "dot.render(filename='titanic_tree', directory='images/decision_trees', cleanup=True)\n",
        "dot"
      ],
      "execution_count": 0,
      "outputs": [
        {
          "output_type": "execute_result",
          "data": {
            "text/plain": [
              "<graphviz.files.Source at 0x7f7d70786e10>"
            ],
            "image/svg+xml": "<?xml version=\"1.0\" encoding=\"UTF-8\" standalone=\"no\"?>\n<!DOCTYPE svg PUBLIC \"-//W3C//DTD SVG 1.1//EN\"\n \"http://www.w3.org/Graphics/SVG/1.1/DTD/svg11.dtd\">\n<!-- Generated by graphviz version 2.40.1 (20161225.0304)\n -->\n<!-- Title: Tree Pages: 1 -->\n<svg width=\"1188pt\" height=\"433pt\"\n viewBox=\"0.00 0.00 1187.50 433.00\" xmlns=\"http://www.w3.org/2000/svg\" xmlns:xlink=\"http://www.w3.org/1999/xlink\">\n<g id=\"graph0\" class=\"graph\" transform=\"scale(1 1) rotate(0) translate(4 429)\">\n<title>Tree</title>\n<polygon fill=\"#ffffff\" stroke=\"transparent\" points=\"-4,4 -4,-429 1183.5,-429 1183.5,4 -4,4\"/>\n<!-- 0 -->\n<g id=\"node1\" class=\"node\">\n<title>0</title>\n<path fill=\"#f7d7c0\" stroke=\"#000000\" d=\"M629.5,-425C629.5,-425 513.5,-425 513.5,-425 507.5,-425 501.5,-419 501.5,-413 501.5,-413 501.5,-354 501.5,-354 501.5,-348 507.5,-342 513.5,-342 513.5,-342 629.5,-342 629.5,-342 635.5,-342 641.5,-348 641.5,-354 641.5,-354 641.5,-413 641.5,-413 641.5,-419 635.5,-425 629.5,-425\"/>\n<text text-anchor=\"middle\" x=\"571.5\" y=\"-409.8\" font-family=\"Helvetica,sans-Serif\" font-size=\"14.00\" fill=\"#000000\">sex &lt;= 0.5</text>\n<text text-anchor=\"middle\" x=\"571.5\" y=\"-394.8\" font-family=\"Helvetica,sans-Serif\" font-size=\"14.00\" fill=\"#000000\">gini = 0.482</text>\n<text text-anchor=\"middle\" x=\"571.5\" y=\"-379.8\" font-family=\"Helvetica,sans-Serif\" font-size=\"14.00\" fill=\"#000000\">samples = 836</text>\n<text text-anchor=\"middle\" x=\"571.5\" y=\"-364.8\" font-family=\"Helvetica,sans-Serif\" font-size=\"14.00\" fill=\"#000000\">value = [497, 339]</text>\n<text text-anchor=\"middle\" x=\"571.5\" y=\"-349.8\" font-family=\"Helvetica,sans-Serif\" font-size=\"14.00\" fill=\"#000000\">class = Unsurvived</text>\n</g>\n<!-- 1 -->\n<g id=\"node2\" class=\"node\">\n<title>1</title>\n<path fill=\"#7abdee\" stroke=\"#000000\" d=\"M472.5,-306C472.5,-306 372.5,-306 372.5,-306 366.5,-306 360.5,-300 360.5,-294 360.5,-294 360.5,-235 360.5,-235 360.5,-229 366.5,-223 372.5,-223 372.5,-223 472.5,-223 472.5,-223 478.5,-223 484.5,-229 484.5,-235 484.5,-235 484.5,-294 484.5,-294 484.5,-300 478.5,-306 472.5,-306\"/>\n<text text-anchor=\"middle\" x=\"422.5\" y=\"-290.8\" font-family=\"Helvetica,sans-Serif\" font-size=\"14.00\" fill=\"#000000\">pclass &lt;= 2.5</text>\n<text text-anchor=\"middle\" x=\"422.5\" y=\"-275.8\" font-family=\"Helvetica,sans-Serif\" font-size=\"14.00\" fill=\"#000000\">gini = 0.373</text>\n<text text-anchor=\"middle\" x=\"422.5\" y=\"-260.8\" font-family=\"Helvetica,sans-Serif\" font-size=\"14.00\" fill=\"#000000\">samples = 314</text>\n<text text-anchor=\"middle\" x=\"422.5\" y=\"-245.8\" font-family=\"Helvetica,sans-Serif\" font-size=\"14.00\" fill=\"#000000\">value = [78, 236]</text>\n<text text-anchor=\"middle\" x=\"422.5\" y=\"-230.8\" font-family=\"Helvetica,sans-Serif\" font-size=\"14.00\" fill=\"#000000\">class = Survived</text>\n</g>\n<!-- 0&#45;&gt;1 -->\n<g id=\"edge1\" class=\"edge\">\n<title>0&#45;&gt;1</title>\n<path fill=\"none\" stroke=\"#000000\" d=\"M519.387,-341.8796C507.4775,-332.368 494.7266,-322.1843 482.5156,-312.432\"/>\n<polygon fill=\"#000000\" stroke=\"#000000\" points=\"484.5816,-309.6027 474.5835,-306.0969 480.2132,-315.0724 484.5816,-309.6027\"/>\n<text text-anchor=\"middle\" x=\"477.3647\" y=\"-327.2417\" font-family=\"Helvetica,sans-Serif\" font-size=\"14.00\" fill=\"#000000\">True</text>\n</g>\n<!-- 8 -->\n<g id=\"node9\" class=\"node\">\n<title>8</title>\n<path fill=\"#eba06a\" stroke=\"#000000\" d=\"M784.5,-306C784.5,-306 668.5,-306 668.5,-306 662.5,-306 656.5,-300 656.5,-294 656.5,-294 656.5,-235 656.5,-235 656.5,-229 662.5,-223 668.5,-223 668.5,-223 784.5,-223 784.5,-223 790.5,-223 796.5,-229 796.5,-235 796.5,-235 796.5,-294 796.5,-294 796.5,-300 790.5,-306 784.5,-306\"/>\n<text text-anchor=\"middle\" x=\"726.5\" y=\"-290.8\" font-family=\"Helvetica,sans-Serif\" font-size=\"14.00\" fill=\"#000000\">pclass &lt;= 1.5</text>\n<text text-anchor=\"middle\" x=\"726.5\" y=\"-275.8\" font-family=\"Helvetica,sans-Serif\" font-size=\"14.00\" fill=\"#000000\">gini = 0.317</text>\n<text text-anchor=\"middle\" x=\"726.5\" y=\"-260.8\" font-family=\"Helvetica,sans-Serif\" font-size=\"14.00\" fill=\"#000000\">samples = 522</text>\n<text text-anchor=\"middle\" x=\"726.5\" y=\"-245.8\" font-family=\"Helvetica,sans-Serif\" font-size=\"14.00\" fill=\"#000000\">value = [419, 103]</text>\n<text text-anchor=\"middle\" x=\"726.5\" y=\"-230.8\" font-family=\"Helvetica,sans-Serif\" font-size=\"14.00\" fill=\"#000000\">class = Unsurvived</text>\n</g>\n<!-- 0&#45;&gt;8 -->\n<g id=\"edge8\" class=\"edge\">\n<title>0&#45;&gt;8</title>\n<path fill=\"none\" stroke=\"#000000\" d=\"M625.7115,-341.8796C638.1006,-332.368 651.3649,-322.1843 664.0676,-312.432\"/>\n<polygon fill=\"#000000\" stroke=\"#000000\" points=\"666.5186,-314.9628 672.3191,-306.0969 662.2558,-309.4105 666.5186,-314.9628\"/>\n<text text-anchor=\"middle\" x=\"669.0624\" y=\"-327.1839\" font-family=\"Helvetica,sans-Serif\" font-size=\"14.00\" fill=\"#000000\">False</text>\n</g>\n<!-- 2 -->\n<g id=\"node3\" class=\"node\">\n<title>2</title>\n<path fill=\"#47a4e7\" stroke=\"#000000\" d=\"M252.5,-187C252.5,-187 152.5,-187 152.5,-187 146.5,-187 140.5,-181 140.5,-175 140.5,-175 140.5,-116 140.5,-116 140.5,-110 146.5,-104 152.5,-104 152.5,-104 252.5,-104 252.5,-104 258.5,-104 264.5,-110 264.5,-116 264.5,-116 264.5,-175 264.5,-175 264.5,-181 258.5,-187 252.5,-187\"/>\n<text text-anchor=\"middle\" x=\"202.5\" y=\"-171.8\" font-family=\"Helvetica,sans-Serif\" font-size=\"14.00\" fill=\"#000000\">fare &lt;= 32.09</text>\n<text text-anchor=\"middle\" x=\"202.5\" y=\"-156.8\" font-family=\"Helvetica,sans-Serif\" font-size=\"14.00\" fill=\"#000000\">gini = 0.126</text>\n<text text-anchor=\"middle\" x=\"202.5\" y=\"-141.8\" font-family=\"Helvetica,sans-Serif\" font-size=\"14.00\" fill=\"#000000\">samples = 193</text>\n<text text-anchor=\"middle\" x=\"202.5\" y=\"-126.8\" font-family=\"Helvetica,sans-Serif\" font-size=\"14.00\" fill=\"#000000\">value = [13, 180]</text>\n<text text-anchor=\"middle\" x=\"202.5\" y=\"-111.8\" font-family=\"Helvetica,sans-Serif\" font-size=\"14.00\" fill=\"#000000\">class = Survived</text>\n</g>\n<!-- 1&#45;&gt;2 -->\n<g id=\"edge2\" class=\"edge\">\n<title>1&#45;&gt;2</title>\n<path fill=\"none\" stroke=\"#000000\" d=\"M360.339,-230.8765C333.2804,-216.2403 301.4255,-199.0097 273.4449,-183.8748\"/>\n<polygon fill=\"#000000\" stroke=\"#000000\" points=\"274.9684,-180.7196 264.5075,-179.0404 271.638,-186.8766 274.9684,-180.7196\"/>\n</g>\n<!-- 5 -->\n<g id=\"node6\" class=\"node\">\n<title>5</title>\n<path fill=\"#fbeee4\" stroke=\"#000000\" d=\"M480.5,-187C480.5,-187 364.5,-187 364.5,-187 358.5,-187 352.5,-181 352.5,-175 352.5,-175 352.5,-116 352.5,-116 352.5,-110 358.5,-104 364.5,-104 364.5,-104 480.5,-104 480.5,-104 486.5,-104 492.5,-110 492.5,-116 492.5,-116 492.5,-175 492.5,-175 492.5,-181 486.5,-187 480.5,-187\"/>\n<text text-anchor=\"middle\" x=\"422.5\" y=\"-171.8\" font-family=\"Helvetica,sans-Serif\" font-size=\"14.00\" fill=\"#000000\">fare &lt;= 23.087</text>\n<text text-anchor=\"middle\" x=\"422.5\" y=\"-156.8\" font-family=\"Helvetica,sans-Serif\" font-size=\"14.00\" fill=\"#000000\">gini = 0.497</text>\n<text text-anchor=\"middle\" x=\"422.5\" y=\"-141.8\" font-family=\"Helvetica,sans-Serif\" font-size=\"14.00\" fill=\"#000000\">samples = 121</text>\n<text text-anchor=\"middle\" x=\"422.5\" y=\"-126.8\" font-family=\"Helvetica,sans-Serif\" font-size=\"14.00\" fill=\"#000000\">value = [65, 56]</text>\n<text text-anchor=\"middle\" x=\"422.5\" y=\"-111.8\" font-family=\"Helvetica,sans-Serif\" font-size=\"14.00\" fill=\"#000000\">class = Unsurvived</text>\n</g>\n<!-- 1&#45;&gt;5 -->\n<g id=\"edge5\" class=\"edge\">\n<title>1&#45;&gt;5</title>\n<path fill=\"none\" stroke=\"#000000\" d=\"M422.5,-222.8796C422.5,-214.6838 422.5,-205.9891 422.5,-197.5013\"/>\n<polygon fill=\"#000000\" stroke=\"#000000\" points=\"426.0001,-197.298 422.5,-187.2981 419.0001,-197.2981 426.0001,-197.298\"/>\n</g>\n<!-- 3 -->\n<g id=\"node4\" class=\"node\">\n<title>3</title>\n<path fill=\"#5aaee9\" stroke=\"#000000\" d=\"M111,-68C111,-68 12,-68 12,-68 6,-68 0,-62 0,-56 0,-56 0,-12 0,-12 0,-6 6,0 12,0 12,0 111,0 111,0 117,0 123,-6 123,-12 123,-12 123,-56 123,-56 123,-62 117,-68 111,-68\"/>\n<text text-anchor=\"middle\" x=\"61.5\" y=\"-52.8\" font-family=\"Helvetica,sans-Serif\" font-size=\"14.00\" fill=\"#000000\">gini = 0.247</text>\n<text text-anchor=\"middle\" x=\"61.5\" y=\"-37.8\" font-family=\"Helvetica,sans-Serif\" font-size=\"14.00\" fill=\"#000000\">samples = 83</text>\n<text text-anchor=\"middle\" x=\"61.5\" y=\"-22.8\" font-family=\"Helvetica,sans-Serif\" font-size=\"14.00\" fill=\"#000000\">value = [12, 71]</text>\n<text text-anchor=\"middle\" x=\"61.5\" y=\"-7.8\" font-family=\"Helvetica,sans-Serif\" font-size=\"14.00\" fill=\"#000000\">class = Survived</text>\n</g>\n<!-- 2&#45;&gt;3 -->\n<g id=\"edge3\" class=\"edge\">\n<title>2&#45;&gt;3</title>\n<path fill=\"none\" stroke=\"#000000\" d=\"M149.9968,-103.9815C137.7934,-94.3313 124.819,-84.0714 112.6739,-74.4673\"/>\n<polygon fill=\"#000000\" stroke=\"#000000\" points=\"114.8438,-71.7211 104.829,-68.2637 110.5018,-77.2118 114.8438,-71.7211\"/>\n</g>\n<!-- 4 -->\n<g id=\"node5\" class=\"node\">\n<title>4</title>\n<path fill=\"#3b9ee5\" stroke=\"#000000\" d=\"M252,-68C252,-68 153,-68 153,-68 147,-68 141,-62 141,-56 141,-56 141,-12 141,-12 141,-6 147,0 153,0 153,0 252,0 252,0 258,0 264,-6 264,-12 264,-12 264,-56 264,-56 264,-62 258,-68 252,-68\"/>\n<text text-anchor=\"middle\" x=\"202.5\" y=\"-52.8\" font-family=\"Helvetica,sans-Serif\" font-size=\"14.00\" fill=\"#000000\">gini = 0.018</text>\n<text text-anchor=\"middle\" x=\"202.5\" y=\"-37.8\" font-family=\"Helvetica,sans-Serif\" font-size=\"14.00\" fill=\"#000000\">samples = 110</text>\n<text text-anchor=\"middle\" x=\"202.5\" y=\"-22.8\" font-family=\"Helvetica,sans-Serif\" font-size=\"14.00\" fill=\"#000000\">value = [1, 109]</text>\n<text text-anchor=\"middle\" x=\"202.5\" y=\"-7.8\" font-family=\"Helvetica,sans-Serif\" font-size=\"14.00\" fill=\"#000000\">class = Survived</text>\n</g>\n<!-- 2&#45;&gt;4 -->\n<g id=\"edge4\" class=\"edge\">\n<title>2&#45;&gt;4</title>\n<path fill=\"none\" stroke=\"#000000\" d=\"M202.5,-103.9815C202.5,-95.618 202.5,-86.7965 202.5,-78.3409\"/>\n<polygon fill=\"#000000\" stroke=\"#000000\" points=\"206.0001,-78.2636 202.5,-68.2637 199.0001,-78.2637 206.0001,-78.2636\"/>\n</g>\n<!-- 6 -->\n<g id=\"node7\" class=\"node\">\n<title>6</title>\n<path fill=\"#e6f3fc\" stroke=\"#000000\" d=\"M393,-68C393,-68 294,-68 294,-68 288,-68 282,-62 282,-56 282,-56 282,-12 282,-12 282,-6 288,0 294,0 294,0 393,0 393,0 399,0 405,-6 405,-12 405,-12 405,-56 405,-56 405,-62 399,-68 393,-68\"/>\n<text text-anchor=\"middle\" x=\"343.5\" y=\"-52.8\" font-family=\"Helvetica,sans-Serif\" font-size=\"14.00\" fill=\"#000000\">gini = 0.498</text>\n<text text-anchor=\"middle\" x=\"343.5\" y=\"-37.8\" font-family=\"Helvetica,sans-Serif\" font-size=\"14.00\" fill=\"#000000\">samples = 103</text>\n<text text-anchor=\"middle\" x=\"343.5\" y=\"-22.8\" font-family=\"Helvetica,sans-Serif\" font-size=\"14.00\" fill=\"#000000\">value = [48, 55]</text>\n<text text-anchor=\"middle\" x=\"343.5\" y=\"-7.8\" font-family=\"Helvetica,sans-Serif\" font-size=\"14.00\" fill=\"#000000\">class = Survived</text>\n</g>\n<!-- 5&#45;&gt;6 -->\n<g id=\"edge6\" class=\"edge\">\n<title>5&#45;&gt;6</title>\n<path fill=\"none\" stroke=\"#000000\" d=\"M393.0833,-103.9815C386.7669,-95.0666 380.0818,-85.6313 373.7349,-76.6734\"/>\n<polygon fill=\"#000000\" stroke=\"#000000\" points=\"376.4136,-74.3998 367.7765,-68.2637 370.7019,-78.4466 376.4136,-74.3998\"/>\n</g>\n<!-- 7 -->\n<g id=\"node8\" class=\"node\">\n<title>7</title>\n<path fill=\"#e78845\" stroke=\"#000000\" d=\"M551.5,-68C551.5,-68 435.5,-68 435.5,-68 429.5,-68 423.5,-62 423.5,-56 423.5,-56 423.5,-12 423.5,-12 423.5,-6 429.5,0 435.5,0 435.5,0 551.5,0 551.5,0 557.5,0 563.5,-6 563.5,-12 563.5,-12 563.5,-56 563.5,-56 563.5,-62 557.5,-68 551.5,-68\"/>\n<text text-anchor=\"middle\" x=\"493.5\" y=\"-52.8\" font-family=\"Helvetica,sans-Serif\" font-size=\"14.00\" fill=\"#000000\">gini = 0.105</text>\n<text text-anchor=\"middle\" x=\"493.5\" y=\"-37.8\" font-family=\"Helvetica,sans-Serif\" font-size=\"14.00\" fill=\"#000000\">samples = 18</text>\n<text text-anchor=\"middle\" x=\"493.5\" y=\"-22.8\" font-family=\"Helvetica,sans-Serif\" font-size=\"14.00\" fill=\"#000000\">value = [17, 1]</text>\n<text text-anchor=\"middle\" x=\"493.5\" y=\"-7.8\" font-family=\"Helvetica,sans-Serif\" font-size=\"14.00\" fill=\"#000000\">class = Unsurvived</text>\n</g>\n<!-- 5&#45;&gt;7 -->\n<g id=\"edge7\" class=\"edge\">\n<title>5&#45;&gt;7</title>\n<path fill=\"none\" stroke=\"#000000\" d=\"M448.9378,-103.9815C454.556,-95.1585 460.4988,-85.8258 466.1503,-76.9506\"/>\n<polygon fill=\"#000000\" stroke=\"#000000\" points=\"469.2629,-78.5787 471.6819,-68.2637 463.3584,-74.8188 469.2629,-78.5787\"/>\n</g>\n<!-- 9 -->\n<g id=\"node10\" class=\"node\">\n<title>9</title>\n<path fill=\"#f3c4a2\" stroke=\"#000000\" d=\"M784.5,-187C784.5,-187 668.5,-187 668.5,-187 662.5,-187 656.5,-181 656.5,-175 656.5,-175 656.5,-116 656.5,-116 656.5,-110 662.5,-104 668.5,-104 668.5,-104 784.5,-104 784.5,-104 790.5,-104 796.5,-110 796.5,-116 796.5,-116 796.5,-175 796.5,-175 796.5,-181 790.5,-187 784.5,-187\"/>\n<text text-anchor=\"middle\" x=\"726.5\" y=\"-171.8\" font-family=\"Helvetica,sans-Serif\" font-size=\"14.00\" fill=\"#000000\">age &lt;= 36.5</text>\n<text text-anchor=\"middle\" x=\"726.5\" y=\"-156.8\" font-family=\"Helvetica,sans-Serif\" font-size=\"14.00\" fill=\"#000000\">gini = 0.453</text>\n<text text-anchor=\"middle\" x=\"726.5\" y=\"-141.8\" font-family=\"Helvetica,sans-Serif\" font-size=\"14.00\" fill=\"#000000\">samples = 124</text>\n<text text-anchor=\"middle\" x=\"726.5\" y=\"-126.8\" font-family=\"Helvetica,sans-Serif\" font-size=\"14.00\" fill=\"#000000\">value = [81, 43]</text>\n<text text-anchor=\"middle\" x=\"726.5\" y=\"-111.8\" font-family=\"Helvetica,sans-Serif\" font-size=\"14.00\" fill=\"#000000\">class = Unsurvived</text>\n</g>\n<!-- 8&#45;&gt;9 -->\n<g id=\"edge9\" class=\"edge\">\n<title>8&#45;&gt;9</title>\n<path fill=\"none\" stroke=\"#000000\" d=\"M726.5,-222.8796C726.5,-214.6838 726.5,-205.9891 726.5,-197.5013\"/>\n<polygon fill=\"#000000\" stroke=\"#000000\" points=\"730.0001,-197.298 726.5,-187.2981 723.0001,-197.2981 730.0001,-197.298\"/>\n</g>\n<!-- 12 -->\n<g id=\"node13\" class=\"node\">\n<title>12</title>\n<path fill=\"#ea975c\" stroke=\"#000000\" d=\"M1017.5,-187C1017.5,-187 901.5,-187 901.5,-187 895.5,-187 889.5,-181 889.5,-175 889.5,-175 889.5,-116 889.5,-116 889.5,-110 895.5,-104 901.5,-104 901.5,-104 1017.5,-104 1017.5,-104 1023.5,-104 1029.5,-110 1029.5,-116 1029.5,-116 1029.5,-175 1029.5,-175 1029.5,-181 1023.5,-187 1017.5,-187\"/>\n<text text-anchor=\"middle\" x=\"959.5\" y=\"-171.8\" font-family=\"Helvetica,sans-Serif\" font-size=\"14.00\" fill=\"#000000\">age &lt;= 3.5</text>\n<text text-anchor=\"middle\" x=\"959.5\" y=\"-156.8\" font-family=\"Helvetica,sans-Serif\" font-size=\"14.00\" fill=\"#000000\">gini = 0.256</text>\n<text text-anchor=\"middle\" x=\"959.5\" y=\"-141.8\" font-family=\"Helvetica,sans-Serif\" font-size=\"14.00\" fill=\"#000000\">samples = 398</text>\n<text text-anchor=\"middle\" x=\"959.5\" y=\"-126.8\" font-family=\"Helvetica,sans-Serif\" font-size=\"14.00\" fill=\"#000000\">value = [338, 60]</text>\n<text text-anchor=\"middle\" x=\"959.5\" y=\"-111.8\" font-family=\"Helvetica,sans-Serif\" font-size=\"14.00\" fill=\"#000000\">class = Unsurvived</text>\n</g>\n<!-- 8&#45;&gt;12 -->\n<g id=\"edge12\" class=\"edge\">\n<title>8&#45;&gt;12</title>\n<path fill=\"none\" stroke=\"#000000\" d=\"M796.7237,-228.6347C823.0881,-215.1696 853.2282,-199.7762 880.3485,-185.925\"/>\n<polygon fill=\"#000000\" stroke=\"#000000\" points=\"882.1064,-188.9573 889.4202,-181.2918 878.9225,-182.7233 882.1064,-188.9573\"/>\n</g>\n<!-- 10 -->\n<g id=\"node11\" class=\"node\">\n<title>10</title>\n<path fill=\"#fefaf7\" stroke=\"#000000\" d=\"M709.5,-68C709.5,-68 593.5,-68 593.5,-68 587.5,-68 581.5,-62 581.5,-56 581.5,-56 581.5,-12 581.5,-12 581.5,-6 587.5,0 593.5,0 593.5,0 709.5,0 709.5,0 715.5,0 721.5,-6 721.5,-12 721.5,-12 721.5,-56 721.5,-56 721.5,-62 715.5,-68 709.5,-68\"/>\n<text text-anchor=\"middle\" x=\"651.5\" y=\"-52.8\" font-family=\"Helvetica,sans-Serif\" font-size=\"14.00\" fill=\"#000000\">gini = 0.5</text>\n<text text-anchor=\"middle\" x=\"651.5\" y=\"-37.8\" font-family=\"Helvetica,sans-Serif\" font-size=\"14.00\" fill=\"#000000\">samples = 47</text>\n<text text-anchor=\"middle\" x=\"651.5\" y=\"-22.8\" font-family=\"Helvetica,sans-Serif\" font-size=\"14.00\" fill=\"#000000\">value = [24, 23]</text>\n<text text-anchor=\"middle\" x=\"651.5\" y=\"-7.8\" font-family=\"Helvetica,sans-Serif\" font-size=\"14.00\" fill=\"#000000\">class = Unsurvived</text>\n</g>\n<!-- 9&#45;&gt;10 -->\n<g id=\"edge10\" class=\"edge\">\n<title>9&#45;&gt;10</title>\n<path fill=\"none\" stroke=\"#000000\" d=\"M698.5728,-103.9815C692.5762,-95.0666 686.2296,-85.6313 680.2041,-76.6734\"/>\n<polygon fill=\"#000000\" stroke=\"#000000\" points=\"683.0328,-74.6078 674.5473,-68.2637 677.2245,-78.5147 683.0328,-74.6078\"/>\n</g>\n<!-- 11 -->\n<g id=\"node12\" class=\"node\">\n<title>11</title>\n<path fill=\"#eead7e\" stroke=\"#000000\" d=\"M867.5,-68C867.5,-68 751.5,-68 751.5,-68 745.5,-68 739.5,-62 739.5,-56 739.5,-56 739.5,-12 739.5,-12 739.5,-6 745.5,0 751.5,0 751.5,0 867.5,0 867.5,0 873.5,0 879.5,-6 879.5,-12 879.5,-12 879.5,-56 879.5,-56 879.5,-62 873.5,-68 867.5,-68\"/>\n<text text-anchor=\"middle\" x=\"809.5\" y=\"-52.8\" font-family=\"Helvetica,sans-Serif\" font-size=\"14.00\" fill=\"#000000\">gini = 0.385</text>\n<text text-anchor=\"middle\" x=\"809.5\" y=\"-37.8\" font-family=\"Helvetica,sans-Serif\" font-size=\"14.00\" fill=\"#000000\">samples = 77</text>\n<text text-anchor=\"middle\" x=\"809.5\" y=\"-22.8\" font-family=\"Helvetica,sans-Serif\" font-size=\"14.00\" fill=\"#000000\">value = [57, 20]</text>\n<text text-anchor=\"middle\" x=\"809.5\" y=\"-7.8\" font-family=\"Helvetica,sans-Serif\" font-size=\"14.00\" fill=\"#000000\">class = Unsurvived</text>\n</g>\n<!-- 9&#45;&gt;11 -->\n<g id=\"edge11\" class=\"edge\">\n<title>9&#45;&gt;11</title>\n<path fill=\"none\" stroke=\"#000000\" d=\"M757.4061,-103.9815C764.1108,-94.9747 771.2108,-85.4367 777.9403,-76.3965\"/>\n<polygon fill=\"#000000\" stroke=\"#000000\" points=\"780.8306,-78.3752 783.9943,-68.2637 775.2155,-74.1953 780.8306,-78.3752\"/>\n</g>\n<!-- 13 -->\n<g id=\"node14\" class=\"node\">\n<title>13</title>\n<path fill=\"#b0d8f5\" stroke=\"#000000\" d=\"M1009,-68C1009,-68 910,-68 910,-68 904,-68 898,-62 898,-56 898,-56 898,-12 898,-12 898,-6 904,0 910,0 910,0 1009,0 1009,0 1015,0 1021,-6 1021,-12 1021,-12 1021,-56 1021,-56 1021,-62 1015,-68 1009,-68\"/>\n<text text-anchor=\"middle\" x=\"959.5\" y=\"-52.8\" font-family=\"Helvetica,sans-Serif\" font-size=\"14.00\" fill=\"#000000\">gini = 0.469</text>\n<text text-anchor=\"middle\" x=\"959.5\" y=\"-37.8\" font-family=\"Helvetica,sans-Serif\" font-size=\"14.00\" fill=\"#000000\">samples = 16</text>\n<text text-anchor=\"middle\" x=\"959.5\" y=\"-22.8\" font-family=\"Helvetica,sans-Serif\" font-size=\"14.00\" fill=\"#000000\">value = [6, 10]</text>\n<text text-anchor=\"middle\" x=\"959.5\" y=\"-7.8\" font-family=\"Helvetica,sans-Serif\" font-size=\"14.00\" fill=\"#000000\">class = Survived</text>\n</g>\n<!-- 12&#45;&gt;13 -->\n<g id=\"edge13\" class=\"edge\">\n<title>12&#45;&gt;13</title>\n<path fill=\"none\" stroke=\"#000000\" d=\"M959.5,-103.9815C959.5,-95.618 959.5,-86.7965 959.5,-78.3409\"/>\n<polygon fill=\"#000000\" stroke=\"#000000\" points=\"963.0001,-78.2636 959.5,-68.2637 956.0001,-78.2637 963.0001,-78.2636\"/>\n</g>\n<!-- 14 -->\n<g id=\"node15\" class=\"node\">\n<title>14</title>\n<path fill=\"#e99457\" stroke=\"#000000\" d=\"M1167.5,-68C1167.5,-68 1051.5,-68 1051.5,-68 1045.5,-68 1039.5,-62 1039.5,-56 1039.5,-56 1039.5,-12 1039.5,-12 1039.5,-6 1045.5,0 1051.5,0 1051.5,0 1167.5,0 1167.5,0 1173.5,0 1179.5,-6 1179.5,-12 1179.5,-12 1179.5,-56 1179.5,-56 1179.5,-62 1173.5,-68 1167.5,-68\"/>\n<text text-anchor=\"middle\" x=\"1109.5\" y=\"-52.8\" font-family=\"Helvetica,sans-Serif\" font-size=\"14.00\" fill=\"#000000\">gini = 0.228</text>\n<text text-anchor=\"middle\" x=\"1109.5\" y=\"-37.8\" font-family=\"Helvetica,sans-Serif\" font-size=\"14.00\" fill=\"#000000\">samples = 382</text>\n<text text-anchor=\"middle\" x=\"1109.5\" y=\"-22.8\" font-family=\"Helvetica,sans-Serif\" font-size=\"14.00\" fill=\"#000000\">value = [332, 50]</text>\n<text text-anchor=\"middle\" x=\"1109.5\" y=\"-7.8\" font-family=\"Helvetica,sans-Serif\" font-size=\"14.00\" fill=\"#000000\">class = Unsurvived</text>\n</g>\n<!-- 12&#45;&gt;14 -->\n<g id=\"edge14\" class=\"edge\">\n<title>12&#45;&gt;14</title>\n<path fill=\"none\" stroke=\"#000000\" d=\"M1015.3545,-103.9815C1028.3368,-94.3313 1042.1394,-84.0714 1055.0597,-74.4673\"/>\n<polygon fill=\"#000000\" stroke=\"#000000\" points=\"1057.4678,-77.0384 1063.4054,-68.2637 1053.2917,-71.4204 1057.4678,-77.0384\"/>\n</g>\n</g>\n</svg>\n"
          },
          "metadata": {
            "tags": []
          },
          "execution_count": 17
        }
      ]
    }
  ]
}