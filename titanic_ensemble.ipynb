{
  "nbformat": 4,
  "nbformat_minor": 0,
  "metadata": {
    "colab": {
      "name": "titanic_ensemble.ipynb",
      "provenance": [],
      "collapsed_sections": [],
      "include_colab_link": true
    },
    "kernelspec": {
      "name": "python3",
      "display_name": "Python 3"
    },
    "accelerator": "GPU"
  },
  "cells": [
    {
      "cell_type": "markdown",
      "metadata": {
        "id": "view-in-github",
        "colab_type": "text"
      },
      "source": [
        "<a href=\"https://colab.research.google.com/github/wakii/ds_parrot/blob/master/titanic_ensemble.ipynb\" target=\"_parent\"><img src=\"https://colab.research.google.com/assets/colab-badge.svg\" alt=\"Open In Colab\"/></a>"
      ]
    },
    {
      "cell_type": "code",
      "metadata": {
        "id": "XVAsh5DmNRxr",
        "colab_type": "code",
        "colab": {}
      },
      "source": [
        "# Jupyter notebook에서 실행할 시, 주석을 해제하고 설치해주세요.\n",
        "# !pip install sklearn\n",
        "# !pip install lightgbm\n",
        "# 제공된 링크에 따라 xgboost 설치"
      ],
      "execution_count": 0,
      "outputs": []
    },
    {
      "cell_type": "code",
      "metadata": {
        "id": "9TrwG9qF9q4y",
        "colab_type": "code",
        "outputId": "eb9facaa-4b61-4154-aa1b-96f8e18d739e",
        "colab": {
          "base_uri": "https://localhost:8080/",
          "height": 122
        }
      },
      "source": [
        "from google.colab import drive\n",
        "drive.mount('/content/drive')"
      ],
      "execution_count": 0,
      "outputs": [
        {
          "output_type": "stream",
          "text": [
            "Go to this URL in a browser: https://accounts.google.com/o/oauth2/auth?client_id=947318989803-6bn6qk8qdgf4n4g3pfee6491hc0brc4i.apps.googleusercontent.com&redirect_uri=urn%3aietf%3awg%3aoauth%3a2.0%3aoob&response_type=code&scope=email%20https%3a%2f%2fwww.googleapis.com%2fauth%2fdocs.test%20https%3a%2f%2fwww.googleapis.com%2fauth%2fdrive%20https%3a%2f%2fwww.googleapis.com%2fauth%2fdrive.photos.readonly%20https%3a%2f%2fwww.googleapis.com%2fauth%2fpeopleapi.readonly\n",
            "\n",
            "Enter your authorization code:\n",
            "··········\n",
            "Mounted at /content/drive\n"
          ],
          "name": "stdout"
        }
      ]
    },
    {
      "cell_type": "code",
      "metadata": {
        "id": "FITjzbc1NYDc",
        "colab_type": "code",
        "colab": {}
      },
      "source": [
        "from __future__ import absolute_import, division, print_function, unicode_literals\n",
        "\n",
        "import os\n",
        "import sys\n",
        "\n",
        "import numpy as np\n",
        "import pandas as pd\n",
        "import matplotlib.pyplot as plt\n",
        "%matplotlib inline"
      ],
      "execution_count": 0,
      "outputs": []
    },
    {
      "cell_type": "code",
      "metadata": {
        "id": "X6j84rx9NwhN",
        "colab_type": "code",
        "outputId": "cf89fe8c-5bbd-4274-ae54-786b088fa02e",
        "colab": {
          "base_uri": "https://localhost:8080/",
          "height": 374
        }
      },
      "source": [
        "raw_data = pd.read_excel('/content/drive/My Drive/Colab Notebooks/titanic.xls')\n",
        "raw_data.info()"
      ],
      "execution_count": 0,
      "outputs": [
        {
          "output_type": "stream",
          "text": [
            "<class 'pandas.core.frame.DataFrame'>\n",
            "RangeIndex: 1309 entries, 0 to 1308\n",
            "Data columns (total 14 columns):\n",
            " #   Column     Non-Null Count  Dtype  \n",
            "---  ------     --------------  -----  \n",
            " 0   pclass     1309 non-null   int64  \n",
            " 1   survived   1309 non-null   int64  \n",
            " 2   name       1309 non-null   object \n",
            " 3   sex        1309 non-null   object \n",
            " 4   age        1046 non-null   float64\n",
            " 5   sibsp      1309 non-null   int64  \n",
            " 6   parch      1309 non-null   int64  \n",
            " 7   ticket     1309 non-null   object \n",
            " 8   fare       1308 non-null   float64\n",
            " 9   cabin      295 non-null    object \n",
            " 10  embarked   1307 non-null   object \n",
            " 11  boat       486 non-null    object \n",
            " 12  body       121 non-null    float64\n",
            " 13  home.dest  745 non-null    object \n",
            "dtypes: float64(3), int64(4), object(7)\n",
            "memory usage: 143.3+ KB\n"
          ],
          "name": "stdout"
        }
      ]
    },
    {
      "cell_type": "code",
      "metadata": {
        "id": "iVyXRZ7RLOF3",
        "colab_type": "code",
        "colab": {}
      },
      "source": [
        "# Survived : 생존여부(1: 생존, 0 : 사망)\n",
        "# Pclass : 승선권 클래스(1 : 1st, 2 : 2nd ,3 : 3rd)\n",
        "# Name : 승객 이름\n",
        "# Sex : 승객 성별\n",
        "# Age : 승객 나이\n",
        "# SibSp : 동반한 형제자매, 배우자 수\n",
        "# Parch : 동반한 부모, 자식 수\n",
        "# Ticket : 티켓의 고유 넘버\n",
        "# Fare 티켓의 요금\n",
        "# Cabin : 객실 번호\n",
        "# Embarked : 승선한 항구명(C : Cherbourg, Q : Queenstown, S : Southampton)"
      ],
      "execution_count": 0,
      "outputs": []
    },
    {
      "cell_type": "code",
      "metadata": {
        "id": "bwkCR9hD_dyp",
        "colab_type": "code",
        "outputId": "183c9f25-ce1a-47a1-a020-cded8e95a45b",
        "colab": {
          "base_uri": "https://localhost:8080/",
          "height": 428
        }
      },
      "source": [
        "raw_data['sex'] = raw_data['sex'].replace(['female','male'], [0,1])\n",
        "raw_data[['survived', 'pclass', 'sibsp', 'parch', 'fare']] = raw_data[['survived', 'pclass', 'sibsp', 'parch', 'fare']].apply(pd.to_numeric)\n",
        "raw_data = raw_data[raw_data['age'] != '']\n",
        "\n",
        "raw_data.info() # 여러 번 하면 이미 바뀐 상태라 오류"
      ],
      "execution_count": 0,
      "outputs": [
        {
          "output_type": "stream",
          "text": [
            "<class 'pandas.core.frame.DataFrame'>\n",
            "Int64Index: 1309 entries, 0 to 1308\n",
            "Data columns (total 14 columns):\n",
            " #   Column     Non-Null Count  Dtype  \n",
            "---  ------     --------------  -----  \n",
            " 0   pclass     1309 non-null   int64  \n",
            " 1   survived   1309 non-null   int64  \n",
            " 2   name       1309 non-null   object \n",
            " 3   sex        1309 non-null   int64  \n",
            " 4   age        1046 non-null   float64\n",
            " 5   sibsp      1309 non-null   int64  \n",
            " 6   parch      1309 non-null   int64  \n",
            " 7   ticket     1309 non-null   object \n",
            " 8   fare       1308 non-null   float64\n",
            " 9   cabin      295 non-null    object \n",
            " 10  embarked   1307 non-null   object \n",
            " 11  boat       486 non-null    object \n",
            " 12  body       121 non-null    float64\n",
            " 13  home.dest  745 non-null    object \n",
            "dtypes: float64(3), int64(5), object(6)\n",
            "memory usage: 153.4+ KB\n"
          ],
          "name": "stdout"
        },
        {
          "output_type": "stream",
          "text": [
            "/usr/local/lib/python3.6/dist-packages/pandas/core/ops/array_ops.py:253: FutureWarning: elementwise comparison failed; returning scalar instead, but in the future will perform elementwise comparison\n",
            "  res_values = method(rvalues)\n"
          ],
          "name": "stderr"
        }
      ]
    },
    {
      "cell_type": "code",
      "metadata": {
        "id": "v-gUKPH0Im6U",
        "colab_type": "code",
        "outputId": "6d556615-a3dc-4eef-eb0d-af6268a30088",
        "colab": {
          "base_uri": "https://localhost:8080/",
          "height": 238
        }
      },
      "source": [
        "raw_data = raw_data[['survived', 'pclass','sex','age','sibsp','parch','fare']].dropna()\n",
        "train_pre = raw_data[['pclass','sex','age','sibsp','parch','fare']].dropna()\n",
        "\n",
        "train_pre.info()"
      ],
      "execution_count": 0,
      "outputs": [
        {
          "output_type": "stream",
          "text": [
            "<class 'pandas.core.frame.DataFrame'>\n",
            "Int64Index: 1045 entries, 0 to 1308\n",
            "Data columns (total 6 columns):\n",
            " #   Column  Non-Null Count  Dtype  \n",
            "---  ------  --------------  -----  \n",
            " 0   pclass  1045 non-null   int64  \n",
            " 1   sex     1045 non-null   int64  \n",
            " 2   age     1045 non-null   float64\n",
            " 3   sibsp   1045 non-null   int64  \n",
            " 4   parch   1045 non-null   int64  \n",
            " 5   fare    1045 non-null   float64\n",
            "dtypes: float64(2), int64(4)\n",
            "memory usage: 57.1 KB\n"
          ],
          "name": "stdout"
        }
      ]
    },
    {
      "cell_type": "code",
      "metadata": {
        "id": "asc1YvINIV1r",
        "colab_type": "code",
        "colab": {}
      },
      "source": [
        "from sklearn.model_selection import train_test_split\n",
        "from sklearn.tree import DecisionTreeClassifier\n",
        "from sklearn.ensemble import RandomForestClassifier\n",
        "from xgboost import XGBClassifier, plot_importance\n",
        "from lightgbm import LGBMClassifier, plot_importance\n",
        "from sklearn.metrics import accuracy_score\n",
        "\n",
        "#Regression 문제의 경우, RandomForestRegressor, XGBRegressor, LGBMRregressor로 import 가능\n",
        "x_train, x_test, y_train, y_test = train_test_split(train_pre, raw_data[['survived']], test_size=0.2, random_state=13)"
      ],
      "execution_count": 0,
      "outputs": []
    },
    {
      "cell_type": "code",
      "metadata": {
        "id": "ZaaKBqxzBtpB",
        "colab_type": "code",
        "outputId": "4fc51fef-c347-414d-ea1a-808f35bba215",
        "colab": {
          "base_uri": "https://localhost:8080/",
          "height": 51
        }
      },
      "source": [
        "tree = DecisionTreeClassifier(max_depth=3, random_state=123457)\n",
        "tree.fit(x_train, y_train)\n",
        "\n",
        "train_score = tree.score(x_train, y_train)\n",
        "test_score = tree.score(x_test, y_test)\n",
        "\n",
        "predict_y = tree.predict(x_test) # x_train을 넣은 결과가 y_train / x_test를 넣은 결과가 y_test\n",
        "print('Score1: {}'.format(tree.score(x_train, y_train)))\n",
        "print('Score2: {}'.format(tree.score(x_test, y_test)))"
      ],
      "execution_count": 0,
      "outputs": [
        {
          "output_type": "stream",
          "text": [
            "Score1: 0.8074162679425837\n",
            "Score2: 0.7799043062200957\n"
          ],
          "name": "stdout"
        }
      ]
    },
    {
      "cell_type": "code",
      "metadata": {
        "id": "jKMfRDW4jqGQ",
        "colab_type": "code",
        "colab": {}
      },
      "source": [
        "#             생존 O | 생존 X\n",
        "# 생존 O 예측    104     17\n",
        "# 생존 X 예측    29      59"
      ],
      "execution_count": 0,
      "outputs": []
    },
    {
      "cell_type": "code",
      "metadata": {
        "id": "oxZzmpNZg5wN",
        "colab_type": "code",
        "outputId": "ebd310ad-2d31-4020-afe8-4de4f96d84cd",
        "colab": {
          "base_uri": "https://localhost:8080/",
          "height": 51
        }
      },
      "source": [
        "from sklearn.metrics import confusion_matrix\n",
        "confusion_matrix(y_test, predict_y)"
      ],
      "execution_count": 0,
      "outputs": [
        {
          "output_type": "execute_result",
          "data": {
            "text/plain": [
              "array([[104,  17],\n",
              "       [ 29,  59]])"
            ]
          },
          "metadata": {
            "tags": []
          },
          "execution_count": 10
        }
      ]
    },
    {
      "cell_type": "code",
      "metadata": {
        "id": "jeh0GnguvgDB",
        "colab_type": "code",
        "outputId": "d1503465-19c4-416c-af0f-8c839a5e6780",
        "colab": {
          "base_uri": "https://localhost:8080/",
          "height": 88
        }
      },
      "source": [
        "rf = RandomForestClassifier(max_depth = 3, random_state = 123457)\n",
        "rf.fit(x_train, y_train)\n",
        "\n",
        "rf_predict = rf.predict(x_test)\n",
        "print('Random Forest Score: {}'.format(accuracy_score(y_test, rf_predict)))"
      ],
      "execution_count": 0,
      "outputs": [
        {
          "output_type": "stream",
          "text": [
            "Random Forest Score: 0.7703349282296651\n"
          ],
          "name": "stdout"
        },
        {
          "output_type": "stream",
          "text": [
            "/usr/local/lib/python3.6/dist-packages/ipykernel_launcher.py:2: DataConversionWarning: A column-vector y was passed when a 1d array was expected. Please change the shape of y to (n_samples,), for example using ravel().\n",
            "  \n"
          ],
          "name": "stderr"
        }
      ]
    },
    {
      "cell_type": "code",
      "metadata": {
        "id": "KVxg-nf3A-FG",
        "colab_type": "code",
        "outputId": "ea99b098-6605-4985-f084-dfccb9e92640",
        "colab": {
          "base_uri": "https://localhost:8080/",
          "height": 122
        }
      },
      "source": [
        "xgb = XGBClassifier(max_depth = 3, random_state = 123457)\n",
        "xgb.fit(x_train, y_train)\n",
        "\n",
        "xgb_predict = xgb.predict(x_test)\n",
        "print('XGboost Score: {}'.format(accuracy_score(y_test, xgb_predict)))"
      ],
      "execution_count": 0,
      "outputs": [
        {
          "output_type": "stream",
          "text": [
            "/usr/local/lib/python3.6/dist-packages/sklearn/preprocessing/_label.py:235: DataConversionWarning: A column-vector y was passed when a 1d array was expected. Please change the shape of y to (n_samples, ), for example using ravel().\n",
            "  y = column_or_1d(y, warn=True)\n",
            "/usr/local/lib/python3.6/dist-packages/sklearn/preprocessing/_label.py:268: DataConversionWarning: A column-vector y was passed when a 1d array was expected. Please change the shape of y to (n_samples, ), for example using ravel().\n",
            "  y = column_or_1d(y, warn=True)\n"
          ],
          "name": "stderr"
        },
        {
          "output_type": "stream",
          "text": [
            "XGboost Score: 0.7990430622009569\n"
          ],
          "name": "stdout"
        }
      ]
    },
    {
      "cell_type": "code",
      "metadata": {
        "id": "Z0ohz6DsBe4i",
        "colab_type": "code",
        "outputId": "9578415a-01a0-42ca-c079-ae84e2d9c6d3",
        "colab": {
          "base_uri": "https://localhost:8080/",
          "height": 122
        }
      },
      "source": [
        "lgbm = LGBMClassifier(max_depth = 3, random_state = 123457)\n",
        "lgbm.fit(x_train, y_train)\n",
        "\n",
        "lgbm_predict = lgbm.predict(x_test)\n",
        "print('LightGBM Score: {}'.format(accuracy_score(y_test, lgbm_predict)))"
      ],
      "execution_count": 0,
      "outputs": [
        {
          "output_type": "stream",
          "text": [
            "LightGBM Score: 0.7990430622009569\n"
          ],
          "name": "stdout"
        },
        {
          "output_type": "stream",
          "text": [
            "/usr/local/lib/python3.6/dist-packages/sklearn/preprocessing/_label.py:235: DataConversionWarning: A column-vector y was passed when a 1d array was expected. Please change the shape of y to (n_samples, ), for example using ravel().\n",
            "  y = column_or_1d(y, warn=True)\n",
            "/usr/local/lib/python3.6/dist-packages/sklearn/preprocessing/_label.py:268: DataConversionWarning: A column-vector y was passed when a 1d array was expected. Please change the shape of y to (n_samples, ), for example using ravel().\n",
            "  y = column_or_1d(y, warn=True)\n"
          ],
          "name": "stderr"
        }
      ]
    },
    {
      "cell_type": "code",
      "metadata": {
        "id": "ITD9wupQBwYd",
        "colab_type": "code",
        "outputId": "d248e754-cf81-44bb-df23-d4ff18bbf61b",
        "colab": {
          "base_uri": "https://localhost:8080/",
          "height": 122
        }
      },
      "source": [
        "lgbm1 = LGBMClassifier(max_depth = 5, random_state = 123457)\n",
        "lgbm1.fit(x_train, y_train)\n",
        "\n",
        "lgbm1_predict = lgbm1.predict(x_test)\n",
        "print('LightGBM Score: {}'.format(accuracy_score(y_test, lgbm1_predict)))"
      ],
      "execution_count": 0,
      "outputs": [
        {
          "output_type": "stream",
          "text": [
            "LightGBM Score: 0.8038277511961722\n"
          ],
          "name": "stdout"
        },
        {
          "output_type": "stream",
          "text": [
            "/usr/local/lib/python3.6/dist-packages/sklearn/preprocessing/_label.py:235: DataConversionWarning: A column-vector y was passed when a 1d array was expected. Please change the shape of y to (n_samples, ), for example using ravel().\n",
            "  y = column_or_1d(y, warn=True)\n",
            "/usr/local/lib/python3.6/dist-packages/sklearn/preprocessing/_label.py:268: DataConversionWarning: A column-vector y was passed when a 1d array was expected. Please change the shape of y to (n_samples, ), for example using ravel().\n",
            "  y = column_or_1d(y, warn=True)\n"
          ],
          "name": "stderr"
        }
      ]
    },
    {
      "cell_type": "code",
      "metadata": {
        "id": "1dzO6JGbB7Xz",
        "colab_type": "code",
        "outputId": "e98084ba-1aeb-4930-f00a-21016c47a2a9",
        "colab": {
          "base_uri": "https://localhost:8080/",
          "height": 122
        }
      },
      "source": [
        "lgbm2 = LGBMClassifier(max_depth = 10, random_state = 123457)\n",
        "lgbm2.fit(x_train, y_train)\n",
        "\n",
        "lgbm2_predict = lgbm2.predict(x_test)\n",
        "print('LightGBM Score: {}'.format(accuracy_score(y_test, lgbm2_predict)))"
      ],
      "execution_count": 0,
      "outputs": [
        {
          "output_type": "stream",
          "text": [
            "LightGBM Score: 0.784688995215311\n"
          ],
          "name": "stdout"
        },
        {
          "output_type": "stream",
          "text": [
            "/usr/local/lib/python3.6/dist-packages/sklearn/preprocessing/_label.py:235: DataConversionWarning: A column-vector y was passed when a 1d array was expected. Please change the shape of y to (n_samples, ), for example using ravel().\n",
            "  y = column_or_1d(y, warn=True)\n",
            "/usr/local/lib/python3.6/dist-packages/sklearn/preprocessing/_label.py:268: DataConversionWarning: A column-vector y was passed when a 1d array was expected. Please change the shape of y to (n_samples, ), for example using ravel().\n",
            "  y = column_or_1d(y, warn=True)\n"
          ],
          "name": "stderr"
        }
      ]
    },
    {
      "cell_type": "code",
      "metadata": {
        "id": "maYCxZ3hCBFG",
        "colab_type": "code",
        "outputId": "b90fd936-eb42-48ca-965f-1871b5948ed5",
        "colab": {
          "base_uri": "https://localhost:8080/",
          "height": 1000
        }
      },
      "source": [
        "#Early Stopping\n",
        "\n",
        "lgbm3 = LGBMClassifier(max_depth = 5, random_state = 123457, learning_rate = 0.02, n_estimators = 1000)\n",
        "evals = [(x_test, y_test)]\n",
        "lgbm3.fit(x_train, y_train, early_stopping_rounds = 50, eval_metric = 'logloss', eval_set = evals, verbose = True)\n",
        "\n",
        "lgbm3_predict = lgbm3.predict(x_test)\n",
        "print('LightGBM Score: {}'.format(accuracy_score(y_test, lgbm3_predict)))"
      ],
      "execution_count": 0,
      "outputs": [
        {
          "output_type": "stream",
          "text": [
            "[1]\tvalid_0's binary_logloss: 0.672904\tvalid_0's binary_logloss: 0.672904\n",
            "Training until validation scores don't improve for 50 rounds.\n",
            "[2]\tvalid_0's binary_logloss: 0.665191\tvalid_0's binary_logloss: 0.665191\n",
            "[3]\tvalid_0's binary_logloss: 0.657673\tvalid_0's binary_logloss: 0.657673\n",
            "[4]\tvalid_0's binary_logloss: 0.65062\tvalid_0's binary_logloss: 0.65062\n",
            "[5]\tvalid_0's binary_logloss: 0.643782\tvalid_0's binary_logloss: 0.643782\n",
            "[6]\tvalid_0's binary_logloss: 0.637329\tvalid_0's binary_logloss: 0.637329\n",
            "[7]\tvalid_0's binary_logloss: 0.631269\tvalid_0's binary_logloss: 0.631269\n",
            "[8]\tvalid_0's binary_logloss: 0.62533\tvalid_0's binary_logloss: 0.62533\n",
            "[9]\tvalid_0's binary_logloss: 0.619788\tvalid_0's binary_logloss: 0.619788\n",
            "[10]\tvalid_0's binary_logloss: 0.614376\tvalid_0's binary_logloss: 0.614376\n",
            "[11]\tvalid_0's binary_logloss: 0.609238\tvalid_0's binary_logloss: 0.609238\n",
            "[12]\tvalid_0's binary_logloss: 0.604226\tvalid_0's binary_logloss: 0.604226\n",
            "[13]\tvalid_0's binary_logloss: 0.599504\tvalid_0's binary_logloss: 0.599504\n",
            "[14]\tvalid_0's binary_logloss: 0.594794\tvalid_0's binary_logloss: 0.594794\n",
            "[15]\tvalid_0's binary_logloss: 0.590563\tvalid_0's binary_logloss: 0.590563\n",
            "[16]\tvalid_0's binary_logloss: 0.586182\tvalid_0's binary_logloss: 0.586182\n",
            "[17]\tvalid_0's binary_logloss: 0.582264\tvalid_0's binary_logloss: 0.582264\n",
            "[18]\tvalid_0's binary_logloss: 0.57831\tvalid_0's binary_logloss: 0.57831\n",
            "[19]\tvalid_0's binary_logloss: 0.57452\tvalid_0's binary_logloss: 0.57452\n",
            "[20]\tvalid_0's binary_logloss: 0.570929\tvalid_0's binary_logloss: 0.570929\n",
            "[21]\tvalid_0's binary_logloss: 0.567669\tvalid_0's binary_logloss: 0.567669\n",
            "[22]\tvalid_0's binary_logloss: 0.564354\tvalid_0's binary_logloss: 0.564354\n",
            "[23]\tvalid_0's binary_logloss: 0.561342\tvalid_0's binary_logloss: 0.561342\n",
            "[24]\tvalid_0's binary_logloss: 0.558281\tvalid_0's binary_logloss: 0.558281\n",
            "[25]\tvalid_0's binary_logloss: 0.555354\tvalid_0's binary_logloss: 0.555354\n",
            "[26]\tvalid_0's binary_logloss: 0.552403\tvalid_0's binary_logloss: 0.552403\n",
            "[27]\tvalid_0's binary_logloss: 0.549856\tvalid_0's binary_logloss: 0.549856\n",
            "[28]\tvalid_0's binary_logloss: 0.547088\tvalid_0's binary_logloss: 0.547088\n",
            "[29]\tvalid_0's binary_logloss: 0.544655\tvalid_0's binary_logloss: 0.544655\n",
            "[30]\tvalid_0's binary_logloss: 0.54245\tvalid_0's binary_logloss: 0.54245\n",
            "[31]\tvalid_0's binary_logloss: 0.539951\tvalid_0's binary_logloss: 0.539951\n",
            "[32]\tvalid_0's binary_logloss: 0.537923\tvalid_0's binary_logloss: 0.537923\n",
            "[33]\tvalid_0's binary_logloss: 0.53574\tvalid_0's binary_logloss: 0.53574\n",
            "[34]\tvalid_0's binary_logloss: 0.533712\tvalid_0's binary_logloss: 0.533712\n",
            "[35]\tvalid_0's binary_logloss: 0.531519\tvalid_0's binary_logloss: 0.531519\n",
            "[36]\tvalid_0's binary_logloss: 0.529754\tvalid_0's binary_logloss: 0.529754\n",
            "[37]\tvalid_0's binary_logloss: 0.527732\tvalid_0's binary_logloss: 0.527732\n",
            "[38]\tvalid_0's binary_logloss: 0.52609\tvalid_0's binary_logloss: 0.52609\n",
            "[39]\tvalid_0's binary_logloss: 0.52425\tvalid_0's binary_logloss: 0.52425\n",
            "[40]\tvalid_0's binary_logloss: 0.522631\tvalid_0's binary_logloss: 0.522631\n",
            "[41]\tvalid_0's binary_logloss: 0.520862\tvalid_0's binary_logloss: 0.520862\n",
            "[42]\tvalid_0's binary_logloss: 0.519352\tvalid_0's binary_logloss: 0.519352\n",
            "[43]\tvalid_0's binary_logloss: 0.517818\tvalid_0's binary_logloss: 0.517818\n",
            "[44]\tvalid_0's binary_logloss: 0.516735\tvalid_0's binary_logloss: 0.516735\n",
            "[45]\tvalid_0's binary_logloss: 0.51518\tvalid_0's binary_logloss: 0.51518\n",
            "[46]\tvalid_0's binary_logloss: 0.513535\tvalid_0's binary_logloss: 0.513535\n",
            "[47]\tvalid_0's binary_logloss: 0.512429\tvalid_0's binary_logloss: 0.512429\n",
            "[48]\tvalid_0's binary_logloss: 0.511064\tvalid_0's binary_logloss: 0.511064\n",
            "[49]\tvalid_0's binary_logloss: 0.510014\tvalid_0's binary_logloss: 0.510014\n",
            "[50]\tvalid_0's binary_logloss: 0.508516\tvalid_0's binary_logloss: 0.508516\n",
            "[51]\tvalid_0's binary_logloss: 0.506673\tvalid_0's binary_logloss: 0.506673\n",
            "[52]\tvalid_0's binary_logloss: 0.505378\tvalid_0's binary_logloss: 0.505378\n",
            "[53]\tvalid_0's binary_logloss: 0.50351\tvalid_0's binary_logloss: 0.50351\n",
            "[54]\tvalid_0's binary_logloss: 0.501872\tvalid_0's binary_logloss: 0.501872\n",
            "[55]\tvalid_0's binary_logloss: 0.500614\tvalid_0's binary_logloss: 0.500614\n",
            "[56]\tvalid_0's binary_logloss: 0.499379\tvalid_0's binary_logloss: 0.499379\n",
            "[57]\tvalid_0's binary_logloss: 0.498231\tvalid_0's binary_logloss: 0.498231\n",
            "[58]\tvalid_0's binary_logloss: 0.496699\tvalid_0's binary_logloss: 0.496699\n",
            "[59]\tvalid_0's binary_logloss: 0.495608\tvalid_0's binary_logloss: 0.495608\n",
            "[60]\tvalid_0's binary_logloss: 0.494493\tvalid_0's binary_logloss: 0.494493\n",
            "[61]\tvalid_0's binary_logloss: 0.493201\tvalid_0's binary_logloss: 0.493201\n",
            "[62]\tvalid_0's binary_logloss: 0.492088\tvalid_0's binary_logloss: 0.492088\n",
            "[63]\tvalid_0's binary_logloss: 0.490855\tvalid_0's binary_logloss: 0.490855\n",
            "[64]\tvalid_0's binary_logloss: 0.489918\tvalid_0's binary_logloss: 0.489918\n",
            "[65]\tvalid_0's binary_logloss: 0.488951\tvalid_0's binary_logloss: 0.488951\n",
            "[66]\tvalid_0's binary_logloss: 0.488066\tvalid_0's binary_logloss: 0.488066\n",
            "[67]\tvalid_0's binary_logloss: 0.487228\tvalid_0's binary_logloss: 0.487228\n",
            "[68]\tvalid_0's binary_logloss: 0.486116\tvalid_0's binary_logloss: 0.486116\n",
            "[69]\tvalid_0's binary_logloss: 0.485437\tvalid_0's binary_logloss: 0.485437\n",
            "[70]\tvalid_0's binary_logloss: 0.484558\tvalid_0's binary_logloss: 0.484558\n",
            "[71]\tvalid_0's binary_logloss: 0.48368\tvalid_0's binary_logloss: 0.48368\n",
            "[72]\tvalid_0's binary_logloss: 0.482897\tvalid_0's binary_logloss: 0.482897\n",
            "[73]\tvalid_0's binary_logloss: 0.481989\tvalid_0's binary_logloss: 0.481989\n",
            "[74]\tvalid_0's binary_logloss: 0.481307\tvalid_0's binary_logloss: 0.481307\n",
            "[75]\tvalid_0's binary_logloss: 0.48065\tvalid_0's binary_logloss: 0.48065\n",
            "[76]\tvalid_0's binary_logloss: 0.479865\tvalid_0's binary_logloss: 0.479865\n",
            "[77]\tvalid_0's binary_logloss: 0.478981\tvalid_0's binary_logloss: 0.478981\n",
            "[78]\tvalid_0's binary_logloss: 0.47852\tvalid_0's binary_logloss: 0.47852\n",
            "[79]\tvalid_0's binary_logloss: 0.477754\tvalid_0's binary_logloss: 0.477754\n",
            "[80]\tvalid_0's binary_logloss: 0.477324\tvalid_0's binary_logloss: 0.477324\n",
            "[81]\tvalid_0's binary_logloss: 0.476803\tvalid_0's binary_logloss: 0.476803\n",
            "[82]\tvalid_0's binary_logloss: 0.47618\tvalid_0's binary_logloss: 0.47618\n",
            "[83]\tvalid_0's binary_logloss: 0.476055\tvalid_0's binary_logloss: 0.476055\n",
            "[84]\tvalid_0's binary_logloss: 0.475389\tvalid_0's binary_logloss: 0.475389\n",
            "[85]\tvalid_0's binary_logloss: 0.475016\tvalid_0's binary_logloss: 0.475016\n",
            "[86]\tvalid_0's binary_logloss: 0.474702\tvalid_0's binary_logloss: 0.474702\n",
            "[87]\tvalid_0's binary_logloss: 0.474303\tvalid_0's binary_logloss: 0.474303\n",
            "[88]\tvalid_0's binary_logloss: 0.473978\tvalid_0's binary_logloss: 0.473978\n",
            "[89]\tvalid_0's binary_logloss: 0.473608\tvalid_0's binary_logloss: 0.473608\n",
            "[90]\tvalid_0's binary_logloss: 0.47325\tvalid_0's binary_logloss: 0.47325\n",
            "[91]\tvalid_0's binary_logloss: 0.473243\tvalid_0's binary_logloss: 0.473243\n",
            "[92]\tvalid_0's binary_logloss: 0.472988\tvalid_0's binary_logloss: 0.472988\n",
            "[93]\tvalid_0's binary_logloss: 0.472758\tvalid_0's binary_logloss: 0.472758\n",
            "[94]\tvalid_0's binary_logloss: 0.47247\tvalid_0's binary_logloss: 0.47247\n",
            "[95]\tvalid_0's binary_logloss: 0.47206\tvalid_0's binary_logloss: 0.47206\n",
            "[96]\tvalid_0's binary_logloss: 0.47192\tvalid_0's binary_logloss: 0.47192\n",
            "[97]\tvalid_0's binary_logloss: 0.471725\tvalid_0's binary_logloss: 0.471725\n",
            "[98]\tvalid_0's binary_logloss: 0.471463\tvalid_0's binary_logloss: 0.471463\n",
            "[99]\tvalid_0's binary_logloss: 0.471265\tvalid_0's binary_logloss: 0.471265\n",
            "[100]\tvalid_0's binary_logloss: 0.47109\tvalid_0's binary_logloss: 0.47109\n",
            "[101]\tvalid_0's binary_logloss: 0.470995\tvalid_0's binary_logloss: 0.470995\n",
            "[102]\tvalid_0's binary_logloss: 0.470864\tvalid_0's binary_logloss: 0.470864\n",
            "[103]\tvalid_0's binary_logloss: 0.470983\tvalid_0's binary_logloss: 0.470983\n",
            "[104]\tvalid_0's binary_logloss: 0.470724\tvalid_0's binary_logloss: 0.470724\n",
            "[105]\tvalid_0's binary_logloss: 0.470693\tvalid_0's binary_logloss: 0.470693\n",
            "[106]\tvalid_0's binary_logloss: 0.470627\tvalid_0's binary_logloss: 0.470627\n",
            "[107]\tvalid_0's binary_logloss: 0.470613\tvalid_0's binary_logloss: 0.470613\n",
            "[108]\tvalid_0's binary_logloss: 0.470594\tvalid_0's binary_logloss: 0.470594\n",
            "[109]\tvalid_0's binary_logloss: 0.470785\tvalid_0's binary_logloss: 0.470785\n",
            "[110]\tvalid_0's binary_logloss: 0.470416\tvalid_0's binary_logloss: 0.470416\n",
            "[111]\tvalid_0's binary_logloss: 0.470261\tvalid_0's binary_logloss: 0.470261\n",
            "[112]\tvalid_0's binary_logloss: 0.470307\tvalid_0's binary_logloss: 0.470307\n",
            "[113]\tvalid_0's binary_logloss: 0.470249\tvalid_0's binary_logloss: 0.470249\n",
            "[114]\tvalid_0's binary_logloss: 0.470326\tvalid_0's binary_logloss: 0.470326\n",
            "[115]\tvalid_0's binary_logloss: 0.470428\tvalid_0's binary_logloss: 0.470428\n",
            "[116]\tvalid_0's binary_logloss: 0.470419\tvalid_0's binary_logloss: 0.470419\n",
            "[117]\tvalid_0's binary_logloss: 0.470206\tvalid_0's binary_logloss: 0.470206\n",
            "[118]\tvalid_0's binary_logloss: 0.470094\tvalid_0's binary_logloss: 0.470094\n",
            "[119]\tvalid_0's binary_logloss: 0.470141\tvalid_0's binary_logloss: 0.470141\n",
            "[120]\tvalid_0's binary_logloss: 0.470268\tvalid_0's binary_logloss: 0.470268\n",
            "[121]\tvalid_0's binary_logloss: 0.470441\tvalid_0's binary_logloss: 0.470441\n",
            "[122]\tvalid_0's binary_logloss: 0.470078\tvalid_0's binary_logloss: 0.470078\n",
            "[123]\tvalid_0's binary_logloss: 0.470268\tvalid_0's binary_logloss: 0.470268\n",
            "[124]\tvalid_0's binary_logloss: 0.470035\tvalid_0's binary_logloss: 0.470035\n",
            "[125]\tvalid_0's binary_logloss: 0.470233\tvalid_0's binary_logloss: 0.470233\n",
            "[126]\tvalid_0's binary_logloss: 0.470251\tvalid_0's binary_logloss: 0.470251\n",
            "[127]\tvalid_0's binary_logloss: 0.470444\tvalid_0's binary_logloss: 0.470444\n",
            "[128]\tvalid_0's binary_logloss: 0.470585\tvalid_0's binary_logloss: 0.470585\n",
            "[129]\tvalid_0's binary_logloss: 0.470303\tvalid_0's binary_logloss: 0.470303\n",
            "[130]\tvalid_0's binary_logloss: 0.470568\tvalid_0's binary_logloss: 0.470568\n",
            "[131]\tvalid_0's binary_logloss: 0.470532\tvalid_0's binary_logloss: 0.470532\n",
            "[132]\tvalid_0's binary_logloss: 0.470541\tvalid_0's binary_logloss: 0.470541\n",
            "[133]\tvalid_0's binary_logloss: 0.470217\tvalid_0's binary_logloss: 0.470217\n",
            "[134]\tvalid_0's binary_logloss: 0.470466\tvalid_0's binary_logloss: 0.470466\n",
            "[135]\tvalid_0's binary_logloss: 0.470632\tvalid_0's binary_logloss: 0.470632\n",
            "[136]\tvalid_0's binary_logloss: 0.470888\tvalid_0's binary_logloss: 0.470888\n",
            "[137]\tvalid_0's binary_logloss: 0.471088\tvalid_0's binary_logloss: 0.471088\n",
            "[138]\tvalid_0's binary_logloss: 0.471086\tvalid_0's binary_logloss: 0.471086\n",
            "[139]\tvalid_0's binary_logloss: 0.471401\tvalid_0's binary_logloss: 0.471401\n",
            "[140]\tvalid_0's binary_logloss: 0.471558\tvalid_0's binary_logloss: 0.471558\n",
            "[141]\tvalid_0's binary_logloss: 0.471735\tvalid_0's binary_logloss: 0.471735\n",
            "[142]\tvalid_0's binary_logloss: 0.471848\tvalid_0's binary_logloss: 0.471848\n",
            "[143]\tvalid_0's binary_logloss: 0.472256\tvalid_0's binary_logloss: 0.472256\n",
            "[144]\tvalid_0's binary_logloss: 0.472377\tvalid_0's binary_logloss: 0.472377\n",
            "[145]\tvalid_0's binary_logloss: 0.472629\tvalid_0's binary_logloss: 0.472629\n",
            "[146]\tvalid_0's binary_logloss: 0.472713\tvalid_0's binary_logloss: 0.472713\n",
            "[147]\tvalid_0's binary_logloss: 0.473236\tvalid_0's binary_logloss: 0.473236\n",
            "[148]\tvalid_0's binary_logloss: 0.473476\tvalid_0's binary_logloss: 0.473476\n",
            "[149]\tvalid_0's binary_logloss: 0.473709\tvalid_0's binary_logloss: 0.473709\n",
            "[150]\tvalid_0's binary_logloss: 0.47359\tvalid_0's binary_logloss: 0.47359\n",
            "[151]\tvalid_0's binary_logloss: 0.473633\tvalid_0's binary_logloss: 0.473633\n",
            "[152]\tvalid_0's binary_logloss: 0.47374\tvalid_0's binary_logloss: 0.47374\n",
            "[153]\tvalid_0's binary_logloss: 0.47405\tvalid_0's binary_logloss: 0.47405\n",
            "[154]\tvalid_0's binary_logloss: 0.473944\tvalid_0's binary_logloss: 0.473944\n",
            "[155]\tvalid_0's binary_logloss: 0.47416\tvalid_0's binary_logloss: 0.47416\n",
            "[156]\tvalid_0's binary_logloss: 0.474266\tvalid_0's binary_logloss: 0.474266\n",
            "[157]\tvalid_0's binary_logloss: 0.474294\tvalid_0's binary_logloss: 0.474294\n",
            "[158]\tvalid_0's binary_logloss: 0.474416\tvalid_0's binary_logloss: 0.474416\n",
            "[159]\tvalid_0's binary_logloss: 0.47463\tvalid_0's binary_logloss: 0.47463\n",
            "[160]\tvalid_0's binary_logloss: 0.474932\tvalid_0's binary_logloss: 0.474932\n",
            "[161]\tvalid_0's binary_logloss: 0.47518\tvalid_0's binary_logloss: 0.47518\n",
            "[162]\tvalid_0's binary_logloss: 0.47527\tvalid_0's binary_logloss: 0.47527\n",
            "[163]\tvalid_0's binary_logloss: 0.475459\tvalid_0's binary_logloss: 0.475459\n",
            "[164]\tvalid_0's binary_logloss: 0.475589\tvalid_0's binary_logloss: 0.475589\n",
            "[165]\tvalid_0's binary_logloss: 0.475881\tvalid_0's binary_logloss: 0.475881\n",
            "[166]\tvalid_0's binary_logloss: 0.475972\tvalid_0's binary_logloss: 0.475972\n",
            "[167]\tvalid_0's binary_logloss: 0.476027\tvalid_0's binary_logloss: 0.476027\n",
            "[168]\tvalid_0's binary_logloss: 0.476261\tvalid_0's binary_logloss: 0.476261\n",
            "[169]\tvalid_0's binary_logloss: 0.476784\tvalid_0's binary_logloss: 0.476784\n",
            "[170]\tvalid_0's binary_logloss: 0.476836\tvalid_0's binary_logloss: 0.476836\n",
            "[171]\tvalid_0's binary_logloss: 0.476981\tvalid_0's binary_logloss: 0.476981\n",
            "[172]\tvalid_0's binary_logloss: 0.47696\tvalid_0's binary_logloss: 0.47696\n",
            "[173]\tvalid_0's binary_logloss: 0.477041\tvalid_0's binary_logloss: 0.477041\n",
            "[174]\tvalid_0's binary_logloss: 0.477261\tvalid_0's binary_logloss: 0.477261\n",
            "Early stopping, best iteration is:\n",
            "[124]\tvalid_0's binary_logloss: 0.470035\tvalid_0's binary_logloss: 0.470035\n",
            "LightGBM Score: 0.7942583732057417\n"
          ],
          "name": "stdout"
        },
        {
          "output_type": "stream",
          "text": [
            "/usr/local/lib/python3.6/dist-packages/sklearn/preprocessing/_label.py:235: DataConversionWarning: A column-vector y was passed when a 1d array was expected. Please change the shape of y to (n_samples, ), for example using ravel().\n",
            "  y = column_or_1d(y, warn=True)\n",
            "/usr/local/lib/python3.6/dist-packages/sklearn/preprocessing/_label.py:268: DataConversionWarning: A column-vector y was passed when a 1d array was expected. Please change the shape of y to (n_samples, ), for example using ravel().\n",
            "  y = column_or_1d(y, warn=True)\n"
          ],
          "name": "stderr"
        }
      ]
    },
    {
      "cell_type": "code",
      "metadata": {
        "id": "MxXFCqG9CYTT",
        "colab_type": "code",
        "outputId": "02fd602c-7219-481c-b0b4-852aafbbf6e0",
        "colab": {
          "base_uri": "https://localhost:8080/",
          "height": 51
        }
      },
      "source": [
        "cm = confusion_matrix(y_test, lgbm3_predict)"
      ],
      "execution_count": 0,
      "outputs": [
        {
          "output_type": "execute_result",
          "data": {
            "text/plain": [
              "array([[110,  11],\n",
              "       [ 32,  56]])"
            ]
          },
          "metadata": {
            "tags": []
          },
          "execution_count": 17
        }
      ]
    },
    {
      "cell_type": "code",
      "metadata": {
        "id": "2iP0p6D26Kuz",
        "colab_type": "code",
        "outputId": "6d6d4d91-5b81-42cf-ba1b-2da5e0f48e81",
        "colab": {
          "base_uri": "https://localhost:8080/",
          "height": 282
        }
      },
      "source": [
        "import seaborn as sns\n",
        "\n",
        "cm = pd.DataFrame(confusion_matrix(y_test, lgbm3_predict))\n",
        "sns.heatmap(cm, annot = True)"
      ],
      "execution_count": 0,
      "outputs": [
        {
          "output_type": "execute_result",
          "data": {
            "text/plain": [
              "<matplotlib.axes._subplots.AxesSubplot at 0x7f0280882e10>"
            ]
          },
          "metadata": {
            "tags": []
          },
          "execution_count": 22
        },
        {
          "output_type": "display_data",
          "data": {
            "image/png": "[encoded data removed]",
            "text/plain": [
              "<Figure size 432x288 with 2 Axes>"
            ]
          },
          "metadata": {
            "tags": [],
            "needs_background": "light"
          }
        }
      ]
    },
    {
      "cell_type": "code",
      "metadata": {
        "id": "QXtZA-I1EC8Q",
        "colab_type": "code",
        "outputId": "48de3157-d380-4ff1-c18b-e18ffe0380f3",
        "colab": {
          "base_uri": "https://localhost:8080/",
          "height": 421
        }
      },
      "source": [
        "fig, ax = plt.subplots(figsize = (10, 6))\n",
        "plot_importance(lgbm3, ax = ax)"
      ],
      "execution_count": 0,
      "outputs": [
        {
          "output_type": "execute_result",
          "data": {
            "text/plain": [
              "<matplotlib.axes._subplots.AxesSubplot at 0x7f029056fbe0>"
            ]
          },
          "metadata": {
            "tags": []
          },
          "execution_count": 18
        },
        {
          "output_type": "display_data",
          "data": {
            "image/png": "[encoded data removed]",
            "text/plain": [
              "<Figure size 720x432 with 1 Axes>"
            ]
          },
          "metadata": {
            "tags": [],
            "needs_background": "light"
          }
        }
      ]
    },
    {
      "cell_type": "code",
      "metadata": {
        "id": "lLSUtmJgEN3R",
        "colab_type": "code",
        "colab": {}
      },
      "source": [
        ""
      ],
      "execution_count": 0,
      "outputs": []
    }
  ]
}