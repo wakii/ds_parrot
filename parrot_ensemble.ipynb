{
  "nbformat": 4,
  "nbformat_minor": 0,
  "metadata": {
    "colab": {
      "name": "Untitled1.ipynb",
      "provenance": [],
      "authorship_tag": "ABX9TyPNlCdFD8XgOG/cRviohfSO",
      "include_colab_link": true
    },
    "kernelspec": {
      "name": "python3",
      "display_name": "Python 3"
    },
    "accelerator": "GPU"
  },
  "cells": [
    {
      "cell_type": "markdown",
      "metadata": {
        "id": "view-in-github",
        "colab_type": "text"
      },
      "source": [
        "<a href=\"https://colab.research.google.com/github/wakii/ds_parrot/blob/master/parrot_ensemble.ipynb\" target=\"_parent\"><img src=\"https://colab.research.google.com/assets/colab-badge.svg\" alt=\"Open In Colab\"/></a>"
      ]
    },
    {
      "cell_type": "markdown",
      "metadata": {
        "id": "v2q8LKeMVGF7",
        "colab_type": "text"
      },
      "source": [
        "# Wine Classification with Random Forest, XGBoost, LightGBM\n",
        "\n",
        "## 2기 최우혁"
      ]
    },
    {
      "cell_type": "markdown",
      "metadata": {
        "id": "zP5q2lcxVTOW",
        "colab_type": "text"
      },
      "source": [
        "## Environment Setting"
      ]
    },
    {
      "cell_type": "code",
      "metadata": {
        "id": "F160YdrZQv5z",
        "colab_type": "code",
        "colab": {
          "base_uri": "https://localhost:8080/",
          "height": 98
        },
        "outputId": "b0c702b6-1832-4c2f-85ed-72599b052c33"
      },
      "source": [
        "!pip install sklearn"
      ],
      "execution_count": 2,
      "outputs": [
        {
          "output_type": "stream",
          "text": [
            "Requirement already satisfied: sklearn in /usr/local/lib/python3.6/dist-packages (0.0)\n",
            "Requirement already satisfied: scikit-learn in /usr/local/lib/python3.6/dist-packages (from sklearn) (0.22.2.post1)\n",
            "Requirement already satisfied: numpy>=1.11.0 in /usr/local/lib/python3.6/dist-packages (from scikit-learn->sklearn) (1.18.3)\n",
            "Requirement already satisfied: scipy>=0.17.0 in /usr/local/lib/python3.6/dist-packages (from scikit-learn->sklearn) (1.4.1)\n",
            "Requirement already satisfied: joblib>=0.11 in /usr/local/lib/python3.6/dist-packages (from scikit-learn->sklearn) (0.14.1)\n"
          ],
          "name": "stdout"
        }
      ]
    },
    {
      "cell_type": "code",
      "metadata": {
        "id": "7HDUOa3JQ3e9",
        "colab_type": "code",
        "colab": {
          "base_uri": "https://localhost:8080/",
          "height": 69
        },
        "outputId": "acf78b1d-400a-4217-eb7d-ba69b46b27a9"
      },
      "source": [
        "from __future__ import absolute_import, division, print_function, unicode_literals\n",
        "\n",
        "import os\n",
        "import sys\n",
        "\n",
        "import numpy as np\n",
        "import pandas as pd\n",
        "import matplotlib.pyplot as plt\n",
        "import seaborn as sns\n",
        "%matplotlib inline"
      ],
      "execution_count": 3,
      "outputs": [
        {
          "output_type": "stream",
          "text": [
            "/usr/local/lib/python3.6/dist-packages/statsmodels/tools/_testing.py:19: FutureWarning: pandas.util.testing is deprecated. Use the functions in the public API at pandas.testing instead.\n",
            "  import pandas.util.testing as tm\n"
          ],
          "name": "stderr"
        }
      ]
    },
    {
      "cell_type": "markdown",
      "metadata": {
        "id": "ZlH2Vph_VahB",
        "colab_type": "text"
      },
      "source": [
        "## Data Fetching, Preprocessing"
      ]
    },
    {
      "cell_type": "code",
      "metadata": {
        "id": "ssIqxty2Q-xZ",
        "colab_type": "code",
        "colab": {}
      },
      "source": [
        "# import pandas as pd\n",
        "red = pd.read_csv('http://archive.ics.uci.edu/ml/machine-learning-databases/wine-quality/winequality-red.csv', sep=';' )\n",
        "white = pd.read_csv('http://archive.ics.uci.edu/ml/machine-learning-databases/wine-quality/winequality-white.csv', sep=';' )"
      ],
      "execution_count": 0,
      "outputs": []
    },
    {
      "cell_type": "code",
      "metadata": {
        "id": "82mnjNdJRCl8",
        "colab_type": "code",
        "colab": {}
      },
      "source": [
        "red['type'] = 0\n",
        "white['type'] = 1"
      ],
      "execution_count": 0,
      "outputs": []
    },
    {
      "cell_type": "code",
      "metadata": {
        "id": "U_vcYAOSRDQ1",
        "colab_type": "code",
        "colab": {
          "base_uri": "https://localhost:8080/",
          "height": 345
        },
        "outputId": "94897b29-3a6a-46d6-b346-c9ccf1c08f2c"
      },
      "source": [
        "raw_data = pd.concat([red,white])\n",
        "raw_data.info()"
      ],
      "execution_count": 6,
      "outputs": [
        {
          "output_type": "stream",
          "text": [
            "<class 'pandas.core.frame.DataFrame'>\n",
            "Int64Index: 6497 entries, 0 to 4897\n",
            "Data columns (total 13 columns):\n",
            " #   Column                Non-Null Count  Dtype  \n",
            "---  ------                --------------  -----  \n",
            " 0   fixed acidity         6497 non-null   float64\n",
            " 1   volatile acidity      6497 non-null   float64\n",
            " 2   citric acid           6497 non-null   float64\n",
            " 3   residual sugar        6497 non-null   float64\n",
            " 4   chlorides             6497 non-null   float64\n",
            " 5   free sulfur dioxide   6497 non-null   float64\n",
            " 6   total sulfur dioxide  6497 non-null   float64\n",
            " 7   density               6497 non-null   float64\n",
            " 8   pH                    6497 non-null   float64\n",
            " 9   sulphates             6497 non-null   float64\n",
            " 10  alcohol               6497 non-null   float64\n",
            " 11  quality               6497 non-null   int64  \n",
            " 12  type                  6497 non-null   int64  \n",
            "dtypes: float64(11), int64(2)\n",
            "memory usage: 710.6 KB\n"
          ],
          "name": "stdout"
        }
      ]
    },
    {
      "cell_type": "code",
      "metadata": {
        "id": "hUVB460dRFRY",
        "colab_type": "code",
        "colab": {}
      },
      "source": [
        "raw_data[['residual sugar','chlorides','free sulfur dioxide','total sulfur dioxide','density','sulphates']] = raw_data[['residual sugar','chlorides','free sulfur dioxide','total sulfur dioxide','density','sulphates']].apply(np.log)"
      ],
      "execution_count": 0,
      "outputs": []
    },
    {
      "cell_type": "code",
      "metadata": {
        "id": "EMwBNyMrRKNv",
        "colab_type": "code",
        "colab": {
          "base_uri": "https://localhost:8080/",
          "height": 280
        },
        "outputId": "f4852563-0e28-4079-920f-aea036faf037"
      },
      "source": [
        "train_pre = raw_data[['fixed acidity', 'volatile acidity', 'citric acid', 'residual sugar',\n",
        "       'chlorides', 'free sulfur dioxide', 'total sulfur dioxide', 'density', 'sulphates']]\n",
        "train_pre.info()"
      ],
      "execution_count": 8,
      "outputs": [
        {
          "output_type": "stream",
          "text": [
            "<class 'pandas.core.frame.DataFrame'>\n",
            "Int64Index: 6497 entries, 0 to 4897\n",
            "Data columns (total 9 columns):\n",
            " #   Column                Non-Null Count  Dtype  \n",
            "---  ------                --------------  -----  \n",
            " 0   fixed acidity         6497 non-null   float64\n",
            " 1   volatile acidity      6497 non-null   float64\n",
            " 2   citric acid           6497 non-null   float64\n",
            " 3   residual sugar        6497 non-null   float64\n",
            " 4   chlorides             6497 non-null   float64\n",
            " 5   free sulfur dioxide   6497 non-null   float64\n",
            " 6   total sulfur dioxide  6497 non-null   float64\n",
            " 7   density               6497 non-null   float64\n",
            " 8   sulphates             6497 non-null   float64\n",
            "dtypes: float64(9)\n",
            "memory usage: 507.6 KB\n"
          ],
          "name": "stdout"
        }
      ]
    },
    {
      "cell_type": "markdown",
      "metadata": {
        "id": "xhUqxqsOVf4m",
        "colab_type": "text"
      },
      "source": [
        "## Classification"
      ]
    },
    {
      "cell_type": "markdown",
      "metadata": {
        "id": "nU8RCLijVvRH",
        "colab_type": "text"
      },
      "source": [
        "### Decision Tree"
      ]
    },
    {
      "cell_type": "code",
      "metadata": {
        "id": "GPTLz95kRTcM",
        "colab_type": "code",
        "colab": {}
      },
      "source": [
        "from sklearn.model_selection import train_test_split\n",
        "from sklearn.tree import DecisionTreeClassifier\n",
        "from sklearn.ensemble import RandomForestClassifier\n",
        "from xgboost import XGBClassifier, plot_importance\n",
        "from lightgbm import LGBMClassifier, plot_importance\n",
        "from sklearn.metrics import accuracy_score\n",
        "\n",
        "#Regression 문제의 경우, RandomForestRegressor, XGBRegressor, LGBMRregressor로 import 가능\n",
        "x_train, x_test, y_train, y_test = train_test_split(train_pre, raw_data[['type']], test_size=0.2, random_state=13)"
      ],
      "execution_count": 0,
      "outputs": []
    },
    {
      "cell_type": "code",
      "metadata": {
        "id": "rHrk_fNNRfZJ",
        "colab_type": "code",
        "colab": {
          "base_uri": "https://localhost:8080/",
          "height": 49
        },
        "outputId": "ebedb2bf-aa8a-4d1f-bfd0-391cb0e1b890"
      },
      "source": [
        "tree = DecisionTreeClassifier(max_depth=3, random_state=123457)\n",
        "tree.fit(x_train, y_train)\n",
        "\n",
        "train_score = tree.score(x_train, y_train)\n",
        "test_score = tree.score(x_test, y_test)\n",
        "\n",
        "predict_y = tree.predict(x_test) # x_train을 넣은 결과가 y_train / x_test를 넣은 결과가 y_test\n",
        "print('Score1: {}'.format(tree.score(x_train, y_train)))\n",
        "print('Score2: {}'.format(tree.score(x_test, y_test)))"
      ],
      "execution_count": 10,
      "outputs": [
        {
          "output_type": "stream",
          "text": [
            "Score1: 0.9751779873003656\n",
            "Score2: 0.9707692307692307\n"
          ],
          "name": "stdout"
        }
      ]
    },
    {
      "cell_type": "code",
      "metadata": {
        "id": "WrPkKM2IRh2m",
        "colab_type": "code",
        "colab": {
          "base_uri": "https://localhost:8080/",
          "height": 49
        },
        "outputId": "4a7063f9-1d99-4d05-9506-1efa4f97cd54"
      },
      "source": [
        "from sklearn.metrics import confusion_matrix\n",
        "confusion_matrix(y_test, predict_y)"
      ],
      "execution_count": 11,
      "outputs": [
        {
          "output_type": "execute_result",
          "data": {
            "text/plain": [
              "array([[299,  16],\n",
              "       [ 22, 963]])"
            ]
          },
          "metadata": {
            "tags": []
          },
          "execution_count": 11
        }
      ]
    },
    {
      "cell_type": "code",
      "metadata": {
        "id": "cPtWTfR3RpY0",
        "colab_type": "code",
        "colab": {}
      },
      "source": [
        "#               red  |  white\n",
        "# red    예측    299     16\n",
        "# white  예측    22      963"
      ],
      "execution_count": 0,
      "outputs": []
    },
    {
      "cell_type": "markdown",
      "metadata": {
        "id": "IaWloaemV0WN",
        "colab_type": "text"
      },
      "source": [
        "### Random Forest"
      ]
    },
    {
      "cell_type": "code",
      "metadata": {
        "id": "3zy3UoBUXkSa",
        "colab_type": "code",
        "colab": {}
      },
      "source": [
        "from sklearn.model_selection import GridSearchCV"
      ],
      "execution_count": 0,
      "outputs": []
    },
    {
      "cell_type": "code",
      "metadata": {
        "id": "OLRzv2vdRr2b",
        "colab_type": "code",
        "colab": {
          "base_uri": "https://localhost:8080/",
          "height": 85
        },
        "outputId": "4148e52f-37c2-4798-c752-b6d9824128bf"
      },
      "source": [
        "rf = RandomForestClassifier(random_state = 123457)\n",
        "rf.fit(x_train, y_train)\n",
        "\n",
        "rf_predict = rf.predict(x_test)\n",
        "print('Random Forest Score: {}'.format(accuracy_score(y_test, rf_predict)))"
      ],
      "execution_count": 69,
      "outputs": [
        {
          "output_type": "stream",
          "text": [
            "/usr/local/lib/python3.6/dist-packages/ipykernel_launcher.py:2: DataConversionWarning: A column-vector y was passed when a 1d array was expected. Please change the shape of y to (n_samples,), for example using ravel().\n",
            "  \n"
          ],
          "name": "stderr"
        },
        {
          "output_type": "stream",
          "text": [
            "Random Forest Score: 0.9938461538461538\n"
          ],
          "name": "stdout"
        }
      ]
    },
    {
      "cell_type": "code",
      "metadata": {
        "id": "u0TJqC83lgaM",
        "colab_type": "code",
        "colab": {
          "base_uri": "https://localhost:8080/",
          "height": 85
        },
        "outputId": "24e50fb7-889e-4833-a984-0686f19f7166"
      },
      "source": [
        "rf1 = RandomForestClassifier(n_estimators=10, max_depth=5,random_state = 123457)\n",
        "rf1.fit(x_train, y_train)\n",
        "\n",
        "rf1_predict = rf1.predict(x_test)\n",
        "print('Random Forest Score: {}'.format(accuracy_score(y_test, rf1_predict)))"
      ],
      "execution_count": 64,
      "outputs": [
        {
          "output_type": "stream",
          "text": [
            "Random Forest Score: 0.9907692307692307\n"
          ],
          "name": "stdout"
        },
        {
          "output_type": "stream",
          "text": [
            "/usr/local/lib/python3.6/dist-packages/ipykernel_launcher.py:2: DataConversionWarning: A column-vector y was passed when a 1d array was expected. Please change the shape of y to (n_samples,), for example using ravel().\n",
            "  \n"
          ],
          "name": "stderr"
        }
      ]
    },
    {
      "cell_type": "code",
      "metadata": {
        "id": "S1V0a7wdmxje",
        "colab_type": "code",
        "colab": {
          "base_uri": "https://localhost:8080/",
          "height": 85
        },
        "outputId": "63f27f4a-2b73-4346-9272-991242a9c46b"
      },
      "source": [
        "rf2 = RandomForestClassifier(n_estimators=100, max_depth=5, min_samples_split=5, random_state = 123457)\n",
        "rf2.fit(x_train, y_train)\n",
        "\n",
        "rf2_predict = rf2.predict(x_test)\n",
        "print('Random Forest Score: {}'.format(accuracy_score(y_test, rf2_predict)))"
      ],
      "execution_count": 66,
      "outputs": [
        {
          "output_type": "stream",
          "text": [
            "/usr/local/lib/python3.6/dist-packages/ipykernel_launcher.py:2: DataConversionWarning: A column-vector y was passed when a 1d array was expected. Please change the shape of y to (n_samples,), for example using ravel().\n",
            "  \n"
          ],
          "name": "stderr"
        },
        {
          "output_type": "stream",
          "text": [
            "Random Forest Score: 0.9923076923076923\n"
          ],
          "name": "stdout"
        }
      ]
    },
    {
      "cell_type": "code",
      "metadata": {
        "id": "90Z3b7g1jnZV",
        "colab_type": "code",
        "colab": {
          "base_uri": "https://localhost:8080/",
          "height": 378
        },
        "outputId": "fc9343e3-188b-4a08-e65f-027a8418f2ea"
      },
      "source": [
        "param_grid={'n_estimators': range(100,300,100),'max_depth':range(1,10), 'min_samples_split':[2,5,10,30]}\n",
        "\n",
        "\n",
        "gs = GridSearchCV(rf, param_grid=param_grid , return_train_score=True)\n",
        "gs.fit(y_test, rf_predict)\n",
        "# results = gs.cv_results_"
      ],
      "execution_count": 77,
      "outputs": [
        {
          "output_type": "execute_result",
          "data": {
            "text/plain": [
              "GridSearchCV(cv=None, error_score=nan,\n",
              "             estimator=RandomForestClassifier(bootstrap=True, ccp_alpha=0.0,\n",
              "                                              class_weight=None,\n",
              "                                              criterion='gini', max_depth=None,\n",
              "                                              max_features='auto',\n",
              "                                              max_leaf_nodes=None,\n",
              "                                              max_samples=None,\n",
              "                                              min_impurity_decrease=0.0,\n",
              "                                              min_impurity_split=None,\n",
              "                                              min_samples_leaf=1,\n",
              "                                              min_samples_split=2,\n",
              "                                              min_weight_fraction_leaf=0.0,\n",
              "                                              n_estimators=100, n_jobs=None,\n",
              "                                              oob_score=False,\n",
              "                                              random_state=123457, verbose=0,\n",
              "                                              warm_start=False),\n",
              "             iid='deprecated', n_jobs=None,\n",
              "             param_grid={'max_depth': range(1, 10),\n",
              "                         'min_samples_split': [2, 5, 10, 30],\n",
              "                         'n_estimators': range(100, 300, 100)},\n",
              "             pre_dispatch='2*n_jobs', refit=True, return_train_score=True,\n",
              "             scoring=None, verbose=0)"
            ]
          },
          "metadata": {
            "tags": []
          },
          "execution_count": 77
        }
      ]
    },
    {
      "cell_type": "code",
      "metadata": {
        "id": "b9kKylErjvC5",
        "colab_type": "code",
        "colab": {}
      },
      "source": [
        "??RandomForestClassifier"
      ],
      "execution_count": 0,
      "outputs": []
    },
    {
      "cell_type": "code",
      "metadata": {
        "id": "7HJOQVyGbsMS",
        "colab_type": "code",
        "colab": {
          "base_uri": "https://localhost:8080/",
          "height": 856
        },
        "outputId": "b40d7187-be29-4d8f-b3e1-f14823043b49"
      },
      "source": [
        "results"
      ],
      "execution_count": 33,
      "outputs": [
        {
          "output_type": "execute_result",
          "data": {
            "text/plain": [
              "{'mean_fit_time': array([0.12128758, 0.12197957, 0.12213717, 0.11759195, 0.12157702,\n",
              "        0.11909699, 0.11981091, 0.11945796, 0.12102165]),\n",
              " 'mean_score_time': array([0.00785613, 0.00787716, 0.00786643, 0.00777445, 0.00893888,\n",
              "        0.00857329, 0.00793495, 0.00792551, 0.00803871]),\n",
              " 'mean_test_score': array([0.99384615, 0.99384615, 0.99384615, 0.99384615, 0.99384615,\n",
              "        0.99384615, 0.99384615, 0.99384615, 0.99384615]),\n",
              " 'mean_train_score': array([0.99384615, 0.99384615, 0.99384615, 0.99384615, 0.99384615,\n",
              "        0.99384615, 0.99384615, 0.99384615, 0.99384615]),\n",
              " 'param_max_depth': masked_array(data=[1, 2, 3, 4, 5, 6, 7, 8, 9],\n",
              "              mask=[False, False, False, False, False, False, False, False,\n",
              "                    False],\n",
              "        fill_value='?',\n",
              "             dtype=object),\n",
              " 'params': [{'max_depth': 1},\n",
              "  {'max_depth': 2},\n",
              "  {'max_depth': 3},\n",
              "  {'max_depth': 4},\n",
              "  {'max_depth': 5},\n",
              "  {'max_depth': 6},\n",
              "  {'max_depth': 7},\n",
              "  {'max_depth': 8},\n",
              "  {'max_depth': 9}],\n",
              " 'rank_test_score': array([1, 1, 1, 1, 1, 1, 1, 1, 1], dtype=int32),\n",
              " 'split0_test_score': array([0.99615385, 0.99615385, 0.99615385, 0.99615385, 0.99615385,\n",
              "        0.99615385, 0.99615385, 0.99615385, 0.99615385]),\n",
              " 'split0_train_score': array([0.99326923, 0.99326923, 0.99326923, 0.99326923, 0.99326923,\n",
              "        0.99326923, 0.99326923, 0.99326923, 0.99326923]),\n",
              " 'split1_test_score': array([0.98846154, 0.98846154, 0.98846154, 0.98846154, 0.98846154,\n",
              "        0.98846154, 0.98846154, 0.98846154, 0.98846154]),\n",
              " 'split1_train_score': array([0.99519231, 0.99519231, 0.99519231, 0.99519231, 0.99519231,\n",
              "        0.99519231, 0.99519231, 0.99519231, 0.99519231]),\n",
              " 'split2_test_score': array([0.99615385, 0.99615385, 0.99615385, 0.99615385, 0.99615385,\n",
              "        0.99615385, 0.99615385, 0.99615385, 0.99615385]),\n",
              " 'split2_train_score': array([0.99326923, 0.99326923, 0.99326923, 0.99326923, 0.99326923,\n",
              "        0.99326923, 0.99326923, 0.99326923, 0.99326923]),\n",
              " 'split3_test_score': array([0.99230769, 0.99230769, 0.99230769, 0.99230769, 0.99230769,\n",
              "        0.99230769, 0.99230769, 0.99230769, 0.99230769]),\n",
              " 'split3_train_score': array([0.99423077, 0.99423077, 0.99423077, 0.99423077, 0.99423077,\n",
              "        0.99423077, 0.99423077, 0.99423077, 0.99423077]),\n",
              " 'split4_test_score': array([0.99615385, 0.99615385, 0.99615385, 0.99615385, 0.99615385,\n",
              "        0.99615385, 0.99615385, 0.99615385, 0.99615385]),\n",
              " 'split4_train_score': array([0.99326923, 0.99326923, 0.99326923, 0.99326923, 0.99326923,\n",
              "        0.99326923, 0.99326923, 0.99326923, 0.99326923]),\n",
              " 'std_fit_time': array([0.00427585, 0.00339551, 0.00491688, 0.00281616, 0.00175932,\n",
              "        0.00238381, 0.00263572, 0.00347318, 0.002827  ]),\n",
              " 'std_score_time': array([0.00022863, 0.00033785, 0.00019509, 0.0002    , 0.00231884,\n",
              "        0.0012056 , 0.00019754, 0.00026213, 0.00029014]),\n",
              " 'std_test_score': array([0.00307692, 0.00307692, 0.00307692, 0.00307692, 0.00307692,\n",
              "        0.00307692, 0.00307692, 0.00307692, 0.00307692]),\n",
              " 'std_train_score': array([0.00076923, 0.00076923, 0.00076923, 0.00076923, 0.00076923,\n",
              "        0.00076923, 0.00076923, 0.00076923, 0.00076923])}"
            ]
          },
          "metadata": {
            "tags": []
          },
          "execution_count": 33
        }
      ]
    },
    {
      "cell_type": "code",
      "metadata": {
        "id": "tO7fMXiGb9nh",
        "colab_type": "code",
        "colab": {
          "base_uri": "https://localhost:8080/",
          "height": 49
        },
        "outputId": "2e553251-b553-4300-9ef7-2dfb912d526d"
      },
      "source": [
        "print(\"best score is {}\".format(gs.best_score_))\n",
        "print(\"best hyper parameter is {}\".format(gs.best_params_))"
      ],
      "execution_count": 75,
      "outputs": [
        {
          "output_type": "stream",
          "text": [
            "best score is 0.9938461538461538\n",
            "best hyper parameter is {'max_depth': 1, 'min_samples_split': 2, 'n_estimators': 100}\n"
          ],
          "name": "stdout"
        }
      ]
    },
    {
      "cell_type": "code",
      "metadata": {
        "id": "H3A56D4UYcSs",
        "colab_type": "code",
        "colab": {}
      },
      "source": [
        "??GridSearchCV"
      ],
      "execution_count": 0,
      "outputs": []
    },
    {
      "cell_type": "markdown",
      "metadata": {
        "id": "MKM4QwYAV7m5",
        "colab_type": "text"
      },
      "source": [
        "### XGBoost"
      ]
    },
    {
      "cell_type": "code",
      "metadata": {
        "id": "Ubb6xPFeRvX9",
        "colab_type": "code",
        "colab": {
          "base_uri": "https://localhost:8080/",
          "height": 118
        },
        "outputId": "9bac363a-d89a-43c4-e82d-7d8478319068"
      },
      "source": [
        "xgb = XGBClassifier(random_state = 123457)\n",
        "xgb.fit(x_train, y_train)\n",
        "\n",
        "xgb_predict = xgb.predict(x_test)\n",
        "print('XGboost Score: {}'.format(accuracy_score(y_test, xgb_predict)))"
      ],
      "execution_count": 44,
      "outputs": [
        {
          "output_type": "stream",
          "text": [
            "/usr/local/lib/python3.6/dist-packages/sklearn/preprocessing/_label.py:235: DataConversionWarning: A column-vector y was passed when a 1d array was expected. Please change the shape of y to (n_samples, ), for example using ravel().\n",
            "  y = column_or_1d(y, warn=True)\n",
            "/usr/local/lib/python3.6/dist-packages/sklearn/preprocessing/_label.py:268: DataConversionWarning: A column-vector y was passed when a 1d array was expected. Please change the shape of y to (n_samples, ), for example using ravel().\n",
            "  y = column_or_1d(y, warn=True)\n"
          ],
          "name": "stderr"
        },
        {
          "output_type": "stream",
          "text": [
            "XGboost Score: 0.9953846153846154\n"
          ],
          "name": "stdout"
        }
      ]
    },
    {
      "cell_type": "code",
      "metadata": {
        "id": "9SlfW56yePjF",
        "colab_type": "code",
        "colab": {
          "base_uri": "https://localhost:8080/",
          "height": 118
        },
        "outputId": "dbedcbd0-0544-49ee-d392-0395cfe916eb"
      },
      "source": [
        "xgb2 = XGBClassifier(max_depth=3, learning_rate=0.1, n_estimators=300)\n",
        "xgb2.fit(x_train, y_train)\n",
        "\n",
        "xgb2_predict = xgb2.predict(x_test)\n",
        "print('XGboost Score: {}'.format(accuracy_score(y_test, xgb2_predict)))"
      ],
      "execution_count": 46,
      "outputs": [
        {
          "output_type": "stream",
          "text": [
            "/usr/local/lib/python3.6/dist-packages/sklearn/preprocessing/_label.py:235: DataConversionWarning: A column-vector y was passed when a 1d array was expected. Please change the shape of y to (n_samples, ), for example using ravel().\n",
            "  y = column_or_1d(y, warn=True)\n",
            "/usr/local/lib/python3.6/dist-packages/sklearn/preprocessing/_label.py:268: DataConversionWarning: A column-vector y was passed when a 1d array was expected. Please change the shape of y to (n_samples, ), for example using ravel().\n",
            "  y = column_or_1d(y, warn=True)\n"
          ],
          "name": "stderr"
        },
        {
          "output_type": "stream",
          "text": [
            "XGboost Score: 0.9961538461538462\n"
          ],
          "name": "stdout"
        }
      ]
    },
    {
      "cell_type": "code",
      "metadata": {
        "id": "AgxQyd-0e5u2",
        "colab_type": "code",
        "colab": {
          "base_uri": "https://localhost:8080/",
          "height": 118
        },
        "outputId": "35a2ca94-f8d2-4da0-d3a6-ee5d6992a13d"
      },
      "source": [
        "xgb3 = XGBClassifier(max_depth=3, learning_rate=0.05, n_estimators=300)\n",
        "xgb3.fit(x_train, y_train)\n",
        "\n",
        "xgb3_predict = xgb3.predict(x_test)\n",
        "print('XGboost Score: {}'.format(accuracy_score(y_test, xgb3_predict)))"
      ],
      "execution_count": 47,
      "outputs": [
        {
          "output_type": "stream",
          "text": [
            "/usr/local/lib/python3.6/dist-packages/sklearn/preprocessing/_label.py:235: DataConversionWarning: A column-vector y was passed when a 1d array was expected. Please change the shape of y to (n_samples, ), for example using ravel().\n",
            "  y = column_or_1d(y, warn=True)\n",
            "/usr/local/lib/python3.6/dist-packages/sklearn/preprocessing/_label.py:268: DataConversionWarning: A column-vector y was passed when a 1d array was expected. Please change the shape of y to (n_samples, ), for example using ravel().\n",
            "  y = column_or_1d(y, warn=True)\n"
          ],
          "name": "stderr"
        },
        {
          "output_type": "stream",
          "text": [
            "XGboost Score: 0.9953846153846154\n"
          ],
          "name": "stdout"
        }
      ]
    },
    {
      "cell_type": "code",
      "metadata": {
        "id": "7Qmu7Zqxf7qY",
        "colab_type": "code",
        "colab": {}
      },
      "source": [
        "??XGBClassifier"
      ],
      "execution_count": 0,
      "outputs": []
    },
    {
      "cell_type": "code",
      "metadata": {
        "id": "06Fa3dizdyBL",
        "colab_type": "code",
        "colab": {
          "base_uri": "https://localhost:8080/",
          "height": 329
        },
        "outputId": "481607ae-3e40-4ccb-c89e-ae78d90a8a20"
      },
      "source": [
        "param_grid={'n_estimator':range(100,1000,100),'max_depth':range(1,10), \"colsample_bytree\" : [ 0.3, 0.4, 0.5 , 0.7,1.0 ] ,\"learning_rate\"    : [0.05, 0.10, 0.15, 0.20, 0.25, 0.30 ]}\n",
        "\n",
        "\n",
        "gs = GridSearchCV(xgb, param_grid=param_grid, return_train_score=True)\n",
        "gs.fit(y_test, xgb_predict)\n",
        "# results = gs.cv_results_"
      ],
      "execution_count": 76,
      "outputs": [
        {
          "output_type": "execute_result",
          "data": {
            "text/plain": [
              "GridSearchCV(cv=None, error_score=nan,\n",
              "             estimator=XGBClassifier(base_score=0.5, booster='gbtree',\n",
              "                                     colsample_bylevel=1, colsample_bynode=1,\n",
              "                                     colsample_bytree=1, gamma=0,\n",
              "                                     learning_rate=0.1, max_delta_step=0,\n",
              "                                     max_depth=3, min_child_weight=1,\n",
              "                                     missing=None, n_estimators=100, n_jobs=1,\n",
              "                                     nthread=None, objective='binary:logistic',\n",
              "                                     random_state=123457, reg_alpha=0,\n",
              "                                     reg_lambda=1, scale_pos_weight=1,\n",
              "                                     seed=None, silent=None, subsample=1,\n",
              "                                     verbosity=1),\n",
              "             iid='deprecated', n_jobs=None,\n",
              "             param_grid={'colsample_bytree': [0.3, 0.4, 0.5, 0.7, 1.0],\n",
              "                         'learning_rate': [0.05, 0.1, 0.15, 0.2, 0.25, 0.3],\n",
              "                         'max_depth': range(1, 10),\n",
              "                         'n_estimator': range(100, 1000, 100)},\n",
              "             pre_dispatch='2*n_jobs', refit=True, return_train_score=True,\n",
              "             scoring=None, verbose=0)"
            ]
          },
          "metadata": {
            "tags": []
          },
          "execution_count": 76
        }
      ]
    },
    {
      "cell_type": "code",
      "metadata": {
        "id": "qb9eypM3d6qn",
        "colab_type": "code",
        "colab": {
          "base_uri": "https://localhost:8080/",
          "height": 49
        },
        "outputId": "075d6277-c1d9-4b7e-a2da-8cfab043b7b1"
      },
      "source": [
        "# results\n",
        "print(\"best score is {}\".format(gs.best_score_))\n",
        "print(\"best hyper parameter is {}\".format(gs.best_params_))"
      ],
      "execution_count": 78,
      "outputs": [
        {
          "output_type": "stream",
          "text": [
            "best score is 0.9938461538461538\n",
            "best hyper parameter is {'max_depth': 1, 'min_samples_split': 2, 'n_estimators': 100}\n"
          ],
          "name": "stdout"
        }
      ]
    },
    {
      "cell_type": "markdown",
      "metadata": {
        "id": "qTjMf_-3qVSE",
        "colab_type": "text"
      },
      "source": [
        "### LightGBM"
      ]
    },
    {
      "cell_type": "code",
      "metadata": {
        "id": "wy72VbvwqeE1",
        "colab_type": "code",
        "colab": {
          "base_uri": "https://localhost:8080/",
          "height": 118
        },
        "outputId": "21047799-bebc-4a78-f676-5b9ce0a947ac"
      },
      "source": [
        "lgbm = LGBMClassifier(random_state = 123457)\n",
        "lgbm.fit(x_train, y_train)\n",
        "\n",
        "lgbm_predict = lgbm.predict(x_test)\n",
        "print('LightGBM Score: {}'.format(accuracy_score(y_test, lgbm_predict)))"
      ],
      "execution_count": 79,
      "outputs": [
        {
          "output_type": "stream",
          "text": [
            "LightGBM Score: 0.9969230769230769\n"
          ],
          "name": "stdout"
        },
        {
          "output_type": "stream",
          "text": [
            "/usr/local/lib/python3.6/dist-packages/sklearn/preprocessing/_label.py:235: DataConversionWarning: A column-vector y was passed when a 1d array was expected. Please change the shape of y to (n_samples, ), for example using ravel().\n",
            "  y = column_or_1d(y, warn=True)\n",
            "/usr/local/lib/python3.6/dist-packages/sklearn/preprocessing/_label.py:268: DataConversionWarning: A column-vector y was passed when a 1d array was expected. Please change the shape of y to (n_samples, ), for example using ravel().\n",
            "  y = column_or_1d(y, warn=True)\n"
          ],
          "name": "stderr"
        }
      ]
    },
    {
      "cell_type": "code",
      "metadata": {
        "id": "WMpKEyAKRyAx",
        "colab_type": "code",
        "colab": {
          "base_uri": "https://localhost:8080/",
          "height": 118
        },
        "outputId": "6cf0f0e4-bd9e-4961-828b-3b00179cf325"
      },
      "source": [
        "lgbm1 = LGBMClassifier(max_depth = 3, random_state = 123457)\n",
        "lgbm1.fit(x_train, y_train)\n",
        "\n",
        "lgbm1_predict = lgbm1.predict(x_test)\n",
        "print('LightGBM Score: {}'.format(accuracy_score(y_test, lgbm1_predict)))"
      ],
      "execution_count": 15,
      "outputs": [
        {
          "output_type": "stream",
          "text": [
            "LightGBM Score: 0.9938461538461538\n"
          ],
          "name": "stdout"
        },
        {
          "output_type": "stream",
          "text": [
            "/usr/local/lib/python3.6/dist-packages/sklearn/preprocessing/_label.py:235: DataConversionWarning: A column-vector y was passed when a 1d array was expected. Please change the shape of y to (n_samples, ), for example using ravel().\n",
            "  y = column_or_1d(y, warn=True)\n",
            "/usr/local/lib/python3.6/dist-packages/sklearn/preprocessing/_label.py:268: DataConversionWarning: A column-vector y was passed when a 1d array was expected. Please change the shape of y to (n_samples, ), for example using ravel().\n",
            "  y = column_or_1d(y, warn=True)\n"
          ],
          "name": "stderr"
        }
      ]
    },
    {
      "cell_type": "code",
      "metadata": {
        "id": "TGC2Z_wERzhZ",
        "colab_type": "code",
        "colab": {}
      },
      "source": [
        "lgbm1 = LGBMClassifier(max_depth = 5, random_state = 123457)\n",
        "lgbm1.fit(x_train, y_train)\n",
        "\n",
        "lgbm1_predict = lgbm1.predict(x_test)\n",
        "print('LightGBM Score: {}'.format(accuracy_score(y_test, lgbm1_predict)))"
      ],
      "execution_count": 0,
      "outputs": []
    }
  ]
}